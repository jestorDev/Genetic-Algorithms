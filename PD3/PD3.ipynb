{
 "cells": [
  {
   "cell_type": "markdown",
   "metadata": {},
   "source": [
    "# Práctica dirigida: Representación y Selección\n",
    "\n",
    "\n",
    "a) Representación del problema (1):\n"
   ]
  },
  {
   "cell_type": "code",
   "execution_count": 1,
   "metadata": {},
   "outputs": [],
   "source": [
    "import random\n",
    "import numpy as np\n",
    "# Funciones para covertir entre \n",
    "# representacion de entrero <> string binario <> string codigo gray\n",
    "# \n",
    "\n",
    "def dec2BinStr(dec: int, len=0):\n",
    "    # 8 =>  \"100\"\n",
    "    a = dec\n",
    "    result = \"\"\n",
    "    if a == 0:\n",
    "        result = \"0\"\n",
    "    while(a > 0):\n",
    "        result = str(a & 1) + result\n",
    "        a = a >> 1\n",
    "\n",
    "    if len != 0:\n",
    "        result = result.zfill(len)\n",
    "    return result\n",
    "\n",
    "def binInt2GrayInt(binInt: int)->int:\n",
    "    # 8 => 12\n",
    "    # debido aque  8= \"1100\" en codigo gray\n",
    "    # y  \"1100\" = 12 en binario\n",
    "    shiftedA = binInt >> 1\n",
    "    return binInt ^ shiftedA\n",
    "\n",
    "def grayInt2BinInt(gray: int):\n",
    "    # 12 => 8\n",
    "    # inverso de la binInt2GrayInt\n",
    "    grayBits = gray\n",
    "    result = gray\n",
    "    while(grayBits > 0):\n",
    "        grayBits = grayBits >> 1\n",
    "        result = result ^ grayBits\n",
    "    return result\n",
    "\n",
    "def dec2GrayStr(dec: int, len = 0):\n",
    "    # 8 => \"1100\"\n",
    "    return dec2BinStr(binInt2GrayInt(dec) , len  )\n",
    "\n",
    "def GrayStr2dec(gray: str):\n",
    "    # \"1100\" => 8\n",
    "    return grayInt2BinInt( Str2Dec(gray) )\n",
    "\n",
    "def Str2Dec (strBin : str):\n",
    "    # \"100\" => 8\n",
    "    # \"1100\" => 12\n",
    "    return  int(strBin, 2)\n",
    "\n",
    "def scaleBinToRange ( bin:int , bin_tam:int, interval : tuple, decimals = 3):\n",
    "    hiR , loR = interval[1] , interval[0]\n",
    "    hiB  =(2**bin_tam)-1\n",
    "    \n",
    "    return  round  (loR + ( bin*((hiR - loR)/(hiB))) , decimals)\n",
    "\n"
   ]
  },
  {
   "cell_type": "code",
   "execution_count": 2,
   "metadata": {},
   "outputs": [
    {
     "data": {
      "text/plain": [
       "12"
      ]
     },
     "execution_count": 2,
     "metadata": {},
     "output_type": "execute_result"
    }
   ],
   "source": [
    "binInt2GrayInt(8)"
   ]
  },
  {
   "cell_type": "markdown",
   "metadata": {},
   "source": [
    "\n",
    "• implemente un programa en python que represente el cromosoma como una cadena binaria de 10 dı́gitos (10 bits) y muestre imprima el Fenotipo y su representación binaria para una población de 10 individuos."
   ]
  },
  {
   "cell_type": "code",
   "execution_count": 3,
   "metadata": {},
   "outputs": [
    {
     "name": "stdout",
     "output_type": "stream",
     "text": [
      " ----------------Cromosomas Binarios----------------\n",
      "Genotipo :  0101010100 ( 340 )  Fenotipo : -3.003\n",
      "Genotipo :  0000101111 ( 47 )  Fenotipo : -3.862\n",
      "Genotipo :  0110010001 ( 401 )  Fenotipo : -2.824\n",
      "Genotipo :  0110101110 ( 430 )  Fenotipo : -2.739\n",
      "Genotipo :  0001110001 ( 113 )  Fenotipo : -3.669\n",
      "Genotipo :  1011010011 ( 723 )  Fenotipo : -1.88\n",
      "Genotipo :  0110100000 ( 416 )  Fenotipo : -2.78\n",
      "Genotipo :  1110111111 ( 959 )  Fenotipo : -1.188\n",
      "Genotipo :  0000100100 ( 36 )  Fenotipo : -3.894\n",
      "Genotipo :  0000101111 ( 47 )  Fenotipo : -3.862\n"
     ]
    }
   ],
   "source": [
    "cantidad = 10\n",
    "tamanio_gen = 10\n",
    "interval = (-4 , -1)\n",
    "poblacion = []\n",
    "for i in range(cantidad):\n",
    "    poblacion.append(random.randint(0,(2**tamanio_gen)-1))\n",
    "    \n",
    "\n",
    "print(\" ----------------Cromosomas Binarios----------------\")\n",
    "for indv in poblacion :\n",
    "    geno = dec2BinStr(indv,len = tamanio_gen)\n",
    "    feno = scaleBinToRange(indv , tamanio_gen , interval)\n",
    "    print( \"Genotipo : \",  geno  , \"(\" ,indv,\")\",\" Fenotipo :\",  feno )\n"
   ]
  },
  {
   "cell_type": "code",
   "execution_count": 4,
   "metadata": {},
   "outputs": [
    {
     "data": {
      "text/plain": [
       "list"
      ]
     },
     "execution_count": 4,
     "metadata": {},
     "output_type": "execute_result"
    }
   ],
   "source": [
    "type(poblacion)"
   ]
  },
  {
   "cell_type": "markdown",
   "metadata": {},
   "source": [
    "• Realizar lo mismo del ı́tem anterior para la representación en código de Gray."
   ]
  },
  {
   "cell_type": "code",
   "execution_count": 5,
   "metadata": {},
   "outputs": [
    {
     "name": "stdout",
     "output_type": "stream",
     "text": [
      " ----------------Cromosomas Codigo gray----------------\n",
      "Genotipo :  0111111110 ( 340 )  Fenotipo : -3.003\n",
      "Genotipo :  0000111000 ( 47 )  Fenotipo : -3.862\n",
      "Genotipo :  0101011001 ( 401 )  Fenotipo : -2.824\n",
      "Genotipo :  0101111001 ( 430 )  Fenotipo : -2.739\n",
      "Genotipo :  0001001001 ( 113 )  Fenotipo : -3.669\n",
      "Genotipo :  1110111010 ( 723 )  Fenotipo : -1.88\n",
      "Genotipo :  0101110000 ( 416 )  Fenotipo : -2.78\n",
      "Genotipo :  1001100000 ( 959 )  Fenotipo : -1.188\n",
      "Genotipo :  0000110110 ( 36 )  Fenotipo : -3.894\n",
      "Genotipo :  0000111000 ( 47 )  Fenotipo : -3.862\n"
     ]
    }
   ],
   "source": [
    "print(\" ----------------Cromosomas Codigo gray----------------\")\n",
    "for indv in poblacion :\n",
    "    geno = dec2GrayStr(indv,len = tamanio_gen)\n",
    "    feno = scaleBinToRange(indv , tamanio_gen , interval)\n",
    "    print( \"Genotipo : \",  geno  , \"(\" ,indv,\")\",\" Fenotipo :\",  feno )\n"
   ]
  },
  {
   "cell_type": "markdown",
   "metadata": {},
   "source": [
    "• Considerando las representaciones anteriores (cadena de 10 bits y representación real) ¿cual seria el tamaño del espacio intrı́nseco?\n",
    "\n",
    "El tamaño es 2**10 = 1024 debido a que se pueden representar valores enteros desde el 0 hasta el 1023\n",
    "\n",
    "\n",
    "b) Representación del problema (2):"
   ]
  },
  {
   "cell_type": "code",
   "execution_count": 6,
   "metadata": {},
   "outputs": [],
   "source": [
    "class Cromosoma:\n",
    "    def __init__(self, len_genes: list , intervals: list, individuals= None ):\n",
    "        if len(len_genes ) != len(intervals): print(\"TAMANIOS E INTERVALOS DIFIEREN EN CANTIDAD\")\n",
    "\n",
    "        self.tamanios = len_genes\n",
    "        self.intervals = intervals\n",
    "        if not individuals:\n",
    "            self.indviduos = [ random.randint(0 , 2**tam -1 ) for tam in len_genes ]\n",
    "        else: \n",
    "            self.indviduos = individuals\n",
    "            \n",
    "    def GensBin (self):\n",
    "        return \"\".join([dec2BinStr(indv , len=tam) for indv , tam in zip( self.indviduos , self.tamanios) ])\n",
    "\n",
    "    def GensGray (self):\n",
    "        return \"\".join([dec2BinStr(indv,tam)  for indv , tam  in zip (self.indviduos ,  self.tamanios) ])\n",
    "\n",
    "    def GenesReal (self):\n",
    "        return self.indviduos\n",
    "\n",
    "    def Fenotipos (self):\n",
    "        return [scaleBinToRange(indv , tam ,  inter )  for indv , tam ,  inter  in zip(self.indviduos , self.tamanios ,self.intervals )]\n",
    "    "
   ]
  },
  {
   "cell_type": "markdown",
   "metadata": {},
   "source": [
    "• implemente un programa en python que represente el cromosoma como una cadena binaria donde x, y estén representados por 5 bits cada uno y luego muestre/imprima el Fenotipo y su representación binaria."
   ]
  },
  {
   "cell_type": "code",
   "execution_count": 7,
   "metadata": {},
   "outputs": [
    {
     "name": "stdout",
     "output_type": "stream",
     "text": [
      "Genotipo:  0000011101  Fenotipo: [0, 29]\n",
      "Genotipo:  0010101111  Fenotipo: [5, 15]\n",
      "Genotipo:  1110011010  Fenotipo: [28, 26]\n",
      "Genotipo:  1011111011  Fenotipo: [23, 27]\n",
      "Genotipo:  0010001111  Fenotipo: [4, 15]\n",
      "Genotipo:  1111001000  Fenotipo: [30, 8]\n",
      "Genotipo:  0001100011  Fenotipo: [3, 3]\n",
      "Genotipo:  1001110111  Fenotipo: [19, 23]\n",
      "Genotipo:  0111000110  Fenotipo: [14, 6]\n",
      "Genotipo:  1100110101  Fenotipo: [25, 21]\n"
     ]
    }
   ],
   "source": [
    "poblacion = []\n",
    "tam_x = 5\n",
    "tam_y = 5\n",
    "intervalx = (-1 , 1) \n",
    "intervaly = (-1 , 1) \n",
    "\n",
    "for _ in range(cantidad):\n",
    "    poblacion.append(Cromosoma([tam_x,tam_y] , [intervalx, intervaly]))\n",
    "\n",
    "for cromo in poblacion:\n",
    "    print(\"Genotipo: \" , cromo.GensBin() , \" Fenotipo:\"  , cromo.indviduos )"
   ]
  },
  {
   "cell_type": "markdown",
   "metadata": {},
   "source": [
    "• Realizar lo mismo del ı́tem anterior para la representación en código de Gray."
   ]
  },
  {
   "cell_type": "code",
   "execution_count": 8,
   "metadata": {},
   "outputs": [
    {
     "name": "stdout",
     "output_type": "stream",
     "text": [
      "Genotipo:  0000011101  Fenotipo: [-1.0, 0.871]\n",
      "Genotipo:  0010101111  Fenotipo: [-0.677, -0.032]\n",
      "Genotipo:  1110011010  Fenotipo: [0.806, 0.677]\n",
      "Genotipo:  1011111011  Fenotipo: [0.484, 0.742]\n",
      "Genotipo:  0010001111  Fenotipo: [-0.742, -0.032]\n",
      "Genotipo:  1111001000  Fenotipo: [0.935, -0.484]\n",
      "Genotipo:  0001100011  Fenotipo: [-0.806, -0.806]\n",
      "Genotipo:  1001110111  Fenotipo: [0.226, 0.484]\n",
      "Genotipo:  0111000110  Fenotipo: [-0.097, -0.613]\n",
      "Genotipo:  1100110101  Fenotipo: [0.613, 0.355]\n"
     ]
    }
   ],
   "source": [
    "for cromo in poblacion:\n",
    "    print(\"Genotipo: \" , cromo.GensGray() , \n",
    "    \" Fenotipo:\"  , cromo.Fenotipos() )"
   ]
  },
  {
   "cell_type": "markdown",
   "metadata": {},
   "source": [
    "• Realizar lo mismo del ı́tem anterior para la representación real."
   ]
  },
  {
   "cell_type": "code",
   "execution_count": 9,
   "metadata": {},
   "outputs": [
    {
     "name": "stdout",
     "output_type": "stream",
     "text": [
      "Genotipo:  [-1.0, 0.871]  Fenotipo: [-1.0, 0.871]\n",
      "Genotipo:  [-0.677, -0.032]  Fenotipo: [-0.677, -0.032]\n",
      "Genotipo:  [0.806, 0.677]  Fenotipo: [0.806, 0.677]\n",
      "Genotipo:  [0.484, 0.742]  Fenotipo: [0.484, 0.742]\n",
      "Genotipo:  [-0.742, -0.032]  Fenotipo: [-0.742, -0.032]\n",
      "Genotipo:  [0.935, -0.484]  Fenotipo: [0.935, -0.484]\n",
      "Genotipo:  [-0.806, -0.806]  Fenotipo: [-0.806, -0.806]\n",
      "Genotipo:  [0.226, 0.484]  Fenotipo: [0.226, 0.484]\n",
      "Genotipo:  [-0.097, -0.613]  Fenotipo: [-0.097, -0.613]\n",
      "Genotipo:  [0.613, 0.355]  Fenotipo: [0.613, 0.355]\n"
     ]
    }
   ],
   "source": [
    "for cromo in poblacion:\n",
    "    print(\"Genotipo: \" , cromo.Fenotipos()  ,\n",
    "     \" Fenotipo:\"  , cromo.Fenotipos() )"
   ]
  },
  {
   "cell_type": "markdown",
   "metadata": {},
   "source": [
    "\n",
    "• Considerando las representaciones anteriores (cadena de 10 bits y representación real) ¿cual\n",
    "seria el tamaño del espacio intrı́nseco?\n",
    "\n",
    "El tamaño seria (2^5)*(2^5) = 1024 ya que podemos representar del 0 al 31 con \"x\" y del mismo modo con \"y\"\n"
   ]
  },
  {
   "cell_type": "markdown",
   "metadata": {},
   "source": [
    "\n",
    "c) Representación del problema (3):\n",
    "• implemente un programa en python que represente el cromosoma como una cadena binaria donde x1 , x2 , x3 , x4 estén representados por 6 bits cada uno y luego muestre/imprima el\n",
    "Fenotipo y su representación binaria."
   ]
  },
  {
   "cell_type": "code",
   "execution_count": 10,
   "metadata": {},
   "outputs": [
    {
     "name": "stdout",
     "output_type": "stream",
     "text": [
      "[(-1, 1), (-1, 1), (-1, 1), (-1, 1), (-1, 1), (-1, 1)]\n"
     ]
    }
   ],
   "source": [
    "intervalx = (-1 , 1) \n",
    "a = [intervalx]*6\n",
    "print(a)"
   ]
  },
  {
   "cell_type": "code",
   "execution_count": 11,
   "metadata": {},
   "outputs": [
    {
     "name": "stdout",
     "output_type": "stream",
     "text": [
      "Genotipo:  111010100000101001001110  Fenotipo: [56.19, 36.381, 43.238, 22.667]\n",
      "Genotipo:  010100101010101111111101  Fenotipo: [27.238, 44.0, 47.81, 58.476]\n",
      "Genotipo:  000010101111010110110100  Fenotipo: [13.524, 47.81, 28.762, 51.619]\n",
      "Genotipo:  110001110001111101001011  Fenotipo: [49.333, 49.333, 58.476, 20.381]\n",
      "Genotipo:  001111101001110010110011  Fenotipo: [23.429, 43.238, 50.095, 50.857]\n",
      "Genotipo:  111000011101001000101000  Fenotipo: [54.667, 34.095, 18.095, 42.476]\n",
      "Genotipo:  101101010100010011010101  Fenotipo: [46.286, 27.238, 26.476, 28.0]\n",
      "Genotipo:  000011010101001110000010  Fenotipo: [14.286, 28.0, 22.667, 13.524]\n",
      "Genotipo:  110101000001101000001010  Fenotipo: [52.381, 12.762, 42.476, 19.619]\n",
      "Genotipo:  101111101000111010111111  Fenotipo: [47.81, 42.476, 56.19, 60.0]\n"
     ]
    }
   ],
   "source": [
    "poblacion = []\n",
    "tam_x = 6\n",
    "intervalx = (12 , 60) \n",
    "\n",
    "for _ in range(cantidad):\n",
    "    poblacion.append(Cromosoma([tam_x]*4 , [intervalx] * 4))\n",
    "\n",
    "for cromo in poblacion:\n",
    "    print(\"Genotipo: \" , cromo.GensBin() , \" Fenotipo:\"  , cromo.Fenotipos() )"
   ]
  },
  {
   "cell_type": "markdown",
   "metadata": {},
   "source": [
    "• Realizar lo mismo del ı́tem anterior para la representación en código de Gray."
   ]
  },
  {
   "cell_type": "code",
   "execution_count": 12,
   "metadata": {},
   "outputs": [
    {
     "name": "stdout",
     "output_type": "stream",
     "text": [
      "Genotipo:  111010100000101001001110  Fenotipo: [56.19, 36.381, 43.238, 22.667]\n",
      "Genotipo:  010100101010101111111101  Fenotipo: [27.238, 44.0, 47.81, 58.476]\n",
      "Genotipo:  000010101111010110110100  Fenotipo: [13.524, 47.81, 28.762, 51.619]\n",
      "Genotipo:  110001110001111101001011  Fenotipo: [49.333, 49.333, 58.476, 20.381]\n",
      "Genotipo:  001111101001110010110011  Fenotipo: [23.429, 43.238, 50.095, 50.857]\n",
      "Genotipo:  111000011101001000101000  Fenotipo: [54.667, 34.095, 18.095, 42.476]\n",
      "Genotipo:  101101010100010011010101  Fenotipo: [46.286, 27.238, 26.476, 28.0]\n",
      "Genotipo:  000011010101001110000010  Fenotipo: [14.286, 28.0, 22.667, 13.524]\n",
      "Genotipo:  110101000001101000001010  Fenotipo: [52.381, 12.762, 42.476, 19.619]\n",
      "Genotipo:  101111101000111010111111  Fenotipo: [47.81, 42.476, 56.19, 60.0]\n"
     ]
    }
   ],
   "source": [
    "for cromo in poblacion:\n",
    "    print(\"Genotipo: \" , cromo.GensGray() , \n",
    "    \" Fenotipo:\"  , cromo.Fenotipos() )"
   ]
  },
  {
   "cell_type": "markdown",
   "metadata": {},
   "source": [
    "• Realizar lo mismo del ı́tem anterior para la representación real."
   ]
  },
  {
   "cell_type": "code",
   "execution_count": 13,
   "metadata": {},
   "outputs": [
    {
     "name": "stdout",
     "output_type": "stream",
     "text": [
      "Genotipo:  [56.19, 36.381, 43.238, 22.667]  Fenotipo: [56.19, 36.381, 43.238, 22.667]\n",
      "Genotipo:  [27.238, 44.0, 47.81, 58.476]  Fenotipo: [27.238, 44.0, 47.81, 58.476]\n",
      "Genotipo:  [13.524, 47.81, 28.762, 51.619]  Fenotipo: [13.524, 47.81, 28.762, 51.619]\n",
      "Genotipo:  [49.333, 49.333, 58.476, 20.381]  Fenotipo: [49.333, 49.333, 58.476, 20.381]\n",
      "Genotipo:  [23.429, 43.238, 50.095, 50.857]  Fenotipo: [23.429, 43.238, 50.095, 50.857]\n",
      "Genotipo:  [54.667, 34.095, 18.095, 42.476]  Fenotipo: [54.667, 34.095, 18.095, 42.476]\n",
      "Genotipo:  [46.286, 27.238, 26.476, 28.0]  Fenotipo: [46.286, 27.238, 26.476, 28.0]\n",
      "Genotipo:  [14.286, 28.0, 22.667, 13.524]  Fenotipo: [14.286, 28.0, 22.667, 13.524]\n",
      "Genotipo:  [52.381, 12.762, 42.476, 19.619]  Fenotipo: [52.381, 12.762, 42.476, 19.619]\n",
      "Genotipo:  [47.81, 42.476, 56.19, 60.0]  Fenotipo: [47.81, 42.476, 56.19, 60.0]\n"
     ]
    }
   ],
   "source": [
    "for cromo in poblacion:\n",
    "    print(\"Genotipo: \" , cromo.Fenotipos()  ,\n",
    "     \" Fenotipo:\"  , cromo.Fenotipos() )"
   ]
  },
  {
   "cell_type": "markdown",
   "metadata": {},
   "source": [
    "• Considerando las representaciones anteriores (cadena de bits, representación real) ¿cual seria el tamaño del espacio intrı́nseco?\n",
    "\n",
    "El tamaño seria (2^6)\\*(2^6)\\*(2^6)*(2^6) = 16777216 ya que podemos representar del 0 al 63 con cada uno de los genes.\n"
   ]
  },
  {
   "cell_type": "code",
   "execution_count": 14,
   "metadata": {},
   "outputs": [
    {
     "data": {
      "text/plain": [
       "16777216"
      ]
     },
     "execution_count": 14,
     "metadata": {},
     "output_type": "execute_result"
    }
   ],
   "source": [
    "(2**6)*(2**6)*(2**6)*(2**6)"
   ]
  },
  {
   "cell_type": "code",
   "execution_count": 17,
   "metadata": {},
   "outputs": [],
   "source": [
    "def mutarBinario(cromo: Cromosoma, rate = 0.01) -> Cromosoma:    \n",
    "    if (random.random()  < rate):\n",
    "        return  mutarCromo(cromo)\n",
    "    return cromo\n",
    "\n",
    "def mutarGray(cromo: Cromosoma, rate = 0.01) -> Cromosoma:\n",
    "    if (random.random()  < rate):\n",
    "        return  mutarCromo(cromo , usingGray=True)\n",
    "    return cromo\n",
    "\n",
    "def mutarCromo ( cromo:Cromosoma ,  usingGray = False):\n",
    "    indRandom = random.randint(0 , len(cromo.indviduos) -1)\n",
    "    idxRandom = random.randint(0 , cromo.tamanios[indRandom]-1)\n",
    "    firstHalf = cromo.indviduos[:indRandom].copy()\n",
    "    medio = [ bitflip(cromo.indviduos[indRandom]  ,  idxRandom , cromo.tamanios[indRandom], usingGray)]\n",
    "    seconHalf = cromo.indviduos[indRandom+1:].copy()\n",
    "    return Cromosoma(cromo.tamanios , cromo.intervals , individuals= firstHalf+ medio + seconHalf)\n",
    "\n",
    "def bitflip(a  : int  , idx : int  , tam : int  , usingGray = False):\n",
    "    stra =   dec2BinStr(a , len = tam) if not usingGray else dec2GrayStr(a , len = tam)\n",
    "    strFlip = stra[:idx]  + (\"1\" if stra[idx]==\"0\" else \"0\")  + stra[ idx+1 :]\n",
    "    numFlip = Str2Dec(strFlip) if not usingGray else GrayStr2dec(strFlip) \n",
    "    return  numFlip\n",
    "\n",
    "\n",
    "\n",
    "def reproducirBinario(cromoA: Cromosoma, cromoB: Cromosoma) -> Cromosoma:\n",
    "    #print (\"Ca\" , isinstance(cromoA , Cromosoma))\n",
    "    #print (\"Cb\" , isinstance(cromoB , Cromosoma))\n",
    "    return reproducirCromo (cromoA, cromoB )\n",
    "\n",
    "def reproducirGray(cromoA: Cromosoma, cromoB: Cromosoma) -> Cromosoma:\n",
    "    return reproducirCromo (cromoA, cromoB , usingGray=True)\n",
    "\n",
    "def reproducirCromo (cromoA: Cromosoma, cromoB: Cromosoma , usingGray =False) -> Cromosoma:\n",
    "    indRandom = random.randint(0 , len(cromoA.indviduos) -1)\n",
    "    idxRandom = random.randint(1 , cromoA.tamanios[indRandom]-2)\n",
    "    \n",
    "    firstHalf = cromoA.indviduos[:indRandom].copy()\n",
    "    medio = [ combinar(cromoA.indviduos[indRandom] , cromoB.indviduos[indRandom] , idxRandom ,cromoA.tamanios[indRandom] , usingGray )]\n",
    "    seconHalf = cromoB.indviduos[indRandom+1:].copy()\n",
    "\n",
    "    return Cromosoma(cromoA.tamanios , cromoA.intervals , individuals= firstHalf+ medio + seconHalf)\n",
    "\n",
    "def combinar (a: int  , b :int  , idx:int  , tam:int , usingGray = False):\n",
    "    str_a =  dec2BinStr(a , len = tam) if not usingGray else dec2GrayStr(a , len = tam)\n",
    "    str_b =  dec2BinStr(b , len = tam) if not usingGray else dec2GrayStr(b , len = tam)\n",
    "    str_comb = str_a[:idx] + str_b[idx:]\n",
    "    numComb = Str2Dec(str_comb) if not usingGray else GrayStr2dec(str_comb) \n",
    "    return numComb \n",
    "\n",
    "\n",
    "def mutarReal(cromo: Cromosoma, rate = 0.01) -> Cromosoma:\n",
    "    if any(   ind > 2**tam  for  ind ,tam in zip(  cromo.indviduos ,cromo.tamanios) ):\n",
    "        print (\"EXESO:\" , cromo.Fenotipos())\n",
    "    if (random.random()  > rate):\n",
    "        return cromo\n",
    "    \n",
    "    idxRandom = random.randint(0 ,  len(cromo.indviduos) -1)\n",
    "    indvNuevo = cromo.indviduos.copy()\n",
    "    indvNuevo[idxRandom] =( indvNuevo[idxRandom] + random.randint(0 , 2**cromo.tamanios[idxRandom])) %  2**cromo.tamanios[idxRandom]\n",
    "\n",
    "    return Cromosoma(cromo.tamanios , cromo.intervals , individuals= indvNuevo)\n",
    "\n",
    "def reproducirReal(cromoA: Cromosoma, cromoB: Cromosoma) -> Cromosoma:\n",
    "    indRandom = random.randint(0 , len(cromoA.indviduos) -1)    \n",
    "    firstHalf = cromoA.indviduos[:indRandom].copy()\n",
    "    medio = [ (cromoA.indviduos[indRandom] +  cromoB.indviduos[indRandom]  //2) % 2**cromo.tamanios[indRandom] ]\n",
    "    seconHalf = cromoB.indviduos[indRandom+1:].copy()\n",
    "    indvNuevo =  firstHalf + medio + seconHalf\n",
    "#    indvNuevo = [ (a+b )//2 for a , b in zip (cromoA.indviduos , cromoB.indviduos)]\n",
    "    return Cromosoma(cromoA.tamanios , cromoA.intervals , individuals=indvNuevo)\n"
   ]
  },
  {
   "cell_type": "code",
   "execution_count": 20,
   "metadata": {},
   "outputs": [
    {
     "name": "stdout",
     "output_type": "stream",
     "text": [
      "11110000\n",
      "1100\n",
      "11111110\n",
      "1110\n"
     ]
    }
   ],
   "source": [
    "# Combinar  255 y  0  \n",
    "print(dec2BinStr(combinar( Str2Dec(\"11111111\") ,Str2Dec(\"00000000\") , idx = 4,tam = 8 , usingGray=False)))\n",
    "# Combinar  10 y 0\n",
    "print(dec2GrayStr(combinar( GrayStr2dec(\"1111\") ,GrayStr2dec(\"0000\") , idx =2,tam=4 , usingGray=True)))\n",
    "\n",
    "\n",
    "# Combinar  255 y  0  \n",
    "print(dec2BinStr( bitflip( Str2Dec(\"11111111\") , idx = 7,tam = 8 , usingGray=False) , len=8))\n",
    "# Combinar  10 y 0\n",
    "print(dec2GrayStr(bitflip( GrayStr2dec(\"1111\") ,idx= 3 ,tam=4 , usingGray=True) , len= 4))\n"
   ]
  },
  {
   "cell_type": "code",
   "execution_count": 21,
   "metadata": {},
   "outputs": [],
   "source": [
    "from math import cos , sin , pi\n",
    "\n",
    "def f1 ( x : int):\n",
    "    return x**4 + 5* x**3 + 4*x**2 - 4 * x +1\n",
    "\n",
    "def f2 ( x : int , y :int):\n",
    "    return  0.2 + x**2 + y**2 - 0.1 * cos(6*pi * x) - 0.1 * sin(6 * pi * y)\n",
    "\n",
    "def f3 ( x1 : int , x2 : int, x3 : int ,x4 : int ):\n",
    "    return  ((1/6.931) - ((x1*x2)/(x3*x4)))**2\n",
    "\n",
    "def getFitness (cromoList : list , fit):\n",
    "    return [ fit(*feno) for feno in [cromo.Fenotipos() for cromo in cromoList] ]\n",
    "\n",
    "def getFitnessReal(cromoList : list , fit ,  transposeValue = 0):\n",
    "    fitness = getFitness(cromoList, fit)\n",
    "    maxFitness = max(fitness)\n",
    "    return [ maxFitness - fit + transposeValue for fit in fitness ]\n"
   ]
  },
  {
   "cell_type": "code",
   "execution_count": 22,
   "metadata": {},
   "outputs": [
    {
     "name": "stdout",
     "output_type": "stream",
     "text": [
      "-5\n",
      "0.1\n",
      "999711.4621669779\n"
     ]
    }
   ],
   "source": [
    "print(f1 (*[-3]))\n",
    "print(f2 (*[0 , 0]))\n",
    "print(f3 (*[1000,1,1,1]))"
   ]
  },
  {
   "cell_type": "code",
   "execution_count": 23,
   "metadata": {},
   "outputs": [],
   "source": [
    "def printList(listI, title ):\n",
    "    # Imprimir lista de elementos\n",
    "    print(title , \"-----------------\")\n",
    "    for ind in listI:\n",
    "        print(\"\\t\" , ind)\n",
    "\n",
    "\n",
    "def sortBy(a : list , b : list , mayoresPrimero = True):\n",
    "    #ordena la primera lista segun la segunda lista\n",
    "    pares  =  [ (ai , bi) for ai,bi in zip(a,b)]\n",
    "    ordenados = sorted(pares , key = lambda x : x[1], reverse=mayoresPrimero)\n",
    "    return  [x[0] for x  in ordenados]\n",
    "\n"
   ]
  },
  {
   "cell_type": "markdown",
   "metadata": {},
   "source": [
    "2. Gestión de la población: de la teorı́a se sabe que los métodos de selección son independientes del método de representación del algoritmo evolutivo, implemente los siguientes métodos de selección en python:\n"
   ]
  },
  {
   "cell_type": "markdown",
   "metadata": {},
   "source": [
    "- método de selección proporcional"
   ]
  },
  {
   "cell_type": "code",
   "execution_count": 24,
   "metadata": {},
   "outputs": [
    {
     "name": "stdout",
     "output_type": "stream",
     "text": [
      "[[[-0.806, 0.097], [0.355, 0.161]], [[-0.355, -0.806], [0.355, 0.161]], [[-0.355, -0.806], [-0.161, -0.097]]]\n"
     ]
    }
   ],
   "source": [
    "def seleccionProporcional(cromos: list, f, transpose_Value=0.0000001, mayoresPrimero=True):    \n",
    "    fitness = getFitnessReal(cromos ,  f)\n",
    "    sumFitness = sum(fitness)\n",
    "    if (sumFitness != 0): \n",
    "        probab = [round(fit/sumFitness, 2) for fit in fitness]\n",
    "        #print( \"F: \", fitness , \" Prob: \" , probab , \"S : \" , sumFitness)\n",
    "    else: \n",
    "        #print(\"Fitness 0\")\n",
    "        #print(fitness , \"S : \" , sumFitness)\n",
    "        probab =  [1/len(cromos) ] * len(cromos)\n",
    "\n",
    "    #print (\"F: \" , fitness , \"\\nC : \" , fenos ,\"\\nP: \" , probab )\n",
    "    return cromos, probab\n",
    "\n",
    "\n",
    "def selecionarPares(nPares: int, population: list, fitness,metodoSeleccion):\n",
    "\n",
    "    orderPop, probabilidades = metodoSeleccion(population, fitness)\n",
    "    paresSelectos = []\n",
    "    for _ in range(nPares):\n",
    "        paresSelectos.append(\n",
    "            random.choices(\n",
    "                population=orderPop,\n",
    "                weights=probabilidades,\n",
    "                k=2)\n",
    "        )\n",
    "    return paresSelectos\n",
    "\n",
    "poblacion = []\n",
    "tam_x = 5\n",
    "tam_y = 5\n",
    "intervalx = (-1 , 1) \n",
    "intervaly = (-1 , 1) \n",
    "\n",
    "for _ in range(cantidad):\n",
    "    poblacion.append(Cromosoma([tam_x,tam_y] , [intervalx, intervaly]))\n",
    "\n",
    "\n",
    "print([\n",
    "    [a.Fenotipos() , b.Fenotipos()]  for a, b in \n",
    "    selecionarPares (\n",
    "        3 ,\n",
    "        poblacion , \n",
    "        lambda x,y : x**2-10  + y**2-10,\n",
    "        seleccionProporcional )])\n",
    "\n"
   ]
  },
  {
   "cell_type": "markdown",
   "metadata": {},
   "source": [
    "- método de selección basada en ranking lineal"
   ]
  },
  {
   "cell_type": "code",
   "execution_count": 25,
   "metadata": {},
   "outputs": [
    {
     "name": "stdout",
     "output_type": "stream",
     "text": [
      "[[[-0.806, 0.097], [-0.806, -0.548]], [[-0.161, -0.097], [0.613, 0.29]], [[-0.806, 0.097], [-0.806, -0.548]]]\n"
     ]
    }
   ],
   "source": [
    "def seleccionRankingLineal (cromos:list , f ,transpose_Value =0 ,mayoresPrimero = True , presionSeleccion = 1.5 ):    \n",
    "    fitness = getFitnessReal(cromos , f )\n",
    "\n",
    "    mu = len (cromos)\n",
    "    s = presionSeleccion\n",
    "    \n",
    "    cromoOrdenado = sortBy(cromos , fitness , mayoresPrimero=False)\n",
    "    #fenoOrdenado = sortBy(fenos, fitness , mayoresPrimero=False)\n",
    "    #fitordenado  = sortBy(fitness, fitness , mayoresPrimero=False)\n",
    "\n",
    "    probab = [\n",
    "        float((2- s) / mu)  + ( (2*i *(s-1))/(mu * (mu-1))) \n",
    "        for i in range(mu)]\n",
    "    \n",
    "    #print (\"F: \" , fitordenado , \"\\nC : \" , fenoOrdenado ,\"\\nP: \" , probab )\n",
    "    \n",
    "    return cromoOrdenado , probab\n",
    "\n",
    "\n",
    "print([\n",
    "    [a.Fenotipos() , b.Fenotipos()]  for a, b in \n",
    "    selecionarPares (\n",
    "        3 ,\n",
    "        poblacion , \n",
    "        lambda x,y : x**2-10  + y**2-10,\n",
    "        seleccionRankingLineal )])\n"
   ]
  },
  {
   "cell_type": "markdown",
   "metadata": {},
   "source": [
    "- método de torneo"
   ]
  },
  {
   "cell_type": "code",
   "execution_count": 26,
   "metadata": {},
   "outputs": [
    {
     "name": "stdout",
     "output_type": "stream",
     "text": [
      "[[[-0.161, -0.097], [-0.806, 0.097]], [[-0.161, -0.097], [0.613, 0.29]], [[-0.161, -0.097], [0.355, 0.161]]]\n"
     ]
    }
   ],
   "source": [
    "\n",
    "def seleccionTorneo (cromos:list , f,  kontestants = 5 ):\n",
    "    candidatos = random.choices(population=cromos,k=kontestants)    \n",
    "    fitn =  getFitnessReal(candidatos , f )\n",
    "    ### Mayores primero debe ser true para que [0] sea el mayor\n",
    "    campeon = sortBy(candidatos,fitn , mayoresPrimero=True)[0]\n",
    "    return campeon\n",
    "\n",
    "def parSeleccionTorneo (cromos:list , f,  kontestants = 5 ):\n",
    "    parSeleccionado = []\n",
    "    for i in range (2):\n",
    "        parSeleccionado.append(seleccionTorneo(cromos , f , kontestants))\n",
    "    return parSeleccionado\n",
    "\n",
    "def selecionarParesTorneo(nPares: int, population: list, fitness):\n",
    "    paresSelectos = []\n",
    "    for _ in range(nPares):        \n",
    "        paresSelectos.append(\n",
    "            parSeleccionTorneo( population , fitness )\n",
    "        )\n",
    "    return paresSelectos\n",
    "\n",
    "\n",
    "print([\n",
    "    [a.Fenotipos() , b.Fenotipos()]  for a, b in \n",
    "    selecionarParesTorneo (\n",
    "        3 ,\n",
    "        poblacion , \n",
    "        lambda x,y : x**2-10  + y**2-10)])\n"
   ]
  },
  {
   "cell_type": "markdown",
   "metadata": {},
   "source": [
    "- método de selección uniforme"
   ]
  },
  {
   "cell_type": "code",
   "execution_count": 27,
   "metadata": {},
   "outputs": [
    {
     "name": "stdout",
     "output_type": "stream",
     "text": [
      "[[[-0.806, 0.097], [-0.355, -0.806]], [[-0.806, 0.097], [-0.161, -0.097]], [[0.613, 0.29], [-0.161, -0.097]]]\n"
     ]
    }
   ],
   "source": [
    "def seleccionUniforme (cromos:list , f ,transpose_Value =0 ,mayoresPrimero = True , presionSeleccion = 1.5 ):\n",
    "    mu = len(cromos)\n",
    "    probab = [1/mu]*mu\n",
    "\n",
    "    return cromos , probab\n",
    "\n",
    "print([\n",
    "    [a.Fenotipos() , b.Fenotipos()]  for a, b in \n",
    "    selecionarPares (\n",
    "        3 ,\n",
    "        poblacion , \n",
    "        lambda x,y : x**2-10  + y**2-10,\n",
    "        seleccionRankingLineal )])\n"
   ]
  },
  {
   "cell_type": "markdown",
   "metadata": {},
   "source": [
    "- método de la ruleta"
   ]
  },
  {
   "cell_type": "code",
   "execution_count": 28,
   "metadata": {},
   "outputs": [
    {
     "name": "stdout",
     "output_type": "stream",
     "text": [
      "[[[-0.161, -0.097], [-0.161, -0.097]], [[-0.806, 0.097], [-0.032, -0.935]], [[0.355, 0.161], [0.613, 0.29]]]\n"
     ]
    }
   ],
   "source": [
    "def seleccionRuleta(nPares: int, population: list, fitness,metodoSeleccion):\n",
    "    orderPop, probabilidades = metodoSeleccion(population, fitness)\n",
    "    paresSelectos = []\n",
    "\n",
    "    rangesProb  = list(np.cumsum(probabilidades))\n",
    "\n",
    "    #print ( \"Ranges: \" , rangesProb)\n",
    "    for _ in range (nPares):\n",
    "        par  = []\n",
    "        for _ in range (2):\n",
    "            pointer = random.random()\n",
    "            idx  = 0 \n",
    "            while idx  < len(rangesProb) and rangesProb[idx] < pointer : idx += 1\n",
    "            #print(\"p :\" , pointer , \"idx :\" , idx  , \" tam : \" ,  len( rangesProb))\n",
    "            #print( \"IDX seleccionado: \" , idx , \"Max :\" , len(orderPop) )\n",
    "            par.append(orderPop[idx%len( rangesProb)])\n",
    "        paresSelectos.append(par)\n",
    "\n",
    "    return paresSelectos\n",
    "\n",
    "\n",
    "\n",
    "\n",
    "print([\n",
    "    [a.Fenotipos() , b.Fenotipos()]  for a, b in \n",
    "    seleccionRuleta (\n",
    "        3 ,\n",
    "        poblacion , \n",
    "        lambda x,y : x**2-10  + y**2-10,\n",
    "        seleccionProporcional )])\n"
   ]
  },
  {
   "cell_type": "markdown",
   "metadata": {},
   "source": [
    "seleccionRuleta acepta  [ seleccionProporcional , seleccion rankinlineal , seleccionUniforme]-> lista de pares cromosomas \n",
    "\n",
    "selecionarPares acepta  [ seleccionProporcional , seleccion rankinlineal , seleccionUniforme] -> lista de pares cromosomas\n",
    "\n",
    "selecionarParesTorneo -> lista de pares cromosomas"
   ]
  },
  {
   "cell_type": "markdown",
   "metadata": {},
   "source": [
    "3. Evaluación de la intensidad de selección: para los problemas planteados en la pregunta (1) evaluar la presión de selección considerando los siguientes casos."
   ]
  },
  {
   "cell_type": "code",
   "execution_count": 29,
   "metadata": {},
   "outputs": [
    {
     "name": "stdout",
     "output_type": "stream",
     "text": [
      "[3, 5, 1]\n"
     ]
    }
   ],
   "source": [
    "\n",
    "import statistics\n",
    "\n",
    "\n",
    "\n",
    "def intensidadDeSeleccion (genPrev:list , genActual : list , fitness ):\n",
    "    prevFit  = getFitnessReal(genPrev , fitness)\n",
    "    actFit = getFitnessReal(genActual , fitness)\n",
    "    meanPrev =  statistics.mean( prevFit)\n",
    "    meanAct  =  statistics.mean( actFit)\n",
    "    stdPrev = statistics.stdev(prevFit)\n",
    "    if stdPrev != 0:\n",
    "        intesidad  = (meanAct - meanPrev) / stdPrev\n",
    "    else : intesidad = 0\n",
    "    return intesidad\n",
    "\n",
    "\n",
    "def reproducir(listaDePares : list , metodoDeReproduccion )-> list:\n",
    "    return  [ metodoDeReproduccion(a ,b ) for a , b in listaDePares]\n",
    "\n",
    "\n",
    "print (reproducir([[1,2] , [2,3] , [-1 ,2] ] , lambda x , y : x+y ) )\n",
    "\n"
   ]
  },
  {
   "cell_type": "markdown",
   "metadata": {},
   "source": [
    "a) Para el primer caso (ecuación 1) considerar la representación binaria, una población inicial 15 individuos del cual debe seleccionar 10 padres y crear 10 descendientes, una taza de cruce de 0.8, una tasa de mutación de 0.01, donde el cruce y la mutación son seleccionadas de forma aleatoria (Usando los mismos criterios del ejemplo mostrado en Colab-note) realizar lo siguiente:"
   ]
  },
  {
   "cell_type": "code",
   "execution_count": 30,
   "metadata": {},
   "outputs": [
    {
     "name": "stdout",
     "output_type": "stream",
     "text": [
      "Minimo real =  -5.0196463413513275  en  : f( -2.960299999997806\n"
     ]
    }
   ],
   "source": [
    "### Respuesta verdadera\n",
    "imin =  0 \n",
    "min = 10000.0\n",
    "for i in list(np.arange(-4.0, -1.0, 0.0001)):\n",
    "    if (f1(i)  < min):\n",
    "        imin = i\n",
    "        min =f1(i) \n",
    "print (\"Minimo real = \" , min , \" en  : f(\" ,imin ,   )\n"
   ]
  },
  {
   "cell_type": "code",
   "execution_count": 31,
   "metadata": {},
   "outputs": [],
   "source": [
    "resultadosBin = {}"
   ]
  },
  {
   "cell_type": "code",
   "execution_count": 32,
   "metadata": {},
   "outputs": [
    {
     "name": "stdout",
     "output_type": "stream",
     "text": [
      "it  0 Minimo obtenido =  3.4696156756250005  en  : f( [-1.645] )\n",
      "it  10 Minimo obtenido =  -4.914965474374995  en  : f( [-2.865] )\n",
      "it  20 Minimo obtenido =  -4.914965474374995  en  : f( [-2.865] )\n",
      "it  30 Minimo obtenido =  -4.914965474374995  en  : f( [-2.865] )\n",
      "it  40 Minimo obtenido =  -4.914965474374995  en  : f( [-2.865] )\n",
      "it  50 Minimo obtenido =  -4.914965474374995  en  : f( [-2.865] )\n",
      "it  60 Minimo obtenido =  -4.914965474374995  en  : f( [-2.865] )\n",
      "it  70 Minimo obtenido =  -4.914965474374995  en  : f( [-2.865] )\n",
      "it  80 Minimo obtenido =  -4.914965474374995  en  : f( [-2.865] )\n",
      "it  90 Minimo obtenido =  -4.914965474374995  en  : f( [-2.865] )\n",
      "Minimo obtenido =  -4.914965474374995  en  : f( [-2.865] )\n"
     ]
    }
   ],
   "source": [
    "gen_len  = 10\n",
    "intervalx = (-4 , -1)\n",
    "tamanio_poblacion  = 15\n",
    "\n",
    "poblacion = [ Cromosoma([gen_len] , [intervalx]) for _ in range (15)]\n",
    "iterations  = 100\n",
    "fitnes = f1\n",
    "\n",
    "metodoDeSeleccion = seleccionProporcional\n",
    "metodoDeReproduccio = reproducirBinario\n",
    "metodoDeMutacion  = mutarBinario\n",
    "metodoFiltro = seleccionTorneo\n",
    "\n",
    "intensidades = []\n",
    "\n",
    "for it in range (iterations):\n",
    "    padresSeleccionados = selecionarPares(10 , poblacion , fitnes , metodoDeSeleccion)\n",
    "    hijos  = reproducir(padresSeleccionados ,metodoDeReproduccio )\n",
    "    hijos  = [ metodoDeMutacion (hijo) for hijo in hijos ]\n",
    "    intensidades.append( intensidadDeSeleccion(poblacion, hijos, fitnes))\n",
    "    poblacion.extend(hijos)\n",
    "    poblacion = [ metodoFiltro(poblacion , fitnes , kontestants=2) for _ in range (15) ]\n",
    "\n",
    "    #if intensidades[-1]== 0 :\n",
    "    #    break\n",
    "\n",
    "    if (it  % 10 == 0 ) :\n",
    "        optimo= poblacion[0]\n",
    "        print (\"it \" , it , \"Minimo obtenido = \" , fitnes ( *optimo.Fenotipos()) , \" en  : f(\" , optimo.Fenotipos(), \")\"  )\n",
    "\n",
    "    \n",
    "optimo = poblacion[0]    \n",
    "\n",
    "print (\"Minimo obtenido = \" , fitnes ( *optimo.Fenotipos()) , \" en  : f(\" , optimo.Fenotipos(), \")\"  )\n",
    "\n",
    "resultadosBin[\"proporcional\"] =  (fitnes ( *optimo.Fenotipos()) ,  optimo.Fenotipos().copy() ,  intensidades.copy())\n"
   ]
  },
  {
   "cell_type": "code",
   "execution_count": 33,
   "metadata": {},
   "outputs": [
    {
     "data": {
      "text/plain": [
       "[<matplotlib.lines.Line2D at 0x7f91accb40d0>]"
      ]
     },
     "execution_count": 33,
     "metadata": {},
     "output_type": "execute_result"
    },
    {
     "data": {
      "image/png": "[encoded data removed]",
      "text/plain": [
       "<Figure size 432x288 with 1 Axes>"
      ]
     },
     "metadata": {
      "needs_background": "light"
     },
     "output_type": "display_data"
    }
   ],
   "source": [
    "import matplotlib.pyplot as plt\n",
    "\n",
    "plt.plot( list (range (len(intensidades)))[:100] , intensidades[:100],)"
   ]
  },
  {
   "cell_type": "code",
   "execution_count": 34,
   "metadata": {},
   "outputs": [
    {
     "name": "stdout",
     "output_type": "stream",
     "text": [
      "it  0 Minimo obtenido =  -0.0515051984390027  en  : f( [-3.513] )\n",
      "it  10 Minimo obtenido =  -5.019610018864013  en  : f( [-2.962] )\n",
      "it  20 Minimo obtenido =  -5.019610018864013  en  : f( [-2.962] )\n",
      "it  30 Minimo obtenido =  -5.019610018864013  en  : f( [-2.962] )\n",
      "it  40 Minimo obtenido =  -5.019610018864013  en  : f( [-2.962] )\n",
      "it  50 Minimo obtenido =  -5.019610018864013  en  : f( [-2.962] )\n",
      "it  60 Minimo obtenido =  -5.019610018864013  en  : f( [-2.962] )\n",
      "it  70 Minimo obtenido =  -5.019610018864013  en  : f( [-2.962] )\n",
      "it  80 Minimo obtenido =  -5.019610018864013  en  : f( [-2.962] )\n",
      "it  90 Minimo obtenido =  -5.019610018864013  en  : f( [-2.962] )\n",
      "Minimo obtenido =  -5.019610018864013  en  : f( [-2.962] )\n"
     ]
    }
   ],
   "source": [
    "gen_len  = 10\n",
    "intervalx = (-4 , -1)\n",
    "tamanio_poblacion  = 15\n",
    "\n",
    "poblacion = [ Cromosoma([gen_len] , [intervalx]) for _ in range (15)]\n",
    "iterations  = 100\n",
    "fitnes = f1\n",
    "\n",
    "metodoDeSeleccion = seleccionRankingLineal\n",
    "metodoDeReproduccio = reproducirBinario\n",
    "metodoDeMutacion  = mutarBinario\n",
    "metodoFiltro = seleccionTorneo\n",
    "\n",
    "intensidades = []\n",
    "\n",
    "for it in range (iterations):\n",
    "    padresSeleccionados = selecionarPares(10 , poblacion , fitnes , metodoDeSeleccion)\n",
    "    hijos  = reproducir(padresSeleccionados ,metodoDeReproduccio )\n",
    "    hijos  = [ metodoDeMutacion (hijo) for hijo in hijos ]\n",
    "    intensidades.append( intensidadDeSeleccion(poblacion, hijos, fitnes))\n",
    "    poblacion.extend(hijos)\n",
    "    poblacion = [ metodoFiltro(poblacion , fitnes , kontestants=2) for _ in range (15) ]\n",
    "\n",
    "    #if intensidades[-1]== 0 :\n",
    "    #    break\n",
    "\n",
    "    if (it  % 10 == 0 ) :\n",
    "        optimo= poblacion[0]\n",
    "        print (\"it \" , it , \"Minimo obtenido = \" , fitnes ( *optimo.Fenotipos()) , \" en  : f(\" , optimo.Fenotipos(), \")\"  )\n",
    "\n",
    "    \n",
    "optimo = poblacion[0]    \n",
    "\n",
    "print (\"Minimo obtenido = \" , fitnes ( *optimo.Fenotipos()) , \" en  : f(\" , optimo.Fenotipos(), \")\"  )\n",
    "\n",
    "resultadosBin[\"lineal\"] =  (fitnes ( *optimo.Fenotipos()) ,  optimo.Fenotipos().copy() ,  intensidades.copy())\n"
   ]
  },
  {
   "cell_type": "code",
   "execution_count": 35,
   "metadata": {},
   "outputs": [
    {
     "data": {
      "text/plain": [
       "[<matplotlib.lines.Line2D at 0x7f91aabb03d0>]"
      ]
     },
     "execution_count": 35,
     "metadata": {},
     "output_type": "execute_result"
    },
    {
     "data": {
      "image/png": "[encoded data removed]",
      "text/plain": [
       "<Figure size 432x288 with 1 Axes>"
      ]
     },
     "metadata": {
      "needs_background": "light"
     },
     "output_type": "display_data"
    }
   ],
   "source": [
    "import matplotlib.pyplot as plt\n",
    "plt.plot( list (range (len(intensidades)))[:100] , intensidades[:100],)"
   ]
  },
  {
   "cell_type": "code",
   "execution_count": 36,
   "metadata": {},
   "outputs": [
    {
     "name": "stdout",
     "output_type": "stream",
     "text": [
      "it  0 Minimo obtenido =  -1.2914754890239948  en  : f( [-2.276] )\n",
      "it  10 Minimo obtenido =  -3.833075132999001  en  : f( [-3.249] )\n",
      "it  20 Minimo obtenido =  -4.908461830063999  en  : f( [-2.862] )\n",
      "it  30 Minimo obtenido =  -4.908461830063999  en  : f( [-2.862] )\n",
      "it  40 Minimo obtenido =  -4.908461830063999  en  : f( [-2.862] )\n",
      "it  50 Minimo obtenido =  -4.908461830063999  en  : f( [-2.862] )\n",
      "it  60 Minimo obtenido =  -4.908461830063999  en  : f( [-2.862] )\n",
      "it  70 Minimo obtenido =  -4.908461830063999  en  : f( [-2.862] )\n",
      "it  80 Minimo obtenido =  -4.908461830063999  en  : f( [-2.862] )\n",
      "it  90 Minimo obtenido =  -4.908461830063999  en  : f( [-2.862] )\n",
      "Minimo obtenido =  -4.908461830063999  en  : f( [-2.862] )\n"
     ]
    }
   ],
   "source": [
    "gen_len  = 10\n",
    "intervalx = (-4 , -1)\n",
    "tamanio_poblacion  = 15\n",
    "\n",
    "poblacion = [ Cromosoma([gen_len] , [intervalx]) for _ in range (15)]\n",
    "iterations  = 100\n",
    "fitnes = f1\n",
    "\n",
    "metodoDeReproduccio = reproducirBinario\n",
    "metodoDeMutacion  = mutarBinario\n",
    "metodoFiltro = seleccionTorneo\n",
    "\n",
    "intensidades = []\n",
    "\n",
    "for it in range (iterations):\n",
    "    #padresSeleccionados = selecionarPares(10 , poblacion , fitnes , metodoDeSeleccion)\n",
    "    padresSeleccionados = selecionarParesTorneo(10 , poblacion , fitnes)\n",
    "\n",
    "    hijos  = reproducir(padresSeleccionados ,metodoDeReproduccio )\n",
    "    hijos  = [ metodoDeMutacion (hijo) for hijo in hijos ]\n",
    "    intensidades.append( intensidadDeSeleccion(poblacion, hijos, fitnes))\n",
    "    poblacion.extend(hijos)\n",
    "    poblacion = [ metodoFiltro(poblacion , fitnes , kontestants=2) for _ in range (15) ]\n",
    "\n",
    "    #if intensidades[-1]== 0 :\n",
    "    #    break\n",
    "\n",
    "    if (it  % 10 == 0 ) :\n",
    "        optimo= poblacion[0]\n",
    "        print (\"it \" , it , \"Minimo obtenido = \" , fitnes ( *optimo.Fenotipos()) , \" en  : f(\" , optimo.Fenotipos(), \")\"  )\n",
    "\n",
    "    \n",
    "optimo = poblacion[0]    \n",
    "\n",
    "print (\"Minimo obtenido = \" , fitnes ( *optimo.Fenotipos()) , \" en  : f(\" , optimo.Fenotipos(), \")\"  )\n",
    "\n",
    "\n",
    "resultadosBin[\"torneo\"] =  (fitnes ( *optimo.Fenotipos()) ,  optimo.Fenotipos().copy() ,  intensidades.copy())\n"
   ]
  },
  {
   "cell_type": "code",
   "execution_count": 37,
   "metadata": {},
   "outputs": [
    {
     "data": {
      "text/plain": [
       "[<matplotlib.lines.Line2D at 0x7f91aab15c10>]"
      ]
     },
     "execution_count": 37,
     "metadata": {},
     "output_type": "execute_result"
    },
    {
     "data": {
      "image/png": "[encoded data removed]",
      "text/plain": [
       "<Figure size 432x288 with 1 Axes>"
      ]
     },
     "metadata": {
      "needs_background": "light"
     },
     "output_type": "display_data"
    }
   ],
   "source": [
    "from  matplotlib.pyplot  import plot \n",
    "plot( list (range (len(intensidades)))[:100] , intensidades[:100],)"
   ]
  },
  {
   "cell_type": "code",
   "execution_count": 38,
   "metadata": {},
   "outputs": [
    {
     "name": "stdout",
     "output_type": "stream",
     "text": [
      "it  0 Minimo obtenido =  -3.1778168207840025  en  : f( [-3.314] )\n",
      "it  10 Minimo obtenido =  -4.908461830063999  en  : f( [-2.862] )\n",
      "it  20 Minimo obtenido =  -4.908461830063999  en  : f( [-2.862] )\n",
      "it  30 Minimo obtenido =  -4.908461830063999  en  : f( [-2.862] )\n",
      "it  40 Minimo obtenido =  -4.908461830063999  en  : f( [-2.862] )\n",
      "it  50 Minimo obtenido =  -4.908461830063999  en  : f( [-2.862] )\n",
      "it  60 Minimo obtenido =  -4.908461830063999  en  : f( [-2.862] )\n",
      "it  70 Minimo obtenido =  -4.908461830063999  en  : f( [-2.862] )\n",
      "it  80 Minimo obtenido =  -4.908461830063999  en  : f( [-2.862] )\n",
      "it  90 Minimo obtenido =  -4.908461830063999  en  : f( [-2.862] )\n",
      "Minimo obtenido =  -4.933362584624009  en  : f( [-2.874] )\n"
     ]
    }
   ],
   "source": [
    "gen_len  = 10\n",
    "intervalx = (-4 , -1)\n",
    "tamanio_poblacion  = 15\n",
    "\n",
    "poblacion = [ Cromosoma([gen_len] , [intervalx]) for _ in range (15)]\n",
    "iterations  = 100\n",
    "fitnes = f1\n",
    "\n",
    "metodoDeSeleccion = seleccionUniforme\n",
    "metodoDeReproduccio = reproducirBinario\n",
    "metodoDeMutacion  = mutarBinario\n",
    "metodoFiltro = seleccionTorneo\n",
    "\n",
    "intensidades = []\n",
    "\n",
    "for it in range (iterations):\n",
    "    padresSeleccionados = selecionarPares(10 , poblacion , fitnes , metodoDeSeleccion)\n",
    "    hijos  = reproducir(padresSeleccionados ,metodoDeReproduccio )\n",
    "    hijos  = [ metodoDeMutacion (hijo) for hijo in hijos ]\n",
    "    intensidades.append( intensidadDeSeleccion(poblacion, hijos, fitnes))\n",
    "    poblacion.extend(hijos)\n",
    "    poblacion = [ metodoFiltro(poblacion , fitnes , kontestants=2) for _ in range (15) ]\n",
    "\n",
    "    #if intensidades[-1]== 0 :\n",
    "    #    break\n",
    "\n",
    "    if (it  % 10 == 0 ) :\n",
    "        optimo= poblacion[0]\n",
    "        print (\"it \" , it , \"Minimo obtenido = \" , fitnes ( *optimo.Fenotipos()) , \" en  : f(\" , optimo.Fenotipos(), \")\"  )\n",
    "\n",
    "    \n",
    "optimo = poblacion[0]    \n",
    "\n",
    "print (\"Minimo obtenido = \" , fitnes ( *optimo.Fenotipos()) , \" en  : f(\" , optimo.Fenotipos(), \")\"  )\n",
    "\n",
    "resultadosBin[\"uniforme\"] =  (fitnes ( *optimo.Fenotipos()) ,  optimo.Fenotipos().copy() ,  intensidades.copy())\n"
   ]
  },
  {
   "cell_type": "code",
   "execution_count": 39,
   "metadata": {},
   "outputs": [
    {
     "data": {
      "text/plain": [
       "[<matplotlib.lines.Line2D at 0x7f91aaaf98b0>]"
      ]
     },
     "execution_count": 39,
     "metadata": {},
     "output_type": "execute_result"
    },
    {
     "data": {
      "image/png": "[encoded data removed]",
      "text/plain": [
       "<Figure size 432x288 with 1 Axes>"
      ]
     },
     "metadata": {
      "needs_background": "light"
     },
     "output_type": "display_data"
    }
   ],
   "source": [
    "from  matplotlib.pyplot  import plot \n",
    "plot( list (range (len(intensidades)))[:100] , intensidades[:100],)"
   ]
  },
  {
   "cell_type": "code",
   "execution_count": 40,
   "metadata": {},
   "outputs": [
    {
     "name": "stdout",
     "output_type": "stream",
     "text": [
      "it  0 Minimo obtenido =  -0.9736356412640017  en  : f( [-2.238] )\n",
      "it  10 Minimo obtenido =  -4.827855790000008  en  : f( [-2.83] )\n",
      "it  20 Minimo obtenido =  -4.827855790000008  en  : f( [-2.83] )\n",
      "it  30 Minimo obtenido =  -4.844505213184002  en  : f( [-2.836] )\n",
      "it  40 Minimo obtenido =  -4.852568068758993  en  : f( [-2.839] )\n",
      "it  50 Minimo obtenido =  -4.852568068758993  en  : f( [-2.839] )\n",
      "it  60 Minimo obtenido =  -4.908461830063999  en  : f( [-2.862] )\n",
      "it  70 Minimo obtenido =  -4.908461830063999  en  : f( [-2.862] )\n",
      "it  80 Minimo obtenido =  -4.908461830063999  en  : f( [-2.862] )\n",
      "it  90 Minimo obtenido =  -4.908461830063999  en  : f( [-2.862] )\n",
      "Minimo obtenido =  -4.908461830063999  en  : f( [-2.862] )\n"
     ]
    }
   ],
   "source": [
    "gen_len  = 10\n",
    "intervalx = (-4 , -1)\n",
    "tamanio_poblacion  = 15\n",
    "\n",
    "poblacion = [ Cromosoma([gen_len] , [intervalx]) for _ in range (15)]\n",
    "iterations  = 100\n",
    "fitnes = f1\n",
    "\n",
    "#metodoDeSeleccion = seleccionUniforme\n",
    "metodoDeReproduccio = reproducirBinario\n",
    "metodoDeMutacion  = mutarBinario\n",
    "metodoFiltro = seleccionTorneo\n",
    "\n",
    "intensidades = []\n",
    "\n",
    "for it in range (iterations):\n",
    "    #padresSeleccionados = selecionarPares(10 , poblacion , fitnes , metodoDeSeleccion)\n",
    "    padresSeleccionados = seleccionRuleta(10 , poblacion , fitnes, seleccionProporcional)\n",
    "    hijos  = reproducir(padresSeleccionados ,metodoDeReproduccio )\n",
    "    hijos  = [ metodoDeMutacion (hijo) for hijo in hijos ]\n",
    "    intensidades.append( intensidadDeSeleccion(poblacion, hijos, fitnes))\n",
    "    poblacion.extend(hijos)\n",
    "    poblacion = [ metodoFiltro(poblacion , fitnes , kontestants=2) for _ in range (15) ]\n",
    "\n",
    "    #if intensidades[-1]== 0 :\n",
    "    #    break\n",
    "\n",
    "    if (it  % 10 == 0 ) :\n",
    "        optimo= poblacion[0]\n",
    "        print (\"it \" , it , \"Minimo obtenido = \" , fitnes ( *optimo.Fenotipos()) , \" en  : f(\" , optimo.Fenotipos(), \")\"  )\n",
    "\n",
    "    \n",
    "optimo = poblacion[0]    \n",
    "\n",
    "print (\"Minimo obtenido = \" , fitnes ( *optimo.Fenotipos()) , \" en  : f(\" , optimo.Fenotipos(), \")\"  )\n",
    "\n",
    "resultadosBin[\"ruleta\"] =  (fitnes ( *optimo.Fenotipos()) ,  optimo.Fenotipos().copy() ,  intensidades.copy())\n",
    "\n"
   ]
  },
  {
   "cell_type": "code",
   "execution_count": 41,
   "metadata": {},
   "outputs": [
    {
     "data": {
      "text/plain": [
       "[<matplotlib.lines.Line2D at 0x7f91aaa69490>]"
      ]
     },
     "execution_count": 41,
     "metadata": {},
     "output_type": "execute_result"
    },
    {
     "data": {
      "image/png": "[encoded data removed]",
      "text/plain": [
       "<Figure size 432x288 with 1 Axes>"
      ]
     },
     "metadata": {
      "needs_background": "light"
     },
     "output_type": "display_data"
    }
   ],
   "source": [
    "from  matplotlib.pyplot  import plot \n",
    "plot( list (range (len(intensidades)))[:100] , intensidades[:100],)"
   ]
  },
  {
   "cell_type": "markdown",
   "metadata": {},
   "source": [
    "## Resultados Finales Parte 3.a"
   ]
  },
  {
   "cell_type": "code",
   "execution_count": 42,
   "metadata": {},
   "outputs": [
    {
     "name": "stdout",
     "output_type": "stream",
     "text": [
      "Metodo  proporcional  Valor hallado  :  -4.914965474374995  punto hallado : [-2.865]\n"
     ]
    },
    {
     "data": {
      "image/png": "[encoded data removed]",
      "text/plain": [
       "<Figure size 432x288 with 1 Axes>"
      ]
     },
     "metadata": {
      "needs_background": "light"
     },
     "output_type": "display_data"
    },
    {
     "name": "stdout",
     "output_type": "stream",
     "text": [
      "Metodo  lineal  Valor hallado  :  -5.019610018864013  punto hallado : [-2.962]\n"
     ]
    },
    {
     "data": {
      "image/png": "[encoded data removed]",
      "text/plain": [
       "<Figure size 432x288 with 1 Axes>"
      ]
     },
     "metadata": {
      "needs_background": "light"
     },
     "output_type": "display_data"
    },
    {
     "name": "stdout",
     "output_type": "stream",
     "text": [
      "Metodo  torneo  Valor hallado  :  -4.908461830063999  punto hallado : [-2.862]\n"
     ]
    },
    {
     "data": {
      "image/png": "[encoded data removed]",
      "text/plain": [
       "<Figure size 432x288 with 1 Axes>"
      ]
     },
     "metadata": {
      "needs_background": "light"
     },
     "output_type": "display_data"
    },
    {
     "name": "stdout",
     "output_type": "stream",
     "text": [
      "Metodo  uniforme  Valor hallado  :  -4.933362584624009  punto hallado : [-2.874]\n"
     ]
    },
    {
     "data": {
      "image/png": "[encoded data removed]",
      "text/plain": [
       "<Figure size 432x288 with 1 Axes>"
      ]
     },
     "metadata": {
      "needs_background": "light"
     },
     "output_type": "display_data"
    },
    {
     "name": "stdout",
     "output_type": "stream",
     "text": [
      "Metodo  ruleta  Valor hallado  :  -4.908461830063999  punto hallado : [-2.862]\n"
     ]
    },
    {
     "data": {
      "image/png": "[encoded data removed]",
      "text/plain": [
       "<Figure size 432x288 with 1 Axes>"
      ]
     },
     "metadata": {
      "needs_background": "light"
     },
     "output_type": "display_data"
    }
   ],
   "source": [
    "for key in resultadosBin.keys():\n",
    "    print( \"Metodo \",key , \" Valor hallado  : \"  , resultadosBin[key][0]  ,\" punto hallado :\" , resultadosBin[key][1])\n",
    "    plt.plot( list (range (len(resultadosBin[key][2])))[:1000] , resultadosBin[key][2][:1000], \"-\" )\n",
    "    plt.show()\n",
    "\n"
   ]
  },
  {
   "cell_type": "markdown",
   "metadata": {},
   "source": [
    "b) Para el segundo caso (ecuación 2) considerar la representación código de Gray, una población inicial 20 individuos del cual debe seleccionar 15 padres y crear 15 descendientes, una taza de cruce de 0.8, una tasa de mutación de 0.01, donde el cruce y la mutación son seleccionadas de forma aleatoria (Usando los mismos criterios del ejemplo mostrado en Colab-note) realizar lo siguiente:"
   ]
  },
  {
   "cell_type": "code",
   "execution_count": 43,
   "metadata": {},
   "outputs": [
    {
     "name": "stdout",
     "output_type": "stream",
     "text": [
      "Minimo real =  0.006597327157172886  en  : f( 8.881784197001252e-16 0.08000000000000096\n"
     ]
    }
   ],
   "source": [
    "### Respuesta verdadera\n",
    "imin =  0 \n",
    "min = 10000.0\n",
    "for i in list(np.arange(-1.0, 1.0, 0.01)):\n",
    "    for j in list(np.arange(-1.0, 1.0, 0.01)):\n",
    "        if (f2(i,j)  < min):\n",
    "            imin = i\n",
    "            jmin = j\n",
    "            min =f2(i,j) \n",
    "print (\"Minimo real = \" , min , \" en  : f(\" ,imin , jmin )\n",
    "## Minimo real muy cercano a f2(0,0) => 0\n"
   ]
  },
  {
   "cell_type": "code",
   "execution_count": 44,
   "metadata": {},
   "outputs": [],
   "source": [
    "resultadosGray ={}"
   ]
  },
  {
   "cell_type": "markdown",
   "metadata": {},
   "source": [
    "• Usando el método de torneo para la selección de las nuevas generaciones (constantes de 20 individuos), evalúe la intensidad de selección para cada uno de los métodos de selección en la pregunta (2)."
   ]
  },
  {
   "cell_type": "markdown",
   "metadata": {},
   "source": [
    "Metodo  proporcional representacion codigo gray"
   ]
  },
  {
   "cell_type": "code",
   "execution_count": 45,
   "metadata": {},
   "outputs": [
    {
     "name": "stdout",
     "output_type": "stream",
     "text": [
      "it  0 Minimo obtenido =  0.6668404680171809  en  : f( [-0.568, 0.447] )\n",
      "it  100 Minimo obtenido =  0.059210077483261375  en  : f( [-0.001, -0.238] )\n",
      "it  200 Minimo obtenido =  0.059210077483261375  en  : f( [-0.001, -0.238] )\n",
      "it  300 Minimo obtenido =  0.05917660087859171  en  : f( [-0.001, -0.236] )\n",
      "it  400 Minimo obtenido =  0.05917660087859171  en  : f( [-0.001, -0.236] )\n",
      "it  500 Minimo obtenido =  0.05917660087859171  en  : f( [-0.001, -0.236] )\n",
      "it  600 Minimo obtenido =  0.05917660087859171  en  : f( [-0.001, -0.236] )\n",
      "it  700 Minimo obtenido =  0.05917660087859171  en  : f( [-0.001, -0.236] )\n",
      "it  800 Minimo obtenido =  0.05917660087859171  en  : f( [-0.001, -0.236] )\n",
      "it  900 Minimo obtenido =  0.05917660087859171  en  : f( [-0.001, -0.236] )\n",
      "Minimo obtenido =  0.05917660087859171  en  : f( [-0.001, -0.236] )\n"
     ]
    }
   ],
   "source": [
    "gen_len  = 10\n",
    "intervalx = ( -1 , 1)\n",
    "intervaly = ( -1 , 1)\n",
    "tamanio_poblacion  = 15\n",
    "\n",
    "poblacion = [ Cromosoma([gen_len, gen_len] , [intervalx , intervaly]) for _ in range (15)]\n",
    "iterations  = 1000\n",
    "fitnes = f2\n",
    "\n",
    "metodoDeSeleccion = seleccionProporcional\n",
    "metodoDeReproduccio = reproducirGray\n",
    "metodoDeMutacion  = mutarGray\n",
    "metodoFiltro = seleccionTorneo\n",
    "\n",
    "intensidades = []\n",
    "mostrarcada = 100\n",
    "for it in range (iterations):\n",
    "    padresSeleccionados = selecionarPares(10 , poblacion , fitnes , metodoDeSeleccion)\n",
    "    hijos  = reproducir(padresSeleccionados ,metodoDeReproduccio )\n",
    "    hijos  = [ metodoDeMutacion (hijo) for hijo in hijos ]\n",
    "    intensidades.append( intensidadDeSeleccion(poblacion, hijos, fitnes))\n",
    "    poblacion.extend(hijos)\n",
    "    poblacion = [ metodoFiltro(poblacion , fitnes , kontestants=2) for _ in range (15) ]\n",
    "\n",
    "    #if intensidades[-1]== 0 :\n",
    "    #    break\n",
    "\n",
    "    if (it  % mostrarcada == 0 ) :\n",
    "        optimo= poblacion[0]\n",
    "        print (\"it \" , it , \"Minimo obtenido = \" , fitnes ( *optimo.Fenotipos()) , \" en  : f(\" , optimo.Fenotipos(), \")\"  )\n",
    "\n",
    "    \n",
    "optimo = poblacion[0]    \n",
    "\n",
    "print (\"Minimo obtenido = \" , fitnes ( *optimo.Fenotipos()) , \" en  : f(\" , optimo.Fenotipos(), \")\"  )\n",
    "\n",
    "\n",
    "resultadosGray[\"proporcional\"] =  (fitnes ( *optimo.Fenotipos()) ,  optimo.Fenotipos().copy() ,  intensidades.copy())\n",
    "\n"
   ]
  },
  {
   "cell_type": "code",
   "execution_count": 46,
   "metadata": {},
   "outputs": [
    {
     "data": {
      "text/plain": [
       "[<matplotlib.lines.Line2D at 0x7f91aa7d3e20>]"
      ]
     },
     "execution_count": 46,
     "metadata": {},
     "output_type": "execute_result"
    },
    {
     "data": {
      "image/png": "[encoded data removed]",
      "text/plain": [
       "<Figure size 432x288 with 1 Axes>"
      ]
     },
     "metadata": {
      "needs_background": "light"
     },
     "output_type": "display_data"
    }
   ],
   "source": [
    "from  matplotlib.pyplot  import plot \n",
    "plot( list (range (len(intensidades)))[:1000] , intensidades[:1000],)"
   ]
  },
  {
   "cell_type": "markdown",
   "metadata": {},
   "source": [
    "Metodo  lineal representacion codigo gray"
   ]
  },
  {
   "cell_type": "code",
   "execution_count": 47,
   "metadata": {},
   "outputs": [
    {
     "name": "stdout",
     "output_type": "stream",
     "text": [
      "it  0 Minimo obtenido =  1.1101188608616421  en  : f( [0.541, -0.699] )\n",
      "it  100 Minimo obtenido =  0.20461376066566545  en  : f( [-0.011, -0.071] )\n",
      "it  200 Minimo obtenido =  0.0340849844957344  en  : f( [-0.011, 0.116] )\n",
      "it  300 Minimo obtenido =  0.03150610556323863  en  : f( [-0.011, 0.114] )\n",
      "it  400 Minimo obtenido =  0.03150610556323863  en  : f( [-0.011, 0.114] )\n",
      "it  500 Minimo obtenido =  0.021512446999054677  en  : f( [-0.011, 0.105] )\n",
      "it  600 Minimo obtenido =  0.01564633532921715  en  : f( [-0.009, 0.099] )\n",
      "it  700 Minimo obtenido =  0.014225391708856686  en  : f( [-0.009, 0.097] )\n",
      "it  800 Minimo obtenido =  0.013627088116805824  en  : f( [-0.007, 0.097] )\n",
      "it  900 Minimo obtenido =  0.009409157853349448  en  : f( [-0.007, 0.089] )\n",
      "Minimo obtenido =  0.008276552903569476  en  : f( [-0.005, 0.087] )\n"
     ]
    }
   ],
   "source": [
    "gen_len  = 10\n",
    "intervalx = ( -1 , 1)\n",
    "intervaly = ( -1 , 1)\n",
    "tamanio_poblacion  = 15\n",
    "\n",
    "poblacion = [ Cromosoma([gen_len, gen_len] , [intervalx , intervaly]) for _ in range (15)]\n",
    "iterations  = 1000\n",
    "fitnes = f2\n",
    "\n",
    "metodoDeSeleccion = seleccionRankingLineal\n",
    "metodoDeReproduccio = reproducirGray\n",
    "metodoDeMutacion  = mutarGray\n",
    "metodoFiltro = seleccionTorneo\n",
    "\n",
    "intensidades = []\n",
    "mostrarcada = 100\n",
    "for it in range (iterations):\n",
    "    padresSeleccionados = selecionarPares(10 , poblacion , fitnes , metodoDeSeleccion)\n",
    "    hijos  = reproducir(padresSeleccionados ,metodoDeReproduccio )\n",
    "    hijos  = [ metodoDeMutacion (hijo) for hijo in hijos ]\n",
    "    intensidades.append( intensidadDeSeleccion(poblacion, hijos, fitnes))\n",
    "    poblacion.extend(hijos)\n",
    "    poblacion = [ metodoFiltro(poblacion , fitnes , kontestants=2) for _ in range (15) ]\n",
    "\n",
    "    #if intensidades[-1]== 0 :\n",
    "    #    break\n",
    "\n",
    "    if (it  % mostrarcada == 0 ) :\n",
    "        optimo= poblacion[0]\n",
    "        print (\"it \" , it , \"Minimo obtenido = \" , fitnes ( *optimo.Fenotipos()) , \" en  : f(\" , optimo.Fenotipos(), \")\"  )\n",
    "\n",
    "    \n",
    "optimo = poblacion[0]    \n",
    "\n",
    "print (\"Minimo obtenido = \" , fitnes ( *optimo.Fenotipos()) , \" en  : f(\" , optimo.Fenotipos(), \")\"  )\n",
    "\n",
    "resultadosGray[\"lineal\"] =  (fitnes ( *optimo.Fenotipos()) ,  optimo.Fenotipos().copy() ,  intensidades.copy())\n"
   ]
  },
  {
   "cell_type": "code",
   "execution_count": 48,
   "metadata": {},
   "outputs": [
    {
     "data": {
      "text/plain": [
       "[<matplotlib.lines.Line2D at 0x7f91aa7b67f0>]"
      ]
     },
     "execution_count": 48,
     "metadata": {},
     "output_type": "execute_result"
    },
    {
     "data": {
      "image/png": "[encoded data removed]",
      "text/plain": [
       "<Figure size 432x288 with 1 Axes>"
      ]
     },
     "metadata": {
      "needs_background": "light"
     },
     "output_type": "display_data"
    }
   ],
   "source": [
    "from  matplotlib.pyplot  import plot \n",
    "plot( list (range (len(intensidades)))[:1000] , intensidades[:1000],)"
   ]
  },
  {
   "cell_type": "markdown",
   "metadata": {},
   "source": [
    "Metodo  torneo representacion codigo gray"
   ]
  },
  {
   "cell_type": "code",
   "execution_count": 49,
   "metadata": {},
   "outputs": [
    {
     "name": "stdout",
     "output_type": "stream",
     "text": [
      "it  0 Minimo obtenido =  0.4186488651610299  en  : f( [0.136, 0.329] )\n",
      "it  100 Minimo obtenido =  0.2875120616927798  en  : f( [0.316, 0.359] )\n",
      "it  200 Minimo obtenido =  0.2875120616927798  en  : f( [0.316, 0.359] )\n",
      "it  300 Minimo obtenido =  0.2856486589665766  en  : f( [0.316, 0.361] )\n",
      "it  400 Minimo obtenido =  0.17657080209035408  en  : f( [0.316, 0.14] )\n",
      "it  500 Minimo obtenido =  0.15492898275710043  en  : f( [0.316, 0.128] )\n",
      "it  600 Minimo obtenido =  0.1484912670117349  en  : f( [0.316, 0.124] )\n",
      "it  700 Minimo obtenido =  0.11200233544101182  en  : f( [0.316, 0.075] )\n",
      "it  800 Minimo obtenido =  0.11200233544101182  en  : f( [0.316, 0.075] )\n",
      "it  900 Minimo obtenido =  0.11200233544101182  en  : f( [0.316, 0.075] )\n",
      "Minimo obtenido =  0.11200233544101182  en  : f( [0.316, 0.075] )\n"
     ]
    }
   ],
   "source": [
    "gen_len  = 10\n",
    "intervalx = ( -1 , 1)\n",
    "intervaly = ( -1 , 1)\n",
    "tamanio_poblacion  = 15\n",
    "\n",
    "poblacion = [ Cromosoma([gen_len, gen_len] , [intervalx , intervaly]) for _ in range (15)]\n",
    "iterations  = 1000\n",
    "fitnes = f2\n",
    "\n",
    "#metodoDeSeleccion = seleccionRankingLineal\n",
    "metodoDeReproduccio = reproducirGray\n",
    "metodoDeMutacion  = mutarGray\n",
    "metodoFiltro = seleccionTorneo\n",
    "\n",
    "intensidades = []\n",
    "mostrarcada = 100\n",
    "for it in range (iterations):\n",
    "    #padresSeleccionados = selecionarPares(10 , poblacion , fitnes , metodoDeSeleccion)\n",
    "    padresSeleccionados = selecionarParesTorneo(10 , poblacion , fitnes)\n",
    "    hijos  = reproducir(padresSeleccionados ,metodoDeReproduccio )\n",
    "    hijos  = [ metodoDeMutacion (hijo) for hijo in hijos ]\n",
    "    intensidades.append( intensidadDeSeleccion(poblacion, hijos, fitnes))\n",
    "    poblacion.extend(hijos)\n",
    "    poblacion = [ metodoFiltro(poblacion , fitnes , kontestants=2) for _ in range (15) ]\n",
    "\n",
    "    #if intensidades[-1]== 0 :\n",
    "    #    break\n",
    "\n",
    "    if (it  % mostrarcada == 0 ) :\n",
    "        optimo= poblacion[0]\n",
    "        print (\"it \" , it , \"Minimo obtenido = \" , fitnes ( *optimo.Fenotipos()) , \" en  : f(\" , optimo.Fenotipos(), \")\"  )\n",
    "\n",
    "    \n",
    "optimo = poblacion[0]    \n",
    "\n",
    "print (\"Minimo obtenido = \" , fitnes ( *optimo.Fenotipos()) , \" en  : f(\" , optimo.Fenotipos(), \")\"  )\n",
    "\n",
    "resultadosGray[\"torneo\"] =  (fitnes ( *optimo.Fenotipos()) ,  optimo.Fenotipos().copy() ,  intensidades.copy())\n"
   ]
  },
  {
   "cell_type": "code",
   "execution_count": 50,
   "metadata": {},
   "outputs": [
    {
     "data": {
      "text/plain": [
       "[<matplotlib.lines.Line2D at 0x7f91aa720310>]"
      ]
     },
     "execution_count": 50,
     "metadata": {},
     "output_type": "execute_result"
    },
    {
     "data": {
      "image/png": "[encoded data removed]",
      "text/plain": [
       "<Figure size 432x288 with 1 Axes>"
      ]
     },
     "metadata": {
      "needs_background": "light"
     },
     "output_type": "display_data"
    }
   ],
   "source": [
    "from  matplotlib.pyplot  import plot \n",
    "plot( list (range (len(intensidades)))[:1000] , intensidades[:1000],)"
   ]
  },
  {
   "cell_type": "markdown",
   "metadata": {},
   "source": [
    "Metodo  uniforme representacion codigo gray"
   ]
  },
  {
   "cell_type": "code",
   "execution_count": 51,
   "metadata": {},
   "outputs": [
    {
     "name": "stdout",
     "output_type": "stream",
     "text": [
      "it  0 Minimo obtenido =  0.7952808079975543  en  : f( [0.543, -0.523] )\n",
      "it  100 Minimo obtenido =  0.23676844474380118  en  : f( [-0.271, -0.001] )\n",
      "it  200 Minimo obtenido =  0.175279277268174  en  : f( [-0.292, -0.247] )\n",
      "it  300 Minimo obtenido =  0.16768841153618197  en  : f( [-0.324, -0.247] )\n",
      "it  400 Minimo obtenido =  0.16698837008677148  en  : f( [-0.324, -0.245] )\n",
      "it  500 Minimo obtenido =  0.16643780344012882  en  : f( [-0.324, -0.243] )\n",
      "it  600 Minimo obtenido =  0.16643780344012882  en  : f( [-0.324, -0.243] )\n",
      "it  700 Minimo obtenido =  0.1644090790679784  en  : f( [-0.316, -0.239] )\n",
      "it  800 Minimo obtenido =  0.16433748222186786  en  : f( [-0.316, -0.238] )\n",
      "it  900 Minimo obtenido =  0.16433748222186786  en  : f( [-0.316, -0.238] )\n",
      "Minimo obtenido =  0.16433748222186786  en  : f( [-0.316, -0.238] )\n"
     ]
    }
   ],
   "source": [
    "gen_len  = 10\n",
    "intervalx = ( -1 , 1)\n",
    "intervaly = ( -1 , 1)\n",
    "tamanio_poblacion  = 15\n",
    "\n",
    "poblacion = [ Cromosoma([gen_len, gen_len] , [intervalx , intervaly]) for _ in range (15)]\n",
    "iterations  = 1000\n",
    "fitnes = f2\n",
    "\n",
    "metodoDeSeleccion = seleccionUniforme\n",
    "metodoDeReproduccio = reproducirGray\n",
    "metodoDeMutacion  = mutarGray\n",
    "metodoFiltro = seleccionTorneo\n",
    "\n",
    "intensidades = []\n",
    "mostrarcada =100\n",
    "for it in range (iterations):\n",
    "    padresSeleccionados = selecionarPares(10 , poblacion , fitnes , metodoDeSeleccion)\n",
    "    hijos  = reproducir(padresSeleccionados ,metodoDeReproduccio )\n",
    "    hijos  = [ metodoDeMutacion (hijo) for hijo in hijos ]\n",
    "    intensidades.append( intensidadDeSeleccion(poblacion, hijos, fitnes))\n",
    "    poblacion.extend(hijos)\n",
    "    poblacion = [ metodoFiltro(poblacion , fitnes , kontestants=2) for _ in range (15) ]\n",
    "\n",
    "    #if intensidades[-1]== 0 :\n",
    "    #    break\n",
    "\n",
    "    if (it  % mostrarcada == 0 ) :\n",
    "        optimo= poblacion[0]\n",
    "        print (\"it \" , it , \"Minimo obtenido = \" , fitnes ( *optimo.Fenotipos()) , \" en  : f(\" , optimo.Fenotipos(), \")\"  )\n",
    "\n",
    "    \n",
    "optimo = poblacion[0]    \n",
    "\n",
    "print (\"Minimo obtenido = \" , fitnes ( *optimo.Fenotipos()) , \" en  : f(\" , optimo.Fenotipos(), \")\"  )\n",
    "\n",
    "resultadosGray[\"uniforme\"] =  (fitnes ( *optimo.Fenotipos()) ,  optimo.Fenotipos().copy() ,  intensidades.copy())\n"
   ]
  },
  {
   "cell_type": "code",
   "execution_count": 52,
   "metadata": {},
   "outputs": [
    {
     "data": {
      "text/plain": [
       "[<matplotlib.lines.Line2D at 0x7f91aa872a90>]"
      ]
     },
     "execution_count": 52,
     "metadata": {},
     "output_type": "execute_result"
    },
    {
     "data": {
      "image/png": "[encoded data removed]",
      "text/plain": [
       "<Figure size 432x288 with 1 Axes>"
      ]
     },
     "metadata": {
      "needs_background": "light"
     },
     "output_type": "display_data"
    }
   ],
   "source": [
    "from  matplotlib.pyplot  import plot \n",
    "plot( list (range (len(intensidades)))[:1000] , intensidades[:1000],)"
   ]
  },
  {
   "cell_type": "markdown",
   "metadata": {},
   "source": [
    "Metodo  ruleta representacion codigo gray"
   ]
  },
  {
   "cell_type": "code",
   "execution_count": 53,
   "metadata": {},
   "outputs": [
    {
     "name": "stdout",
     "output_type": "stream",
     "text": [
      "it  0 Minimo obtenido =  0.6239912328859394  en  : f( [0.069, 0.664] )\n",
      "it  100 Minimo obtenido =  0.338113867642273  en  : f( [-0.009, -0.58] )\n",
      "it  200 Minimo obtenido =  0.338113867642273  en  : f( [0.009, -0.58] )\n",
      "it  300 Minimo obtenido =  0.338113867642273  en  : f( [0.009, -0.58] )\n",
      "it  400 Minimo obtenido =  0.32278998579190454  en  : f( [0.007, -0.546] )\n",
      "it  500 Minimo obtenido =  0.3223405524385472  en  : f( [0.005, -0.546] )\n",
      "it  600 Minimo obtenido =  0.3220405938879577  en  : f( [0.003, -0.546] )\n",
      "it  700 Minimo obtenido =  0.3220405938879577  en  : f( [0.003, -0.546] )\n",
      "it  800 Minimo obtenido =  0.3218440017754407  en  : f( [0.003, -0.548] )\n",
      "it  900 Minimo obtenido =  0.3218440017754407  en  : f( [0.003, -0.548] )\n",
      "Minimo obtenido =  0.3218440017754407  en  : f( [0.003, -0.548] )\n"
     ]
    }
   ],
   "source": [
    "gen_len  = 10\n",
    "intervalx = ( -1 , 1)\n",
    "intervaly = ( -1 , 1)\n",
    "tamanio_poblacion  = 15\n",
    "\n",
    "poblacion = [ Cromosoma([gen_len, gen_len] , [intervalx , intervaly]) for _ in range (15)]\n",
    "iterations  = 1000\n",
    "fitnes = f2\n",
    "\n",
    "#metodoDeSeleccion = seleccionUniforme\n",
    "metodoDeReproduccio = reproducirGray\n",
    "metodoDeMutacion  = mutarGray\n",
    "metodoFiltro = seleccionTorneo\n",
    "\n",
    "intensidades = []\n",
    "mostrarcada = 100\n",
    "for it in range (iterations):\n",
    "#    padresSeleccionados = selecionarPares(10 , poblacion , fitnes , metodoDeSeleccion)\n",
    "    padresSeleccionados = seleccionRuleta(10 , poblacion , fitnes , seleccionProporcional)\n",
    "    padresSeleccionados = selecionarParesTorneo(10 , poblacion , fitnes)\n",
    "    hijos  = reproducir(padresSeleccionados ,metodoDeReproduccio )\n",
    "    hijos  = [ metodoDeMutacion (hijo) for hijo in hijos ]\n",
    "    intensidades.append( intensidadDeSeleccion(poblacion, hijos, fitnes))\n",
    "    poblacion.extend(hijos)\n",
    "    poblacion = [ metodoFiltro(poblacion , fitnes , kontestants=2) for _ in range (15) ]\n",
    "\n",
    "    #if intensidades[-1]== 0 :\n",
    "    #    break\n",
    "\n",
    "    if (it  % mostrarcada == 0 ) :\n",
    "        optimo= poblacion[0]\n",
    "        print (\"it \" , it , \"Minimo obtenido = \" , fitnes ( *optimo.Fenotipos()) , \" en  : f(\" , optimo.Fenotipos(), \")\"  )\n",
    "\n",
    "    \n",
    "optimo = poblacion[0]    \n",
    "\n",
    "print (\"Minimo obtenido = \" , fitnes ( *optimo.Fenotipos()) , \" en  : f(\" , optimo.Fenotipos(), \")\"  )\n",
    "\n",
    "resultadosGray[\"ruleta\"] =  (fitnes ( *optimo.Fenotipos()) ,  optimo.Fenotipos().copy() ,  intensidades.copy())\n"
   ]
  },
  {
   "cell_type": "code",
   "execution_count": 54,
   "metadata": {},
   "outputs": [
    {
     "data": {
      "text/plain": [
       "[<matplotlib.lines.Line2D at 0x7f91aa939400>]"
      ]
     },
     "execution_count": 54,
     "metadata": {},
     "output_type": "execute_result"
    },
    {
     "data": {
      "image/png": "[encoded data removed]",
      "text/plain": [
       "<Figure size 432x288 with 1 Axes>"
      ]
     },
     "metadata": {
      "needs_background": "light"
     },
     "output_type": "display_data"
    }
   ],
   "source": [
    "from  matplotlib.pyplot  import plot \n",
    "plot( list (range (len(intensidades)))[:1000] , intensidades[:1000],)"
   ]
  },
  {
   "cell_type": "markdown",
   "metadata": {},
   "source": [
    "## Resultados Finales Parte 3.b"
   ]
  },
  {
   "cell_type": "code",
   "execution_count": 55,
   "metadata": {},
   "outputs": [
    {
     "name": "stdout",
     "output_type": "stream",
     "text": [
      "Metodo  proporcional  Valor hallado  :  0.05917660087859171  punto hallado : [-0.001, -0.236]\n"
     ]
    },
    {
     "data": {
      "image/png": "[encoded data removed]",
      "text/plain": [
       "<Figure size 432x288 with 1 Axes>"
      ]
     },
     "metadata": {
      "needs_background": "light"
     },
     "output_type": "display_data"
    },
    {
     "name": "stdout",
     "output_type": "stream",
     "text": [
      "Metodo  lineal  Valor hallado  :  0.008276552903569476  punto hallado : [-0.005, 0.087]\n"
     ]
    },
    {
     "data": {
      "image/png": "[encoded data removed]",
      "text/plain": [
       "<Figure size 432x288 with 1 Axes>"
      ]
     },
     "metadata": {
      "needs_background": "light"
     },
     "output_type": "display_data"
    },
    {
     "name": "stdout",
     "output_type": "stream",
     "text": [
      "Metodo  torneo  Valor hallado  :  0.11200233544101182  punto hallado : [0.316, 0.075]\n"
     ]
    },
    {
     "data": {
      "image/png": "[encoded data removed]",
      "text/plain": [
       "<Figure size 432x288 with 1 Axes>"
      ]
     },
     "metadata": {
      "needs_background": "light"
     },
     "output_type": "display_data"
    },
    {
     "name": "stdout",
     "output_type": "stream",
     "text": [
      "Metodo  uniforme  Valor hallado  :  0.16433748222186786  punto hallado : [-0.316, -0.238]\n"
     ]
    },
    {
     "data": {
      "image/png": "[encoded data removed]",
      "text/plain": [
       "<Figure size 432x288 with 1 Axes>"
      ]
     },
     "metadata": {
      "needs_background": "light"
     },
     "output_type": "display_data"
    },
    {
     "name": "stdout",
     "output_type": "stream",
     "text": [
      "Metodo  ruleta  Valor hallado  :  0.3218440017754407  punto hallado : [0.003, -0.548]\n"
     ]
    },
    {
     "data": {
      "image/png": "[encoded data removed]",
      "text/plain": [
       "<Figure size 432x288 with 1 Axes>"
      ]
     },
     "metadata": {
      "needs_background": "light"
     },
     "output_type": "display_data"
    }
   ],
   "source": [
    "for key in resultadosGray.keys():\n",
    "    print( \"Metodo \",key , \" Valor hallado  : \"  , resultadosGray[key][0]  ,\" punto hallado :\" , resultadosGray[key][1])\n",
    "    plt.plot( list (range (len(resultadosGray[key][2])))[:1000] , resultadosGray[key][2][:1000])\n",
    "    plt.show()"
   ]
  },
  {
   "cell_type": "markdown",
   "metadata": {},
   "source": [
    "c) Para el tercer caso (ecuación 3) considerar la representación real, una población inicial 20 individuos del cual debe seleccionar 15 padres y crear 15 descendientes, una taza de cruce de 0.8, una tasa de mutación de 0.01, donde el cruce y la mutación son seleccionadas de forma aleatoria (Usando los mismos criterios del ejemplo mostrado en Colab-note) realizar lo siguiente:"
   ]
  },
  {
   "cell_type": "code",
   "execution_count": 56,
   "metadata": {},
   "outputs": [
    {
     "name": "stdout",
     "output_type": "stream",
     "text": [
      "Minimo real =  2.7008571488865134e-12  en  : f( 16.0 19.0 43.0 49.0  )\n"
     ]
    }
   ],
   "source": [
    "### Respuesta verdadera\n",
    "import numpy as np\n",
    "\n",
    "imin =  0 \n",
    "min = 10000.0\n",
    "step = 1\n",
    "for i in list(np.arange(12.0, 60.0, step)):\n",
    "    for j in list(np.arange(12.0, 60.0, step)):\n",
    "        for p in list(np.arange(12.0, 60.0, step)):\n",
    "            for q in list(np.arange(12.0, 60.0, step)):\n",
    "                if (f3(i,j , p,q)  < min):\n",
    "                    imin = i\n",
    "                    jmin = j\n",
    "                    pmin = p\n",
    "                    qmin = q\n",
    "                    min =f3(i,j , p , q) \n",
    "print (\"Minimo real = \" , min , \" en  : f(\" ,imin , jmin , pmin , qmin , \" )\" )\n",
    "\n",
    "## Mutiples minimos reales con fitness 0\n",
    "## \n",
    "\n",
    "## Minimo real 12 30 47.8 52.2"
   ]
  },
  {
   "cell_type": "code",
   "execution_count": 57,
   "metadata": {},
   "outputs": [],
   "source": [
    "resultadosReal = {}"
   ]
  },
  {
   "cell_type": "markdown",
   "metadata": {},
   "source": [
    "• Usando el método de torneo para la selección de las nuevas generaciones (constantes de 20 individuos), evalúe la intensidad de selección para cada uno de los métodos de selección en la pregunta (2)."
   ]
  },
  {
   "cell_type": "markdown",
   "metadata": {},
   "source": [
    "Metodo proporcional representacion real"
   ]
  },
  {
   "cell_type": "code",
   "execution_count": 58,
   "metadata": {},
   "outputs": [
    {
     "name": "stdout",
     "output_type": "stream",
     "text": [
      "it  0 Minimo obtenido =  0.0028699565865858427  en  : f( [20.962, 17.677, 59.155, 31.66] )\n",
      "it  100 Minimo obtenido =  2.3917241589255652e-05  en  : f( [14.768, 17.677, 59.155, 31.66] )\n",
      "it  200 Minimo obtenido =  4.429618943223545e-05  en  : f( [14.581, 17.677, 59.155, 31.66] )\n",
      "it  300 Minimo obtenido =  0.0009916952722996012  en  : f( [14.581, 14.487, 59.155, 31.66] )\n",
      "it  400 Minimo obtenido =  0.0007308052827352367  en  : f( [12.422, 17.677, 59.155, 31.66] )\n",
      "it  500 Minimo obtenido =  5.551582350913722e-05  en  : f( [13.361, 12.845, 42.311, 26.733] )\n",
      "it  600 Minimo obtenido =  3.993641425752604e-05  en  : f( [13.079, 14.815, 48.129, 26.733] )\n",
      "it  700 Minimo obtenido =  6.130065450977048e-05  en  : f( [14.346, 13.642, 48.129, 26.733] )\n",
      "it  800 Minimo obtenido =  0.0003677798954811752  en  : f( [13.361, 12.047, 48.129, 26.733] )\n",
      "it  900 Minimo obtenido =  3.4748775608563696e-05  en  : f( [13.83, 13.971, 48.129, 26.733] )\n",
      "Minimo obtenido =  4.092438609862372e-09  en  : f( [13.548, 12.0, 48.129, 23.402] )\n"
     ]
    }
   ],
   "source": [
    "gen_len  = 10\n",
    "interval = ( 12 , 60)\n",
    "tamanio_poblacion  = 20\n",
    "\n",
    "poblacion = [ Cromosoma([gen_len, gen_len, gen_len, gen_len] , [interval ,interval ,interval ,interval]) for _ in range (tamanio_poblacion)]\n",
    "iterations  = 1000\n",
    "fitnes = f3\n",
    "\n",
    "metodoDeSeleccion = seleccionProporcional\n",
    "metodoDeReproduccio = reproducirReal\n",
    "metodoDeMutacion  = mutarReal\n",
    "metodoFiltro = seleccionTorneo\n",
    "\n",
    "intensidades = []\n",
    "mostrarcada = 100\n",
    "for it in range (iterations):\n",
    "    padresSeleccionados = selecionarPares(15 , poblacion , fitnes , metodoDeSeleccion)\n",
    "    hijos  = reproducir(padresSeleccionados ,metodoDeReproduccio )\n",
    "    hijos  = [ metodoDeMutacion (hijo) for hijo in hijos ]\n",
    "    intensidades.append( intensidadDeSeleccion(poblacion, hijos, fitnes))\n",
    "    poblacion.extend(hijos)\n",
    "    poblacion = [ metodoFiltro(poblacion , fitnes , kontestants=2) for _ in range (15) ]\n",
    "\n",
    "    #if intensidades[-1]== 0 :\n",
    "    #    break\n",
    "\n",
    "    if (it  % mostrarcada == 0 ) :\n",
    "        optimo= poblacion[0]\n",
    "        print (\"it \" , it , \"Minimo obtenido = \" , fitnes ( *optimo.Fenotipos()) , \" en  : f(\" , optimo.Fenotipos(), \")\"  )\n",
    "\n",
    "    \n",
    "optimo = poblacion[0]    \n",
    "\n",
    "print (\"Minimo obtenido = \" , fitnes ( *optimo.Fenotipos()) , \" en  : f(\" , optimo.Fenotipos(), \")\"  )\n",
    "\n",
    "\n",
    "resultadosReal[\"proporcional\"] =  (fitnes ( *optimo.Fenotipos()) ,  optimo.Fenotipos().copy() ,  intensidades.copy())\n"
   ]
  },
  {
   "cell_type": "code",
   "execution_count": 59,
   "metadata": {},
   "outputs": [
    {
     "data": {
      "text/plain": [
       "[<matplotlib.lines.Line2D at 0x7f91aa5d15b0>]"
      ]
     },
     "execution_count": 59,
     "metadata": {},
     "output_type": "execute_result"
    },
    {
     "data": {
      "image/png": "[encoded data removed]",
      "text/plain": [
       "<Figure size 432x288 with 1 Axes>"
      ]
     },
     "metadata": {
      "needs_background": "light"
     },
     "output_type": "display_data"
    }
   ],
   "source": [
    "from  matplotlib.pyplot  import plot \n",
    "plot( list (range (len(intensidades)))[:1000] , intensidades[:1000],)"
   ]
  },
  {
   "cell_type": "markdown",
   "metadata": {},
   "source": [
    "Metodo ranking lineal representacion real"
   ]
  },
  {
   "cell_type": "code",
   "execution_count": 60,
   "metadata": {},
   "outputs": [
    {
     "name": "stdout",
     "output_type": "stream",
     "text": [
      "it  0 Minimo obtenido =  0.19136829332602792  en  : f( [12.938, 43.062, 58.358, 16.411] )\n",
      "it  100 Minimo obtenido =  0.0011786589560651272  en  : f( [13.126, 13.032, 58.358, 16.411] )\n",
      "it  200 Minimo obtenido =  0.0009307331398053905  en  : f( [13.032, 12.845, 58.358, 16.411] )\n",
      "it  300 Minimo obtenido =  0.0004870539364418004  en  : f( [13.173, 12.094, 58.358, 16.411] )\n",
      "it  400 Minimo obtenido =  0.00044262767652755264  en  : f( [12.282, 12.891, 58.358, 16.411] )\n",
      "it  500 Minimo obtenido =  0.001390328260552457  en  : f( [14.158, 12.282, 58.358, 16.411] )\n",
      "it  600 Minimo obtenido =  0.00011741379222150775  en  : f( [14.956, 12.845, 58.358, 24.669] )\n",
      "it  700 Minimo obtenido =  0.0003866191469950206  en  : f( [12.798, 14.018, 58.358, 24.669] )\n",
      "it  800 Minimo obtenido =  0.00018890826182327744  en  : f( [14.065, 13.361, 58.358, 24.669] )\n",
      "it  900 Minimo obtenido =  3.665408149903193e-05  en  : f( [14.487, 13.736, 58.358, 24.669] )\n",
      "Minimo obtenido =  1.823162447827309e-06  en  : f( [14.956, 14.018, 58.358, 24.669] )\n"
     ]
    }
   ],
   "source": [
    "gen_len  = 10\n",
    "interval = ( 12 , 60)\n",
    "tamanio_poblacion  = 20\n",
    "\n",
    "poblacion = [ Cromosoma([gen_len, gen_len, gen_len, gen_len] , [interval ,interval ,interval ,interval]) for _ in range (tamanio_poblacion)]\n",
    "iterations  = 1000\n",
    "fitnes = f3\n",
    "\n",
    "metodoDeSeleccion = seleccionRankingLineal\n",
    "metodoDeReproduccio = reproducirReal\n",
    "metodoDeMutacion  = mutarReal\n",
    "metodoFiltro = seleccionTorneo\n",
    "\n",
    "intensidades = []\n",
    "mostrarcada = 100\n",
    "for it in range (iterations):\n",
    "    padresSeleccionados = selecionarPares(15 , poblacion , fitnes , metodoDeSeleccion)\n",
    "    hijos  = reproducir(padresSeleccionados ,metodoDeReproduccio )\n",
    "    hijos  = [ metodoDeMutacion (hijo) for hijo in hijos ]\n",
    "    intensidades.append( intensidadDeSeleccion(poblacion, hijos, fitnes))\n",
    "    poblacion.extend(hijos)\n",
    "    poblacion = [ metodoFiltro(poblacion , fitnes , kontestants=2) for _ in range (15) ]\n",
    "\n",
    "    #if intensidades[-1]== 0 :\n",
    "    #    break\n",
    "\n",
    "    if (it  % mostrarcada == 0 ) :\n",
    "        optimo= poblacion[0]\n",
    "        print (\"it \" , it , \"Minimo obtenido = \" , fitnes ( *optimo.Fenotipos()) , \" en  : f(\" , optimo.Fenotipos(), \")\"  )\n",
    "\n",
    "    \n",
    "optimo = poblacion[0]    \n",
    "\n",
    "print (\"Minimo obtenido = \" , fitnes ( *optimo.Fenotipos()) , \" en  : f(\" , optimo.Fenotipos(), \")\"  )\n",
    "resultadosReal[\"lineal\"] =  (fitnes ( *optimo.Fenotipos()) ,  optimo.Fenotipos().copy() ,  intensidades.copy())\n",
    "\n"
   ]
  },
  {
   "cell_type": "code",
   "execution_count": 61,
   "metadata": {},
   "outputs": [
    {
     "data": {
      "text/plain": [
       "[<matplotlib.lines.Line2D at 0x7f91aa5bb790>]"
      ]
     },
     "execution_count": 61,
     "metadata": {},
     "output_type": "execute_result"
    },
    {
     "data": {
      "image/png": "[encoded data removed]",
      "text/plain": [
       "<Figure size 432x288 with 1 Axes>"
      ]
     },
     "metadata": {
      "needs_background": "light"
     },
     "output_type": "display_data"
    }
   ],
   "source": [
    "from  matplotlib.pyplot  import plot \n",
    "plot( list (range (len(intensidades)))[:1000] , intensidades[:1000],)"
   ]
  },
  {
   "cell_type": "markdown",
   "metadata": {},
   "source": [
    "Metodo torneo representacion real"
   ]
  },
  {
   "cell_type": "code",
   "execution_count": 62,
   "metadata": {},
   "outputs": [
    {
     "name": "stdout",
     "output_type": "stream",
     "text": [
      "it  0 Minimo obtenido =  0.07205443534661095  en  : f( [12.235, 24.856, 13.079, 56.34] )\n",
      "it  100 Minimo obtenido =  0.0014046716922290967  en  : f( [13.971, 13.689, 18.522, 56.809] )\n",
      "it  200 Minimo obtenido =  0.0006114169436729618  en  : f( [13.548, 13.126, 18.522, 56.809] )\n",
      "it  300 Minimo obtenido =  8.962353609606991e-09  en  : f( [12.61, 12.047, 18.522, 56.809] )\n",
      "it  400 Minimo obtenido =  1.096858625414848e-05  en  : f( [12.891, 12.047, 18.522, 56.809] )\n",
      "it  500 Minimo obtenido =  8.962353609606991e-09  en  : f( [12.61, 12.047, 18.522, 56.809] )\n",
      "it  600 Minimo obtenido =  1.096858625414848e-05  en  : f( [12.891, 12.047, 18.522, 56.809] )\n",
      "it  700 Minimo obtenido =  8.962353609606991e-09  en  : f( [12.61, 12.047, 18.522, 56.809] )\n",
      "it  800 Minimo obtenido =  8.962353609606991e-09  en  : f( [12.61, 12.047, 18.522, 56.809] )\n",
      "it  900 Minimo obtenido =  8.962353609606991e-09  en  : f( [12.61, 12.047, 18.522, 56.809] )\n",
      "Minimo obtenido =  8.962353609606991e-09  en  : f( [12.61, 12.047, 18.522, 56.809] )\n"
     ]
    }
   ],
   "source": [
    "gen_len  = 10\n",
    "interval = ( 12 , 60)\n",
    "tamanio_poblacion  = 20\n",
    "\n",
    "poblacion = [ Cromosoma([gen_len, gen_len, gen_len, gen_len] , [interval ,interval ,interval ,interval]) for _ in range (tamanio_poblacion)]\n",
    "iterations  = 1000\n",
    "fitnes = f3\n",
    "\n",
    "#metodoDeSeleccion = seleccionRankingLineal\n",
    "metodoDeReproduccio = reproducirReal\n",
    "metodoDeMutacion  = mutarReal\n",
    "metodoFiltro = seleccionTorneo\n",
    "\n",
    "intensidades = []\n",
    "mostrarcada = 100\n",
    "for it in range (iterations):\n",
    "    #padresSeleccionados = selecionarPares(15 , poblacion , fitnes , metodoDeSeleccion)\n",
    "    padresSeleccionados = selecionarParesTorneo(15 , poblacion , fitnes)\n",
    "    hijos  = reproducir(padresSeleccionados ,metodoDeReproduccio )\n",
    "    hijos  = [ metodoDeMutacion (hijo) for hijo in hijos ]\n",
    "    intensidades.append( intensidadDeSeleccion(poblacion, hijos, fitnes))\n",
    "    poblacion.extend(hijos)\n",
    "    poblacion = [ metodoFiltro(poblacion , fitnes , kontestants=2) for _ in range (15) ]\n",
    "\n",
    "    #if intensidades[-1]== 0 :\n",
    "    #    break\n",
    "\n",
    "    if (it  % mostrarcada == 0 ) :\n",
    "        optimo= poblacion[0]\n",
    "        print (\"it \" , it , \"Minimo obtenido = \" , fitnes ( *optimo.Fenotipos()) , \" en  : f(\" , optimo.Fenotipos(), \")\"  )\n",
    "\n",
    "    \n",
    "optimo = poblacion[0]    \n",
    "\n",
    "print (\"Minimo obtenido = \" , fitnes ( *optimo.Fenotipos()) , \" en  : f(\" , optimo.Fenotipos(), \")\"  )\n",
    "resultadosReal[\"torneo\"] =  (fitnes ( *optimo.Fenotipos()) ,  optimo.Fenotipos().copy() ,  intensidades.copy())\n"
   ]
  },
  {
   "cell_type": "code",
   "execution_count": 63,
   "metadata": {},
   "outputs": [
    {
     "data": {
      "text/plain": [
       "[<matplotlib.lines.Line2D at 0x7f91aa52f6d0>]"
      ]
     },
     "execution_count": 63,
     "metadata": {},
     "output_type": "execute_result"
    },
    {
     "data": {
      "image/png": "[encoded data removed]",
      "text/plain": [
       "<Figure size 432x288 with 1 Axes>"
      ]
     },
     "metadata": {
      "needs_background": "light"
     },
     "output_type": "display_data"
    }
   ],
   "source": [
    "from  matplotlib.pyplot  import plot \n",
    "plot( list (range (len(intensidades)))[:1000] , intensidades[:1000],)"
   ]
  },
  {
   "cell_type": "markdown",
   "metadata": {},
   "source": [
    "Metodo uniforme representacion real"
   ]
  },
  {
   "cell_type": "code",
   "execution_count": 64,
   "metadata": {},
   "outputs": [
    {
     "name": "stdout",
     "output_type": "stream",
     "text": [
      "it  0 Minimo obtenido =  0.7602590805845502  en  : f( [44.563, 34.71, 31.472, 48.364] )\n",
      "it  100 Minimo obtenido =  6.742931091054593e-05  en  : f( [13.877, 13.877, 26.921, 46.909] )\n",
      "it  200 Minimo obtenido =  2.601472859508281e-05  en  : f( [13.548, 13.924, 26.921, 46.909] )\n",
      "it  300 Minimo obtenido =  4.60753124721669e-05  en  : f( [14.534, 13.126, 26.921, 46.909] )\n",
      "it  400 Minimo obtenido =  2.1778509862669268e-07  en  : f( [13.689, 13.267, 26.921, 46.909] )\n",
      "it  500 Minimo obtenido =  0.026721228144480726  en  : f( [14.487, 13.314, 13.361, 46.909] )\n",
      "it  600 Minimo obtenido =  0.00016291126747687774  en  : f( [12.563, 13.22, 26.921, 46.909] )\n",
      "it  700 Minimo obtenido =  2.1318793268047267e-05  en  : f( [13.736, 13.689, 26.921, 46.909] )\n",
      "it  800 Minimo obtenido =  0.017814701552920198  en  : f( [13.455, 12.938, 13.361, 46.909] )\n",
      "it  900 Minimo obtenido =  2.909363964809791e-05  en  : f( [13.22, 13.267, 26.921, 46.909] )\n",
      "Minimo obtenido =  1.6265041374564945e-05  en  : f( [12.938, 13.689, 26.921, 46.909] )\n"
     ]
    }
   ],
   "source": [
    "gen_len  = 10\n",
    "interval = ( 12 , 60)\n",
    "tamanio_poblacion  = 20\n",
    "\n",
    "poblacion = [ Cromosoma([gen_len, gen_len, gen_len, gen_len] , [interval ,interval ,interval ,interval]) for _ in range (tamanio_poblacion)]\n",
    "iterations  = 1000\n",
    "fitnes = f3\n",
    "\n",
    "metodoDeSeleccion = seleccionUniforme\n",
    "metodoDeReproduccio = reproducirReal\n",
    "metodoDeMutacion  = mutarReal\n",
    "metodoFiltro = seleccionTorneo\n",
    "mostrarcada =100\n",
    "intensidades = []\n",
    "\n",
    "for it in range (iterations):\n",
    "    padresSeleccionados = selecionarPares(15 , poblacion , fitnes , metodoDeSeleccion)\n",
    "    hijos  = reproducir(padresSeleccionados ,metodoDeReproduccio )\n",
    "    hijos  = [ metodoDeMutacion (hijo) for hijo in hijos ]\n",
    "    intensidades.append( intensidadDeSeleccion(poblacion, hijos, fitnes))\n",
    "    poblacion.extend(hijos)\n",
    "    poblacion = [ metodoFiltro(poblacion , fitnes , kontestants=2) for _ in range (15) ]\n",
    "\n",
    "    #if intensidades[-1]== 0 :\n",
    "    #    break\n",
    "\n",
    "    if (it  % mostrarcada == 0 ) :\n",
    "        optimo= poblacion[0]\n",
    "        print (\"it \" , it , \"Minimo obtenido = \" , fitnes ( *optimo.Fenotipos()) , \" en  : f(\" , optimo.Fenotipos(), \")\"  )\n",
    "\n",
    "    \n",
    "optimo = poblacion[0]    \n",
    "\n",
    "print (\"Minimo obtenido = \" , fitnes ( *optimo.Fenotipos()) , \" en  : f(\" , optimo.Fenotipos(), \")\"  )\n",
    "resultadosReal[\"uniforme\"] =  (fitnes ( *optimo.Fenotipos()) ,  optimo.Fenotipos().copy() ,  intensidades.copy())\n",
    "\n"
   ]
  },
  {
   "cell_type": "code",
   "execution_count": 65,
   "metadata": {},
   "outputs": [
    {
     "name": "stdout",
     "output_type": "stream",
     "text": [
      "it  0 Minimo obtenido =  0.0044891088450333995  en  : f( [30.862, 12.845, 42.78, 43.859] )\n",
      "it  100 Minimo obtenido =  0.00012063482251273957  en  : f( [13.079, 12.61, 20.164, 52.68] )\n",
      "it  200 Minimo obtenido =  0.0008119103120343317  en  : f( [13.361, 13.736, 20.164, 52.68] )\n",
      "it  300 Minimo obtenido =  1.828483753186434e-06  en  : f( [14.065, 12.282, 20.164, 58.827] )\n",
      "it  400 Minimo obtenido =  1.3700032224029268e-05  en  : f( [12.751, 14.721, 22.698, 58.827] )\n",
      "it  500 Minimo obtenido =  0.010027980773882514  en  : f( [13.595, 13.783, 13.032, 58.827] )\n",
      "it  600 Minimo obtenido =  0.00021896957005104547  en  : f( [13.971, 12.375, 22.698, 58.827] )\n",
      "it  700 Minimo obtenido =  0.015374441754529693  en  : f( [13.971, 14.721, 13.032, 58.827] )\n",
      "it  800 Minimo obtenido =  8.977463624513125e-06  en  : f( [12.938, 14.581, 22.698, 58.827] )\n",
      "it  900 Minimo obtenido =  9.388748426441576e-05  en  : f( [14.815, 13.877, 22.698, 58.827] )\n",
      "Minimo obtenido =  5.940803720421609e-05  en  : f( [13.83, 14.674, 22.698, 58.827] )\n"
     ]
    }
   ],
   "source": [
    "gen_len  = 10\n",
    "interval = ( 12 , 60)\n",
    "tamanio_poblacion  = 20\n",
    "\n",
    "poblacion = [ Cromosoma([gen_len, gen_len, gen_len, gen_len] , [interval ,interval ,interval ,interval]) for _ in range (tamanio_poblacion)]\n",
    "iterations  = 1000\n",
    "fitnes = f3\n",
    "\n",
    "#metodoDeSeleccion = seleccionUniforme\n",
    "\n",
    "metodoDeReproduccio = reproducirReal\n",
    "metodoDeMutacion  = mutarReal\n",
    "metodoFiltro = seleccionTorneo\n",
    "\n",
    "mostrarcada = 100\n",
    "\n",
    "intensidades = []\n",
    "\n",
    "for it in range (iterations):\n",
    "    #padresSeleccionados = selecionarPares(15 , poblacion , fitnes , metodoDeSeleccion)\n",
    "    padresSeleccionados = seleccionRuleta (15 , poblacion , fitnes ,  seleccionProporcional)\n",
    "    hijos  = reproducir(padresSeleccionados ,metodoDeReproduccio )\n",
    "    hijos  = [ metodoDeMutacion (hijo) for hijo in hijos ]\n",
    "    intensidades.append( intensidadDeSeleccion(poblacion, hijos, fitnes))\n",
    "    poblacion.extend(hijos)\n",
    "    poblacion = [ metodoFiltro(poblacion , fitnes , kontestants=2) for _ in range (15) ]\n",
    "\n",
    "    #if intensidades[-1]== 0 :\n",
    "    #    break\n",
    "\n",
    "    if (it  % mostrarcada == 0 ) :\n",
    "        optimo= poblacion[0]\n",
    "        print (\"it \" , it , \"Minimo obtenido = \" , fitnes ( *optimo.Fenotipos()) , \" en  : f(\" , optimo.Fenotipos(), \")\"  )\n",
    "\n",
    "    \n",
    "optimo = poblacion[0]    \n",
    "\n",
    "print (\"Minimo obtenido = \" , fitnes ( *optimo.Fenotipos()) , \" en  : f(\" , optimo.Fenotipos(), \")\"  )\n",
    "\n",
    "resultadosReal[\"ruleta\"] =  (fitnes ( *optimo.Fenotipos()) ,  optimo.Fenotipos().copy() ,  intensidades.copy())\n"
   ]
  },
  {
   "cell_type": "code",
   "execution_count": 66,
   "metadata": {},
   "outputs": [
    {
     "data": {
      "text/plain": [
       "[<matplotlib.lines.Line2D at 0x7f91aa4a4850>]"
      ]
     },
     "execution_count": 66,
     "metadata": {},
     "output_type": "execute_result"
    },
    {
     "data": {
      "image/png": "[encoded data removed]",
      "text/plain": [
       "<Figure size 432x288 with 1 Axes>"
      ]
     },
     "metadata": {
      "needs_background": "light"
     },
     "output_type": "display_data"
    }
   ],
   "source": [
    "from  matplotlib.pyplot  import plot \n",
    "plot( list (range (len(intensidades)))[:1000] , intensidades[:1000],)"
   ]
  },
  {
   "cell_type": "markdown",
   "metadata": {},
   "source": [
    "## Resultados Finales Parte 3.a"
   ]
  },
  {
   "cell_type": "code",
   "execution_count": 67,
   "metadata": {},
   "outputs": [
    {
     "name": "stdout",
     "output_type": "stream",
     "text": [
      "proporcional  Valor hallado  :  4.092438609862372e-09  punto hallado : [13.548, 12.0, 48.129, 23.402]\n"
     ]
    },
    {
     "data": {
      "image/png": "[encoded data removed]",
      "text/plain": [
       "<Figure size 432x288 with 1 Axes>"
      ]
     },
     "metadata": {
      "needs_background": "light"
     },
     "output_type": "display_data"
    },
    {
     "name": "stdout",
     "output_type": "stream",
     "text": [
      "lineal  Valor hallado  :  1.823162447827309e-06  punto hallado : [14.956, 14.018, 58.358, 24.669]\n"
     ]
    },
    {
     "data": {
      "image/png": "[encoded data removed]",
      "text/plain": [
       "<Figure size 432x288 with 1 Axes>"
      ]
     },
     "metadata": {
      "needs_background": "light"
     },
     "output_type": "display_data"
    },
    {
     "name": "stdout",
     "output_type": "stream",
     "text": [
      "torneo  Valor hallado  :  8.962353609606991e-09  punto hallado : [12.61, 12.047, 18.522, 56.809]\n"
     ]
    },
    {
     "data": {
      "image/png": "[encoded data removed]",
      "text/plain": [
       "<Figure size 432x288 with 1 Axes>"
      ]
     },
     "metadata": {
      "needs_background": "light"
     },
     "output_type": "display_data"
    },
    {
     "name": "stdout",
     "output_type": "stream",
     "text": [
      "uniforme  Valor hallado  :  1.6265041374564945e-05  punto hallado : [12.938, 13.689, 26.921, 46.909]\n"
     ]
    },
    {
     "data": {
      "image/png": "[encoded data removed]",
      "text/plain": [
       "<Figure size 432x288 with 1 Axes>"
      ]
     },
     "metadata": {
      "needs_background": "light"
     },
     "output_type": "display_data"
    },
    {
     "name": "stdout",
     "output_type": "stream",
     "text": [
      "ruleta  Valor hallado  :  5.940803720421609e-05  punto hallado : [13.83, 14.674, 22.698, 58.827]\n"
     ]
    },
    {
     "data": {
      "image/png": "[encoded data removed]",
      "text/plain": [
       "<Figure size 432x288 with 1 Axes>"
      ]
     },
     "metadata": {
      "needs_background": "light"
     },
     "output_type": "display_data"
    }
   ],
   "source": [
    "for key in resultadosReal.keys():\n",
    "    print(key , \" Valor hallado  : \"  , resultadosReal[key][0]  ,\" punto hallado :\" , resultadosReal[key][1])\n",
    "    plt.plot( list (range (len(resultadosReal[key][2])))[:1000] , resultadosReal[key][2][:1000])\n",
    "    plt.show()"
   ]
  },
  {
   "cell_type": "code",
   "execution_count": null,
   "metadata": {},
   "outputs": [],
   "source": []
  }
 ],
 "metadata": {
  "interpreter": {
   "hash": "e7370f93d1d0cde622a1f8e1c04877d8463912d04d973331ad4851f04de6915a"
  },
  "kernelspec": {
   "display_name": "Python 3.8.10 64-bit",
   "language": "python",
   "name": "python3"
  },
  "language_info": {
   "codemirror_mode": {
    "name": "ipython",
    "version": 3
   },
   "file_extension": ".py",
   "mimetype": "text/x-python",
   "name": "python",
   "nbconvert_exporter": "python",
   "pygments_lexer": "ipython3",
   "version": "3.8.10"
  },
  "orig_nbformat": 4
 },
 "nbformat": 4,
 "nbformat_minor": 2
}
