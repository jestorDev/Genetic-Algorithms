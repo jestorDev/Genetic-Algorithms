{
 "cells": [
  {
   "cell_type": "markdown",
   "metadata": {},
   "source": [
    "# Práctica dirigida: Representación y Selección\n",
    "\n",
    "\n",
    "a) Representación del problema (1):\n"
   ]
  },
  {
   "cell_type": "code",
   "execution_count": 1,
   "metadata": {},
   "outputs": [],
   "source": [
    "import random\n",
    "\n",
    "# Funciones para covertir entre \n",
    "# representacion de entrero <> string binario <> string codigo gray\n",
    "# \n",
    "\n",
    "def dec2BinStr(dec: int, len=0):\n",
    "    # 8 =>  \"100\"\n",
    "    a = dec\n",
    "    result = \"\"\n",
    "    if a == 0:\n",
    "        result = \"0\"\n",
    "    while(a > 0):\n",
    "        result = str(a & 1) + result\n",
    "        a = a >> 1\n",
    "\n",
    "    if len != 0:\n",
    "        result = result.zfill(len)\n",
    "    return result\n",
    "\n",
    "def binInt2GrayInt(binInt: int)->int:\n",
    "    # 8 => 12\n",
    "    # debido aque  8= \"1100\" en codigo gray\n",
    "    # y  \"1100\" = 12 en binario\n",
    "    shiftedA = binInt >> 1\n",
    "    return binInt ^ shiftedA\n",
    "\n",
    "def grayInt2BinInt(gray: int):\n",
    "    # 12 => 8\n",
    "    # inverso de la binInt2GrayInt\n",
    "    grayBits = gray\n",
    "    result = gray\n",
    "    while(grayBits > 0):\n",
    "        grayBits = grayBits >> 1\n",
    "        result = result ^ grayBits\n",
    "    return result\n",
    "\n",
    "def dec2GrayStr(dec: int, len = 0):\n",
    "    # 8 => \"1100\"\n",
    "    return dec2BinStr(binInt2GrayInt(dec) , len  )\n",
    "\n",
    "def GrayStr2dec(gray: str):\n",
    "    # \"1100\" => 8\n",
    "    return grayInt2BinInt( Str2Dec(gray) )\n",
    "\n",
    "def Str2Dec (strBin : str):\n",
    "    # \"100\" => 8\n",
    "    # \"1100\" => 12\n",
    "    return  int(strBin, 2)\n",
    "\n",
    "def scaleBinToRange ( bin:int , bin_tam:int, interval : tuple, decimals = 3):\n",
    "    hiR , loR = interval[1] , interval[0]\n",
    "    hiB  =(2**bin_tam)-1\n",
    "    \n",
    "    return  round  (loR + ( bin*((hiR - loR)/(hiB))) , decimals)\n",
    "\n"
   ]
  },
  {
   "cell_type": "code",
   "execution_count": 2,
   "metadata": {},
   "outputs": [
    {
     "data": {
      "text/plain": [
       "12"
      ]
     },
     "execution_count": 2,
     "metadata": {},
     "output_type": "execute_result"
    }
   ],
   "source": [
    "binInt2GrayInt(8)"
   ]
  },
  {
   "cell_type": "markdown",
   "metadata": {},
   "source": [
    "\n",
    "• implemente un programa en python que represente el cromosoma como una cadena binaria de 10 dı́gitos (10 bits) y muestre imprima el Fenotipo y su representación binaria para una población de 10 individuos."
   ]
  },
  {
   "cell_type": "code",
   "execution_count": 3,
   "metadata": {},
   "outputs": [
    {
     "name": "stdout",
     "output_type": "stream",
     "text": [
      " ----------------Cromosomas Binarios----------------\n",
      "Genotipo :  1010111111 ( 703 )  Fenotipo : -1.938\n",
      "Genotipo :  1010100011 ( 675 )  Fenotipo : -2.021\n",
      "Genotipo :  1011001001 ( 713 )  Fenotipo : -1.909\n",
      "Genotipo :  0111101010 ( 490 )  Fenotipo : -2.563\n",
      "Genotipo :  0001111000 ( 120 )  Fenotipo : -3.648\n",
      "Genotipo :  1111010001 ( 977 )  Fenotipo : -1.135\n",
      "Genotipo :  0010101100 ( 172 )  Fenotipo : -3.496\n",
      "Genotipo :  1110000110 ( 902 )  Fenotipo : -1.355\n",
      "Genotipo :  0111101100 ( 492 )  Fenotipo : -2.557\n",
      "Genotipo :  1011101101 ( 749 )  Fenotipo : -1.804\n"
     ]
    }
   ],
   "source": [
    "cantidad = 10\n",
    "tamanio_gen = 10\n",
    "interval = (-4 , -1)\n",
    "poblacion = []\n",
    "for i in range(cantidad):\n",
    "    poblacion.append(random.randint(0,(2**tamanio_gen)-1))\n",
    "    \n",
    "\n",
    "print(\" ----------------Cromosomas Binarios----------------\")\n",
    "for indv in poblacion :\n",
    "    geno = dec2BinStr(indv,len = tamanio_gen)\n",
    "    feno = scaleBinToRange(indv , tamanio_gen , interval)\n",
    "    print( \"Genotipo : \",  geno  , \"(\" ,indv,\")\",\" Fenotipo :\",  feno )\n"
   ]
  },
  {
   "cell_type": "code",
   "execution_count": 4,
   "metadata": {},
   "outputs": [
    {
     "data": {
      "text/plain": [
       "list"
      ]
     },
     "execution_count": 4,
     "metadata": {},
     "output_type": "execute_result"
    }
   ],
   "source": [
    "type(poblacion)"
   ]
  },
  {
   "cell_type": "markdown",
   "metadata": {},
   "source": [
    "• Realizar lo mismo del ı́tem anterior para la representación en código de Gray."
   ]
  },
  {
   "cell_type": "code",
   "execution_count": 5,
   "metadata": {},
   "outputs": [
    {
     "name": "stdout",
     "output_type": "stream",
     "text": [
      " ----------------Cromosomas Codigo gray----------------\n",
      "Genotipo :  1111100000 ( 703 )  Fenotipo : -1.938\n",
      "Genotipo :  1111110010 ( 675 )  Fenotipo : -2.021\n",
      "Genotipo :  1110101101 ( 713 )  Fenotipo : -1.909\n",
      "Genotipo :  0100011111 ( 490 )  Fenotipo : -2.563\n",
      "Genotipo :  0001000100 ( 120 )  Fenotipo : -3.648\n",
      "Genotipo :  1000111001 ( 977 )  Fenotipo : -1.135\n",
      "Genotipo :  0011111010 ( 172 )  Fenotipo : -3.496\n",
      "Genotipo :  1001000101 ( 902 )  Fenotipo : -1.355\n",
      "Genotipo :  0100011010 ( 492 )  Fenotipo : -2.557\n",
      "Genotipo :  1110011011 ( 749 )  Fenotipo : -1.804\n"
     ]
    }
   ],
   "source": [
    "print(\" ----------------Cromosomas Codigo gray----------------\")\n",
    "for indv in poblacion :\n",
    "    geno = dec2GrayStr(indv,len = tamanio_gen)\n",
    "    feno = scaleBinToRange(indv , tamanio_gen , interval)\n",
    "    print( \"Genotipo : \",  geno  , \"(\" ,indv,\")\",\" Fenotipo :\",  feno )\n"
   ]
  },
  {
   "cell_type": "markdown",
   "metadata": {},
   "source": [
    "• Considerando las representaciones anteriores (cadena de 10 bits y representación real) ¿cual seria el tamaño del espacio intrı́nseco?\n",
    "\n",
    "El tamaño es 2**10 = 1024 debido a que se pueden representar valores enteros desde el 0 hasta el 1023\n",
    "\n",
    "\n",
    "b) Representación del problema (2):"
   ]
  },
  {
   "cell_type": "code",
   "execution_count": 6,
   "metadata": {},
   "outputs": [],
   "source": [
    "class Cromosoma:\n",
    "    def __init__(self, len_genes: list , intervals: list ):\n",
    "        if len(len_genes ) != len(intervals): print(\"TAMANIOS E INTERVALOS DIFIEREN EN CANTIDAD\")\n",
    "\n",
    "        self.tamanios = len_genes\n",
    "        self.intervals = intervals\n",
    "        self.indviduos = [ random.randint(0 , 2**tam -1 ) for tam in len_genes ]\n",
    "    \n",
    "    def GensBin (self):\n",
    "        return \"\".join([dec2BinStr(indv , len=tam) for indv , tam in zip( self.indviduos , self.tamanios) ])\n",
    "\n",
    "    def GensGray (self):\n",
    "        return \"\".join([dec2BinStr(indv,tam)  for indv , tam  in zip (self.indviduos ,  self.tamanios) ])\n",
    "\n",
    "    def GenesReal (self):\n",
    "        return self.indviduos\n",
    "\n",
    "    def Fenotipos (self):\n",
    "        return [scaleBinToRange(indv , tam ,  inter )  for indv , tam ,  inter  in zip(self.indviduos , self.tamanios ,self.intervals )]\n"
   ]
  },
  {
   "cell_type": "markdown",
   "metadata": {},
   "source": [
    "• implemente un programa en python que represente el cromosoma como una cadena binaria donde x, y estén representados por 5 bits cada uno y luego muestre/imprima el Fenotipo y su representación binaria."
   ]
  },
  {
   "cell_type": "code",
   "execution_count": 7,
   "metadata": {},
   "outputs": [
    {
     "name": "stdout",
     "output_type": "stream",
     "text": [
      "Genotipo:  0001010100  Fenotipo: [-0.871, 0.29]\n",
      "Genotipo:  0001001111  Fenotipo: [-0.871, -0.032]\n",
      "Genotipo:  1000000011  Fenotipo: [0.032, -0.806]\n",
      "Genotipo:  0110011111  Fenotipo: [-0.226, 1.0]\n",
      "Genotipo:  0110000000  Fenotipo: [-0.226, -1.0]\n",
      "Genotipo:  1010110110  Fenotipo: [0.355, 0.419]\n",
      "Genotipo:  1010010101  Fenotipo: [0.29, 0.355]\n",
      "Genotipo:  0000100000  Fenotipo: [-0.935, -1.0]\n",
      "Genotipo:  1011001100  Fenotipo: [0.419, -0.226]\n",
      "Genotipo:  0110010110  Fenotipo: [-0.226, 0.419]\n"
     ]
    }
   ],
   "source": [
    "poblacion = []\n",
    "tam_x = 5\n",
    "tam_y = 5\n",
    "intervalx = (-1 , 1) \n",
    "intervaly = (-1 , 1) \n",
    "\n",
    "for _ in range(cantidad):\n",
    "    poblacion.append(Cromosoma([tam_x,tam_y] , [intervalx, intervaly]))\n",
    "\n",
    "for cromo in poblacion:\n",
    "    print(\"Genotipo: \" , cromo.GensBin() , \" Fenotipo:\"  , cromo.Fenotipos() )"
   ]
  },
  {
   "cell_type": "markdown",
   "metadata": {},
   "source": [
    "• Realizar lo mismo del ı́tem anterior para la representación en código de Gray."
   ]
  },
  {
   "cell_type": "code",
   "execution_count": 8,
   "metadata": {},
   "outputs": [
    {
     "name": "stdout",
     "output_type": "stream",
     "text": [
      "Genotipo:  0001010100  Fenotipo: [-0.871, 0.29]\n",
      "Genotipo:  0001001111  Fenotipo: [-0.871, -0.032]\n",
      "Genotipo:  1000000011  Fenotipo: [0.032, -0.806]\n",
      "Genotipo:  0110011111  Fenotipo: [-0.226, 1.0]\n",
      "Genotipo:  0110000000  Fenotipo: [-0.226, -1.0]\n",
      "Genotipo:  1010110110  Fenotipo: [0.355, 0.419]\n",
      "Genotipo:  1010010101  Fenotipo: [0.29, 0.355]\n",
      "Genotipo:  0000100000  Fenotipo: [-0.935, -1.0]\n",
      "Genotipo:  1011001100  Fenotipo: [0.419, -0.226]\n",
      "Genotipo:  0110010110  Fenotipo: [-0.226, 0.419]\n"
     ]
    }
   ],
   "source": [
    "for cromo in poblacion:\n",
    "    print(\"Genotipo: \" , cromo.GensGray() , \n",
    "    \" Fenotipo:\"  , cromo.Fenotipos() )"
   ]
  },
  {
   "cell_type": "markdown",
   "metadata": {},
   "source": [
    "• Realizar lo mismo del ı́tem anterior para la representación real."
   ]
  },
  {
   "cell_type": "code",
   "execution_count": 9,
   "metadata": {},
   "outputs": [
    {
     "name": "stdout",
     "output_type": "stream",
     "text": [
      "Genotipo:  [-0.871, 0.29]  Fenotipo: [-0.871, 0.29]\n",
      "Genotipo:  [-0.871, -0.032]  Fenotipo: [-0.871, -0.032]\n",
      "Genotipo:  [0.032, -0.806]  Fenotipo: [0.032, -0.806]\n",
      "Genotipo:  [-0.226, 1.0]  Fenotipo: [-0.226, 1.0]\n",
      "Genotipo:  [-0.226, -1.0]  Fenotipo: [-0.226, -1.0]\n",
      "Genotipo:  [0.355, 0.419]  Fenotipo: [0.355, 0.419]\n",
      "Genotipo:  [0.29, 0.355]  Fenotipo: [0.29, 0.355]\n",
      "Genotipo:  [-0.935, -1.0]  Fenotipo: [-0.935, -1.0]\n",
      "Genotipo:  [0.419, -0.226]  Fenotipo: [0.419, -0.226]\n",
      "Genotipo:  [-0.226, 0.419]  Fenotipo: [-0.226, 0.419]\n"
     ]
    }
   ],
   "source": [
    "for cromo in poblacion:\n",
    "    print(\"Genotipo: \" , cromo.Fenotipos()  ,\n",
    "     \" Fenotipo:\"  , cromo.Fenotipos() )"
   ]
  },
  {
   "cell_type": "markdown",
   "metadata": {},
   "source": [
    "\n",
    "• Considerando las representaciones anteriores (cadena de 10 bits y representación real) ¿cual\n",
    "seria el tamaño del espacio intrı́nseco?\n",
    "\n",
    "El tamaño seria (2^5)*(2^5) = 1024 ya que podemos representar del 0 al 31 con \"x\" y del mismo modo con \"y\"\n"
   ]
  },
  {
   "cell_type": "markdown",
   "metadata": {},
   "source": [
    "\n",
    "c) Representación del problema (3):\n",
    "• implemente un programa en python que represente el cromosoma como una cadena binaria donde x1 , x2 , x3 , x4 estén representados por 6 bits cada uno y luego muestre/imprima el\n",
    "Fenotipo y su representación binaria."
   ]
  },
  {
   "cell_type": "code",
   "execution_count": 10,
   "metadata": {},
   "outputs": [
    {
     "name": "stdout",
     "output_type": "stream",
     "text": [
      "[(-1, 1), (-1, 1), (-1, 1), (-1, 1), (-1, 1), (-1, 1)]\n"
     ]
    }
   ],
   "source": [
    "intervalx = (-1 , 1) \n",
    "a = [intervalx]*6\n",
    "print(a)"
   ]
  },
  {
   "cell_type": "code",
   "execution_count": 11,
   "metadata": {},
   "outputs": [
    {
     "name": "stdout",
     "output_type": "stream",
     "text": [
      "Genotipo:  001010111011110000001000  Fenotipo: [19.619, 56.952, 48.571, 18.095]\n",
      "Genotipo:  011100011100011001010101  Fenotipo: [33.333, 33.333, 31.048, 28.0]\n",
      "Genotipo:  111010100011011111001110  Fenotipo: [56.19, 38.667, 35.619, 22.667]\n",
      "Genotipo:  000100110001100001101110  Fenotipo: [15.048, 49.333, 37.143, 47.048]\n",
      "Genotipo:  000010100100000100100100  Fenotipo: [13.524, 39.429, 15.048, 39.429]\n",
      "Genotipo:  011111011010011111111100  Fenotipo: [35.619, 31.81, 35.619, 57.714]\n",
      "Genotipo:  101111100110001101000010  Fenotipo: [47.81, 40.952, 21.905, 13.524]\n",
      "Genotipo:  000010110100101111110101  Fenotipo: [13.524, 51.619, 47.81, 52.381]\n",
      "Genotipo:  010110110010001100110111  Fenotipo: [28.762, 50.095, 21.143, 53.905]\n",
      "Genotipo:  101101010100001010010100  Fenotipo: [46.286, 27.238, 19.619, 27.238]\n"
     ]
    }
   ],
   "source": [
    "poblacion = []\n",
    "tam_x = 6\n",
    "intervalx = (12 , 60) \n",
    "\n",
    "for _ in range(cantidad):\n",
    "    poblacion.append(Cromosoma([tam_x]*4 , [intervalx] * 4))\n",
    "\n",
    "for cromo in poblacion:\n",
    "    print(\"Genotipo: \" , cromo.GensBin() , \" Fenotipo:\"  , cromo.Fenotipos() )"
   ]
  },
  {
   "cell_type": "markdown",
   "metadata": {},
   "source": [
    "• Realizar lo mismo del ı́tem anterior para la representación en código de Gray."
   ]
  },
  {
   "cell_type": "code",
   "execution_count": 12,
   "metadata": {},
   "outputs": [
    {
     "name": "stdout",
     "output_type": "stream",
     "text": [
      "Genotipo:  001010111011110000001000  Fenotipo: [19.619, 56.952, 48.571, 18.095]\n",
      "Genotipo:  011100011100011001010101  Fenotipo: [33.333, 33.333, 31.048, 28.0]\n",
      "Genotipo:  111010100011011111001110  Fenotipo: [56.19, 38.667, 35.619, 22.667]\n",
      "Genotipo:  000100110001100001101110  Fenotipo: [15.048, 49.333, 37.143, 47.048]\n",
      "Genotipo:  000010100100000100100100  Fenotipo: [13.524, 39.429, 15.048, 39.429]\n",
      "Genotipo:  011111011010011111111100  Fenotipo: [35.619, 31.81, 35.619, 57.714]\n",
      "Genotipo:  101111100110001101000010  Fenotipo: [47.81, 40.952, 21.905, 13.524]\n",
      "Genotipo:  000010110100101111110101  Fenotipo: [13.524, 51.619, 47.81, 52.381]\n",
      "Genotipo:  010110110010001100110111  Fenotipo: [28.762, 50.095, 21.143, 53.905]\n",
      "Genotipo:  101101010100001010010100  Fenotipo: [46.286, 27.238, 19.619, 27.238]\n"
     ]
    }
   ],
   "source": [
    "for cromo in poblacion:\n",
    "    print(\"Genotipo: \" , cromo.GensGray() , \n",
    "    \" Fenotipo:\"  , cromo.Fenotipos() )"
   ]
  },
  {
   "cell_type": "markdown",
   "metadata": {},
   "source": [
    "• Realizar lo mismo del ı́tem anterior para la representación real."
   ]
  },
  {
   "cell_type": "code",
   "execution_count": 13,
   "metadata": {},
   "outputs": [
    {
     "name": "stdout",
     "output_type": "stream",
     "text": [
      "Genotipo:  [19.619, 56.952, 48.571, 18.095]  Fenotipo: [19.619, 56.952, 48.571, 18.095]\n",
      "Genotipo:  [33.333, 33.333, 31.048, 28.0]  Fenotipo: [33.333, 33.333, 31.048, 28.0]\n",
      "Genotipo:  [56.19, 38.667, 35.619, 22.667]  Fenotipo: [56.19, 38.667, 35.619, 22.667]\n",
      "Genotipo:  [15.048, 49.333, 37.143, 47.048]  Fenotipo: [15.048, 49.333, 37.143, 47.048]\n",
      "Genotipo:  [13.524, 39.429, 15.048, 39.429]  Fenotipo: [13.524, 39.429, 15.048, 39.429]\n",
      "Genotipo:  [35.619, 31.81, 35.619, 57.714]  Fenotipo: [35.619, 31.81, 35.619, 57.714]\n",
      "Genotipo:  [47.81, 40.952, 21.905, 13.524]  Fenotipo: [47.81, 40.952, 21.905, 13.524]\n",
      "Genotipo:  [13.524, 51.619, 47.81, 52.381]  Fenotipo: [13.524, 51.619, 47.81, 52.381]\n",
      "Genotipo:  [28.762, 50.095, 21.143, 53.905]  Fenotipo: [28.762, 50.095, 21.143, 53.905]\n",
      "Genotipo:  [46.286, 27.238, 19.619, 27.238]  Fenotipo: [46.286, 27.238, 19.619, 27.238]\n"
     ]
    }
   ],
   "source": [
    "for cromo in poblacion:\n",
    "    print(\"Genotipo: \" , cromo.Fenotipos()  ,\n",
    "     \" Fenotipo:\"  , cromo.Fenotipos() )"
   ]
  },
  {
   "cell_type": "markdown",
   "metadata": {},
   "source": [
    "• Considerando las representaciones anteriores (cadena de bits, representación real) ¿cual seria el tamaño del espacio intrı́nseco?\n",
    "\n",
    "El tamaño seria (2^6)\\*(2^6)\\*(2^6)*(2^6) = 16777216 ya que podemos representar del 0 al 63 con cada uno de los genes.\n"
   ]
  },
  {
   "cell_type": "code",
   "execution_count": 14,
   "metadata": {},
   "outputs": [
    {
     "data": {
      "text/plain": [
       "16777216"
      ]
     },
     "execution_count": 14,
     "metadata": {},
     "output_type": "execute_result"
    }
   ],
   "source": [
    "(2**6)*(2**6)*(2**6)*(2**6)"
   ]
  },
  {
   "cell_type": "code",
   "execution_count": 15,
   "metadata": {},
   "outputs": [],
   "source": [
    "from math import cos , sin , pi\n",
    "\n",
    "def f1 ( x : int):\n",
    "    return x**4 + 5* x**3 + 4*x**2 - 4 * x +1\n",
    "\n",
    "def f2 ( x : int , y :int):\n",
    "    return  0.2 + x**2 + y**2 - 0.1 * cos(6*pi * x) - 0.1 * sin(6 * pi * y)\n",
    "\n",
    "def f3 ( x1 : int , x2 : int, x3 : int ,x4 : int ):\n",
    "    return  ((1/6.931) - ((x1*x2)/(x3*x4)))\n"
   ]
  },
  {
   "cell_type": "code",
   "execution_count": 16,
   "metadata": {},
   "outputs": [
    {
     "name": "stdout",
     "output_type": "stream",
     "text": [
      "-5\n",
      "0.1\n",
      "-999.8557206752272\n"
     ]
    }
   ],
   "source": [
    "print(f1 (*[-3]))\n",
    "print(f2 (*[0 , 0]))\n",
    "print(f3 (*[1000,1,1,1]))"
   ]
  },
  {
   "cell_type": "code",
   "execution_count": 17,
   "metadata": {},
   "outputs": [],
   "source": [
    "def printList(listI, title ):\n",
    "    # Imprimir lista de elementos\n",
    "    print(title , \"-----------------\")\n",
    "    for ind in listI:\n",
    "        print(\"\\t\" , ind)\n",
    "\n",
    "\n",
    "def sortBy(a : list , b : list , mayoresPrimero = True):\n",
    "    #ordena la primera lista segun la segunda lista\n",
    "    pares  =  [ (ai , bi) for ai,bi in zip(a,b)]\n",
    "    ordenados = sorted(pares , key = lambda x : x[1], reverse=mayoresPrimero)\n",
    "    return  [x[0] for x  in ordenados]\n",
    "\n"
   ]
  },
  {
   "cell_type": "markdown",
   "metadata": {},
   "source": [
    "2. Gestión de la población: de la teorı́a se sabe que los métodos de selección son independientes del método de representación del algoritmo evolutivo, implemente los siguientes métodos de selección en python:\n"
   ]
  },
  {
   "cell_type": "markdown",
   "metadata": {},
   "source": [
    "- método de selección proporcional"
   ]
  },
  {
   "cell_type": "code",
   "execution_count": 25,
   "metadata": {},
   "outputs": [
    {
     "name": "stdout",
     "output_type": "stream",
     "text": [
      "[[[-0.677, -0.097], [-0.097, 1.0]], [[0.871, 0.484], [-0.29, 0.935]], [[-0.677, -0.097], [0.871, 0.484]]]\n"
     ]
    }
   ],
   "source": [
    "def seleccionProporcional(cromos: list, f, transpose_Value=0, mayoresPrimero=True):\n",
    "\n",
    "    fenos = [cromo.Fenotipos() for cromo in cromos]\n",
    "    fitness = [f(*feno) for feno in fenos]\n",
    "    maxFitness = max(fitness)\n",
    "\n",
    "    # maxFitness - fit siempre es positivo\n",
    "    # maximizar esta diferencia halla los minimos\n",
    "    fitness = [maxFitness - fit + transpose_Value for fit in fitness]\n",
    "    sumFitness = sum(fitness)\n",
    "    probab = [round(fit/sumFitness, 2) for fit in fitness]\n",
    "\n",
    "    #print (\"F: \" , fitness , \"\\nC : \" , fenos ,\"\\nP: \" , probab )\n",
    "    return cromos, probab\n",
    "\n",
    "\n",
    "def selecionarPares(nPares: int, population: list, fitness,metodoSeleccion):\n",
    "\n",
    "    orderPop, probabilidades = metodoSeleccion(population, fitness)\n",
    "    paresSelectos = []\n",
    "    for _ in range(nPares):\n",
    "        paresSelectos.append(\n",
    "            random.choices(\n",
    "                population=orderPop,\n",
    "                weights=probabilidades,\n",
    "                k=2)\n",
    "        )\n",
    "    return paresSelectos\n",
    "\n",
    "poblacion = []\n",
    "tam_x = 5\n",
    "tam_y = 5\n",
    "intervalx = (-1 , 1) \n",
    "intervaly = (-1 , 1) \n",
    "\n",
    "for _ in range(cantidad):\n",
    "    poblacion.append(Cromosoma([tam_x,tam_y] , [intervalx, intervaly]))\n",
    "\n",
    "\n",
    "print([\n",
    "    [a.Fenotipos() , b.Fenotipos()]  for a, b in \n",
    "    selecionarPares (\n",
    "        3 ,\n",
    "        poblacion , \n",
    "        lambda x,y : x**2-10  + y**2-10,\n",
    "        seleccionProporcional )])\n",
    "\n"
   ]
  },
  {
   "cell_type": "markdown",
   "metadata": {},
   "source": [
    "- método de selección basada en ranking lineal"
   ]
  },
  {
   "cell_type": "code",
   "execution_count": 31,
   "metadata": {},
   "outputs": [
    {
     "name": "stdout",
     "output_type": "stream",
     "text": [
      "[[[0.742, -0.677], [0.677, 0.097]], [[0.032, 0.097], [0.871, 0.484]], [[-0.677, -0.097], [-0.677, -0.097]]]\n"
     ]
    }
   ],
   "source": [
    "def seleccionRankingLineal (cromos:list , f ,transpose_Value =0 ,mayoresPrimero = True , presionSeleccion = 1.5 ):\n",
    "    fenos = [cromo.Fenotipos() for cromo in cromos]\n",
    "    fitness =  [ f (*feno) for feno in fenos ]\n",
    "    maxFitness = max(fitness)\n",
    "    #maxFitness - fit siempre es positivo\n",
    "    # maximizar esta diferencia halla los minimos\n",
    "    fitness =  [  maxFitness - fit + transpose_Value for fit in fitness ]\n",
    "\n",
    "    mu = len (cromos)\n",
    "    s = presionSeleccion\n",
    "    \n",
    "    cromoOrdenado = sortBy(cromos , fitness , mayoresPrimero=False)\n",
    "    #fenoOrdenado = sortBy(fenos, fitness , mayoresPrimero=False)\n",
    "    #fitordenado  = sortBy(fitness, fitness , mayoresPrimero=False)\n",
    "\n",
    "    probab = [\n",
    "        float((2- s) / mu)  + ( (2*i *(s-1))/(mu * (mu-1))) \n",
    "        for i in range(mu)]\n",
    "    \n",
    "    #print (\"F: \" , fitordenado , \"\\nC : \" , fenoOrdenado ,\"\\nP: \" , probab )\n",
    "    \n",
    "    return cromoOrdenado , probab\n",
    "\n",
    "\n",
    "print([\n",
    "    [a.Fenotipos() , b.Fenotipos()]  for a, b in \n",
    "    selecionarPares (\n",
    "        3 ,\n",
    "        poblacion , \n",
    "        lambda x,y : x**2-10  + y**2-10,\n",
    "        seleccionRankingLineal )])\n"
   ]
  },
  {
   "cell_type": "markdown",
   "metadata": {},
   "source": [
    "- método de torneo"
   ]
  },
  {
   "cell_type": "code",
   "execution_count": 37,
   "metadata": {},
   "outputs": [
    {
     "name": "stdout",
     "output_type": "stream",
     "text": [
      "\n",
      "F:  [-19.532262, -19.532262, -19.007103, -19.532262, -19.798518] \n",
      "C :  [[-0.677, -0.097], [-0.677, -0.097], [0.871, 0.484], [0.677, 0.097], [-0.419, -0.161]] \n",
      "C:  [0.871, 0.484]\n",
      "\n",
      "F:  [-19.041674999999998, -19.798518, -19.007103, -18.991107, -19.007103] \n",
      "C :  [[-0.29, 0.935], [-0.419, -0.161], [0.871, 0.484], [0.742, -0.677], [0.871, 0.484]] \n",
      "C:  [0.742, -0.677]\n",
      "\n",
      "F:  [-19.532262, -18.991107, -18.991107, -19.041674999999998, -19.532262] \n",
      "C :  [[0.677, 0.097], [0.742, -0.677], [0.742, -0.677], [-0.29, 0.935], [0.677, 0.097]] \n",
      "C:  [0.742, -0.677]\n",
      "\n",
      "F:  [-18.990591000000002, -18.990591000000002, -18.991107, -18.783029999999997, -19.989567] \n",
      "C :  [[-0.097, 1.0], [-0.097, 1.0], [0.742, -0.677], [0.677, 0.871], [0.032, 0.097]] \n",
      "C:  [0.677, 0.871]\n",
      "\n",
      "F:  [-18.990591000000002, -18.991107, -18.990591000000002, -19.532262, -19.989567] \n",
      "C :  [[-0.097, 1.0], [0.742, -0.677], [-0.097, 1.0], [-0.677, -0.097], [0.032, 0.097]] \n",
      "C:  [-0.097, 1.0]\n",
      "\n",
      "F:  [-18.990591000000002, -18.575211, -18.991107, -18.575211, -18.575211] \n",
      "C :  [[-0.097, 1.0], [-0.742, -0.935], [0.742, -0.677], [-0.742, -0.935], [-0.742, -0.935]] \n",
      "C:  [-0.742, -0.935]\n",
      "[[[0.871, 0.484], [0.742, -0.677]], [[0.742, -0.677], [0.677, 0.871]], [[-0.097, 1.0], [-0.742, -0.935]]]\n"
     ]
    }
   ],
   "source": [
    "def parSeleccionTorneo (cromos:list , f,  kontestants = 5 ):\n",
    "    parSeleccionado = []\n",
    "    for i in range (2):\n",
    "        candidatos = random.choices(population=cromos,k=kontestants)\n",
    "        fenos = [cromo.Fenotipos() for cromo in candidatos]\n",
    "        fitness =  [ f (*feno) for feno in fenos ]\n",
    "        maxFitness = max(fitness)\n",
    "        fitness =  [ maxFitness - fit for fit in fitness ]\n",
    "        campeon = sortBy(candidatos,fitness , mayoresPrimero=True)[0]\n",
    "        print (\"\\nF: \" , fitness , \"\\nC : \" , fenos ,\"\\nC: \" , campeon.Fenotipos())\n",
    "\n",
    "        parSeleccionado.append(campeon)\n",
    "\n",
    "    return parSeleccionado\n",
    "\n",
    "def selecionarParesTorneo(nPares: int, population: list, fitness):\n",
    "    paresSelectos = []\n",
    "    for _ in range(nPares):        \n",
    "        paresSelectos.append(\n",
    "            parSeleccionTorneo( population , fitness )\n",
    "        )\n",
    "    return paresSelectos\n",
    "\n",
    "\n",
    "print([\n",
    "    [a.Fenotipos() , b.Fenotipos()]  for a, b in \n",
    "    selecionarParesTorneo (\n",
    "        3 ,\n",
    "        poblacion , \n",
    "        lambda x,y : x**2-10  + y**2-10)])\n"
   ]
  },
  {
   "cell_type": "markdown",
   "metadata": {},
   "source": [
    "- método de selección uniforme"
   ]
  },
  {
   "cell_type": "code",
   "execution_count": null,
   "metadata": {},
   "outputs": [],
   "source": []
  },
  {
   "cell_type": "markdown",
   "metadata": {},
   "source": [
    "- método de la ruleta"
   ]
  },
  {
   "cell_type": "code",
   "execution_count": null,
   "metadata": {},
   "outputs": [],
   "source": []
  },
  {
   "cell_type": "markdown",
   "metadata": {},
   "source": [
    "# Item a\n",
    "## Representacion del problema"
   ]
  },
  {
   "cell_type": "code",
   "execution_count": null,
   "metadata": {},
   "outputs": [],
   "source": [
    "class cromosoma:\n",
    "    def __init__(self, nDigitos , isGraycode = False):\n",
    "        self.isGraycode = isGraycode\n",
    "        self.nDigitos = nDigitos\n",
    "\n",
    "    def decToBin(self,n):\n",
    "        decToBin(n , self.nDigitos)\n",
    "\n",
    "    def print( self , n):\n",
    "        print (\"Fenotipo :\"  , n   , \"Genotipo\" , self.decToBin(n))\n",
    "\n",
    "    def printGrayCode( self , n):\n",
    "        print (\"Fenotipo :\"  , n   , \"Genotipo\" , self.decToBin(n))\n",
    "\n",
    "\n",
    " = cromosoma(10)\n",
    "\n",
    "cromosomas = [  ]\n"
   ]
  },
  {
   "cell_type": "code",
   "execution_count": null,
   "metadata": {},
   "outputs": [],
   "source": []
  },
  {
   "cell_type": "code",
   "execution_count": null,
   "metadata": {},
   "outputs": [],
   "source": []
  }
 ],
 "metadata": {
  "interpreter": {
   "hash": "e7370f93d1d0cde622a1f8e1c04877d8463912d04d973331ad4851f04de6915a"
  },
  "kernelspec": {
   "display_name": "Python 3.8.10 64-bit",
   "language": "python",
   "name": "python3"
  },
  "language_info": {
   "codemirror_mode": {
    "name": "ipython",
    "version": 3
   },
   "file_extension": ".py",
   "mimetype": "text/x-python",
   "name": "python",
   "nbconvert_exporter": "python",
   "pygments_lexer": "ipython3",
   "version": "3.8.10"
  },
  "orig_nbformat": 4
 },
 "nbformat": 4,
 "nbformat_minor": 2
}
