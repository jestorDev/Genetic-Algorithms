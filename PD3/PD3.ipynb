{
 "cells": [
  {
   "cell_type": "markdown",
   "metadata": {},
   "source": [
    "# Práctica dirigida: Representación y Selección\n",
    "\n",
    "\n",
    "a) Representación del problema (1):\n"
   ]
  },
  {
   "cell_type": "code",
   "execution_count": 1,
   "metadata": {},
   "outputs": [],
   "source": [
    "import random\n",
    "import numpy as np\n",
    "# Funciones para covertir entre \n",
    "# representacion de entrero <> string binario <> string codigo gray\n",
    "# \n",
    "\n",
    "def dec2BinStr(dec: int, len=0):\n",
    "    # 8 =>  \"100\"\n",
    "    a = dec\n",
    "    result = \"\"\n",
    "    if a == 0:\n",
    "        result = \"0\"\n",
    "    while(a > 0):\n",
    "        result = str(a & 1) + result\n",
    "        a = a >> 1\n",
    "\n",
    "    if len != 0:\n",
    "        result = result.zfill(len)\n",
    "    return result\n",
    "\n",
    "def binInt2GrayInt(binInt: int)->int:\n",
    "    # 8 => 12\n",
    "    # debido aque  8= \"1100\" en codigo gray\n",
    "    # y  \"1100\" = 12 en binario\n",
    "    shiftedA = binInt >> 1\n",
    "    return binInt ^ shiftedA\n",
    "\n",
    "def grayInt2BinInt(gray: int):\n",
    "    # 12 => 8\n",
    "    # inverso de la binInt2GrayInt\n",
    "    grayBits = gray\n",
    "    result = gray\n",
    "    while(grayBits > 0):\n",
    "        grayBits = grayBits >> 1\n",
    "        result = result ^ grayBits\n",
    "    return result\n",
    "\n",
    "def dec2GrayStr(dec: int, len = 0):\n",
    "    # 8 => \"1100\"\n",
    "    return dec2BinStr(binInt2GrayInt(dec) , len  )\n",
    "\n",
    "def GrayStr2dec(gray: str):\n",
    "    # \"1100\" => 8\n",
    "    return grayInt2BinInt( Str2Dec(gray) )\n",
    "\n",
    "def Str2Dec (strBin : str):\n",
    "    # \"100\" => 8\n",
    "    # \"1100\" => 12\n",
    "    return  int(strBin, 2)\n",
    "\n",
    "def scaleBinToRange ( bin:int , bin_tam:int, interval : tuple, decimals = 3):\n",
    "    hiR , loR = interval[1] , interval[0]\n",
    "    hiB  =(2**bin_tam)-1\n",
    "    \n",
    "    return  round  (loR + ( bin*((hiR - loR)/(hiB))) , decimals)\n",
    "\n"
   ]
  },
  {
   "cell_type": "code",
   "execution_count": 2,
   "metadata": {},
   "outputs": [
    {
     "data": {
      "text/plain": [
       "12"
      ]
     },
     "execution_count": 2,
     "metadata": {},
     "output_type": "execute_result"
    }
   ],
   "source": [
    "binInt2GrayInt(8)"
   ]
  },
  {
   "cell_type": "markdown",
   "metadata": {},
   "source": [
    "\n",
    "• implemente un programa en python que represente el cromosoma como una cadena binaria de 10 dı́gitos (10 bits) y muestre imprima el Fenotipo y su representación binaria para una población de 10 individuos."
   ]
  },
  {
   "cell_type": "code",
   "execution_count": 3,
   "metadata": {},
   "outputs": [
    {
     "name": "stdout",
     "output_type": "stream",
     "text": [
      " ----------------Cromosomas Binarios----------------\n",
      "Genotipo :  0111010001 ( 465 )  Fenotipo : -2.636\n",
      "Genotipo :  0111010110 ( 470 )  Fenotipo : -2.622\n",
      "Genotipo :  1110111101 ( 957 )  Fenotipo : -1.194\n",
      "Genotipo :  1110100001 ( 929 )  Fenotipo : -1.276\n",
      "Genotipo :  0100100110 ( 294 )  Fenotipo : -3.138\n",
      "Genotipo :  1101100001 ( 865 )  Fenotipo : -1.463\n",
      "Genotipo :  0000011010 ( 26 )  Fenotipo : -3.924\n",
      "Genotipo :  1000100000 ( 544 )  Fenotipo : -2.405\n",
      "Genotipo :  0100101000 ( 296 )  Fenotipo : -3.132\n",
      "Genotipo :  1101101001 ( 873 )  Fenotipo : -1.44\n"
     ]
    }
   ],
   "source": [
    "cantidad = 10\n",
    "tamanio_gen = 10\n",
    "interval = (-4 , -1)\n",
    "poblacion = []\n",
    "for i in range(cantidad):\n",
    "    poblacion.append(random.randint(0,(2**tamanio_gen)-1))\n",
    "    \n",
    "\n",
    "print(\" ----------------Cromosomas Binarios----------------\")\n",
    "for indv in poblacion :\n",
    "    geno = dec2BinStr(indv,len = tamanio_gen)\n",
    "    feno = scaleBinToRange(indv , tamanio_gen , interval)\n",
    "    print( \"Genotipo : \",  geno  , \"(\" ,indv,\")\",\" Fenotipo :\",  feno )\n"
   ]
  },
  {
   "cell_type": "code",
   "execution_count": 4,
   "metadata": {},
   "outputs": [
    {
     "data": {
      "text/plain": [
       "list"
      ]
     },
     "execution_count": 4,
     "metadata": {},
     "output_type": "execute_result"
    }
   ],
   "source": [
    "type(poblacion)"
   ]
  },
  {
   "cell_type": "markdown",
   "metadata": {},
   "source": [
    "• Realizar lo mismo del ı́tem anterior para la representación en código de Gray."
   ]
  },
  {
   "cell_type": "code",
   "execution_count": 5,
   "metadata": {},
   "outputs": [
    {
     "name": "stdout",
     "output_type": "stream",
     "text": [
      " ----------------Cromosomas Codigo gray----------------\n",
      "Genotipo :  0100111001 ( 465 )  Fenotipo : -2.636\n",
      "Genotipo :  0100111101 ( 470 )  Fenotipo : -2.622\n",
      "Genotipo :  1001100011 ( 957 )  Fenotipo : -1.194\n",
      "Genotipo :  1001110001 ( 929 )  Fenotipo : -1.276\n",
      "Genotipo :  0110110101 ( 294 )  Fenotipo : -3.138\n",
      "Genotipo :  1011010001 ( 865 )  Fenotipo : -1.463\n",
      "Genotipo :  0000010111 ( 26 )  Fenotipo : -3.924\n",
      "Genotipo :  1100110000 ( 544 )  Fenotipo : -2.405\n",
      "Genotipo :  0110111100 ( 296 )  Fenotipo : -3.132\n",
      "Genotipo :  1011011101 ( 873 )  Fenotipo : -1.44\n"
     ]
    }
   ],
   "source": [
    "print(\" ----------------Cromosomas Codigo gray----------------\")\n",
    "for indv in poblacion :\n",
    "    geno = dec2GrayStr(indv,len = tamanio_gen)\n",
    "    feno = scaleBinToRange(indv , tamanio_gen , interval)\n",
    "    print( \"Genotipo : \",  geno  , \"(\" ,indv,\")\",\" Fenotipo :\",  feno )\n"
   ]
  },
  {
   "cell_type": "markdown",
   "metadata": {},
   "source": [
    "• Considerando las representaciones anteriores (cadena de 10 bits y representación real) ¿cual seria el tamaño del espacio intrı́nseco?\n",
    "\n",
    "El tamaño es 2**10 = 1024 debido a que se pueden representar valores enteros desde el 0 hasta el 1023\n",
    "\n",
    "\n",
    "b) Representación del problema (2):"
   ]
  },
  {
   "cell_type": "code",
   "execution_count": 29,
   "metadata": {},
   "outputs": [],
   "source": [
    "class Cromosoma:\n",
    "    def __init__(self, len_genes: list , intervals: list, individuals= None ):\n",
    "        if len(len_genes ) != len(intervals): print(\"TAMANIOS E INTERVALOS DIFIEREN EN CANTIDAD\")\n",
    "\n",
    "        self.tamanios = len_genes\n",
    "        self.intervals = intervals\n",
    "        if not individuals:\n",
    "            self.indviduos = [ random.randint(0 , 2**tam -1 ) for tam in len_genes ]\n",
    "        else: \n",
    "            self.indviduos = individuals\n",
    "            \n",
    "    def GensBin (self):\n",
    "        return \"\".join([dec2BinStr(indv , len=tam) for indv , tam in zip( self.indviduos , self.tamanios) ])\n",
    "\n",
    "    def GensGray (self):\n",
    "        return \"\".join([dec2BinStr(indv,tam)  for indv , tam  in zip (self.indviduos ,  self.tamanios) ])\n",
    "\n",
    "    def GenesReal (self):\n",
    "        return self.indviduos\n",
    "\n",
    "    def Fenotipos (self):\n",
    "        return [scaleBinToRange(indv , tam ,  inter )  for indv , tam ,  inter  in zip(self.indviduos , self.tamanios ,self.intervals )]\n"
   ]
  },
  {
   "cell_type": "markdown",
   "metadata": {},
   "source": [
    "• implemente un programa en python que represente el cromosoma como una cadena binaria donde x, y estén representados por 5 bits cada uno y luego muestre/imprima el Fenotipo y su representación binaria."
   ]
  },
  {
   "cell_type": "code",
   "execution_count": 33,
   "metadata": {},
   "outputs": [
    {
     "name": "stdout",
     "output_type": "stream",
     "text": [
      "Genotipo:  0100111010  Fenotipo: [9, 26]\n",
      "Genotipo:  0010001110  Fenotipo: [4, 14]\n",
      "Genotipo:  0101000001  Fenotipo: [10, 1]\n",
      "Genotipo:  0010010110  Fenotipo: [4, 22]\n",
      "Genotipo:  0111111000  Fenotipo: [15, 24]\n",
      "Genotipo:  0011101111  Fenotipo: [7, 15]\n",
      "Genotipo:  0111011100  Fenotipo: [14, 28]\n",
      "Genotipo:  1110110100  Fenotipo: [29, 20]\n",
      "Genotipo:  1001001001  Fenotipo: [18, 9]\n",
      "Genotipo:  1111010110  Fenotipo: [30, 22]\n"
     ]
    }
   ],
   "source": [
    "poblacion = []\n",
    "tam_x = 5\n",
    "tam_y = 5\n",
    "intervalx = (-1 , 1) \n",
    "intervaly = (-1 , 1) \n",
    "\n",
    "for _ in range(cantidad):\n",
    "    poblacion.append(Cromosoma([tam_x,tam_y] , [intervalx, intervaly]))\n",
    "\n",
    "for cromo in poblacion:\n",
    "    print(\"Genotipo: \" , cromo.GensBin() , \" Fenotipo:\"  , cromo.indviduos )"
   ]
  },
  {
   "cell_type": "markdown",
   "metadata": {},
   "source": [
    "• Realizar lo mismo del ı́tem anterior para la representación en código de Gray."
   ]
  },
  {
   "cell_type": "code",
   "execution_count": 31,
   "metadata": {},
   "outputs": [
    {
     "name": "stdout",
     "output_type": "stream",
     "text": [
      "Genotipo:  1101010010  Fenotipo: [0.677, 0.161]\n",
      "Genotipo:  1011101101  Fenotipo: [0.484, -0.161]\n",
      "Genotipo:  1001011011  Fenotipo: [0.161, 0.742]\n",
      "Genotipo:  0001000000  Fenotipo: [-0.871, -1.0]\n",
      "Genotipo:  1000000001  Fenotipo: [0.032, -0.935]\n",
      "Genotipo:  0001111010  Fenotipo: [-0.806, 0.677]\n",
      "Genotipo:  0111101110  Fenotipo: [-0.032, -0.097]\n",
      "Genotipo:  1100110110  Fenotipo: [0.613, 0.419]\n",
      "Genotipo:  0011101000  Fenotipo: [-0.548, -0.484]\n",
      "Genotipo:  0110110010  Fenotipo: [-0.161, 0.161]\n"
     ]
    }
   ],
   "source": [
    "for cromo in poblacion:\n",
    "    print(\"Genotipo: \" , cromo.GensGray() , \n",
    "    \" Fenotipo:\"  , cromo.Fenotipos() )"
   ]
  },
  {
   "cell_type": "markdown",
   "metadata": {},
   "source": [
    "• Realizar lo mismo del ı́tem anterior para la representación real."
   ]
  },
  {
   "cell_type": "code",
   "execution_count": 32,
   "metadata": {},
   "outputs": [
    {
     "name": "stdout",
     "output_type": "stream",
     "text": [
      "Genotipo:  [0.677, 0.161]  Fenotipo: [0.677, 0.161]\n",
      "Genotipo:  [0.484, -0.161]  Fenotipo: [0.484, -0.161]\n",
      "Genotipo:  [0.161, 0.742]  Fenotipo: [0.161, 0.742]\n",
      "Genotipo:  [-0.871, -1.0]  Fenotipo: [-0.871, -1.0]\n",
      "Genotipo:  [0.032, -0.935]  Fenotipo: [0.032, -0.935]\n",
      "Genotipo:  [-0.806, 0.677]  Fenotipo: [-0.806, 0.677]\n",
      "Genotipo:  [-0.032, -0.097]  Fenotipo: [-0.032, -0.097]\n",
      "Genotipo:  [0.613, 0.419]  Fenotipo: [0.613, 0.419]\n",
      "Genotipo:  [-0.548, -0.484]  Fenotipo: [-0.548, -0.484]\n",
      "Genotipo:  [-0.161, 0.161]  Fenotipo: [-0.161, 0.161]\n"
     ]
    }
   ],
   "source": [
    "for cromo in poblacion:\n",
    "    print(\"Genotipo: \" , cromo.Fenotipos()  ,\n",
    "     \" Fenotipo:\"  , cromo.Fenotipos() )"
   ]
  },
  {
   "cell_type": "markdown",
   "metadata": {},
   "source": [
    "\n",
    "• Considerando las representaciones anteriores (cadena de 10 bits y representación real) ¿cual\n",
    "seria el tamaño del espacio intrı́nseco?\n",
    "\n",
    "El tamaño seria (2^5)*(2^5) = 1024 ya que podemos representar del 0 al 31 con \"x\" y del mismo modo con \"y\"\n"
   ]
  },
  {
   "cell_type": "markdown",
   "metadata": {},
   "source": [
    "\n",
    "c) Representación del problema (3):\n",
    "• implemente un programa en python que represente el cromosoma como una cadena binaria donde x1 , x2 , x3 , x4 estén representados por 6 bits cada uno y luego muestre/imprima el\n",
    "Fenotipo y su representación binaria."
   ]
  },
  {
   "cell_type": "code",
   "execution_count": 10,
   "metadata": {},
   "outputs": [
    {
     "name": "stdout",
     "output_type": "stream",
     "text": [
      "[(-1, 1), (-1, 1), (-1, 1), (-1, 1), (-1, 1), (-1, 1)]\n"
     ]
    }
   ],
   "source": [
    "intervalx = (-1 , 1) \n",
    "a = [intervalx]*6\n",
    "print(a)"
   ]
  },
  {
   "cell_type": "code",
   "execution_count": 11,
   "metadata": {},
   "outputs": [
    {
     "name": "stdout",
     "output_type": "stream",
     "text": [
      "Genotipo:  011110010000000010011101  Fenotipo: [34.857, 24.19, 13.524, 34.095]\n",
      "Genotipo:  010101110011011001111011  Fenotipo: [28.0, 50.857, 31.048, 56.952]\n",
      "Genotipo:  011011011001100111011000  Fenotipo: [32.571, 31.048, 41.714, 30.286]\n",
      "Genotipo:  111010110100100100101011  Fenotipo: [56.19, 51.619, 39.429, 44.762]\n",
      "Genotipo:  000110110100010001011010  Fenotipo: [16.571, 51.619, 24.952, 31.81]\n",
      "Genotipo:  111010011011101000011010  Fenotipo: [56.19, 32.571, 42.476, 31.81]\n",
      "Genotipo:  100011111111100011000101  Fenotipo: [38.667, 60.0, 38.667, 15.81]\n",
      "Genotipo:  111010000011000101001101  Fenotipo: [56.19, 14.286, 15.81, 21.905]\n",
      "Genotipo:  011000000111100010101010  Fenotipo: [30.286, 17.333, 37.905, 44.0]\n",
      "Genotipo:  110111011110111010001101  Fenotipo: [53.905, 34.857, 56.19, 21.905]\n"
     ]
    }
   ],
   "source": [
    "poblacion = []\n",
    "tam_x = 6\n",
    "intervalx = (12 , 60) \n",
    "\n",
    "for _ in range(cantidad):\n",
    "    poblacion.append(Cromosoma([tam_x]*4 , [intervalx] * 4))\n",
    "\n",
    "for cromo in poblacion:\n",
    "    print(\"Genotipo: \" , cromo.GensBin() , \" Fenotipo:\"  , cromo.Fenotipos() )"
   ]
  },
  {
   "cell_type": "markdown",
   "metadata": {},
   "source": [
    "• Realizar lo mismo del ı́tem anterior para la representación en código de Gray."
   ]
  },
  {
   "cell_type": "code",
   "execution_count": 12,
   "metadata": {},
   "outputs": [
    {
     "name": "stdout",
     "output_type": "stream",
     "text": [
      "Genotipo:  011110010000000010011101  Fenotipo: [34.857, 24.19, 13.524, 34.095]\n",
      "Genotipo:  010101110011011001111011  Fenotipo: [28.0, 50.857, 31.048, 56.952]\n",
      "Genotipo:  011011011001100111011000  Fenotipo: [32.571, 31.048, 41.714, 30.286]\n",
      "Genotipo:  111010110100100100101011  Fenotipo: [56.19, 51.619, 39.429, 44.762]\n",
      "Genotipo:  000110110100010001011010  Fenotipo: [16.571, 51.619, 24.952, 31.81]\n",
      "Genotipo:  111010011011101000011010  Fenotipo: [56.19, 32.571, 42.476, 31.81]\n",
      "Genotipo:  100011111111100011000101  Fenotipo: [38.667, 60.0, 38.667, 15.81]\n",
      "Genotipo:  111010000011000101001101  Fenotipo: [56.19, 14.286, 15.81, 21.905]\n",
      "Genotipo:  011000000111100010101010  Fenotipo: [30.286, 17.333, 37.905, 44.0]\n",
      "Genotipo:  110111011110111010001101  Fenotipo: [53.905, 34.857, 56.19, 21.905]\n"
     ]
    }
   ],
   "source": [
    "for cromo in poblacion:\n",
    "    print(\"Genotipo: \" , cromo.GensGray() , \n",
    "    \" Fenotipo:\"  , cromo.Fenotipos() )"
   ]
  },
  {
   "cell_type": "markdown",
   "metadata": {},
   "source": [
    "• Realizar lo mismo del ı́tem anterior para la representación real."
   ]
  },
  {
   "cell_type": "code",
   "execution_count": 13,
   "metadata": {},
   "outputs": [
    {
     "name": "stdout",
     "output_type": "stream",
     "text": [
      "Genotipo:  [34.857, 24.19, 13.524, 34.095]  Fenotipo: [34.857, 24.19, 13.524, 34.095]\n",
      "Genotipo:  [28.0, 50.857, 31.048, 56.952]  Fenotipo: [28.0, 50.857, 31.048, 56.952]\n",
      "Genotipo:  [32.571, 31.048, 41.714, 30.286]  Fenotipo: [32.571, 31.048, 41.714, 30.286]\n",
      "Genotipo:  [56.19, 51.619, 39.429, 44.762]  Fenotipo: [56.19, 51.619, 39.429, 44.762]\n",
      "Genotipo:  [16.571, 51.619, 24.952, 31.81]  Fenotipo: [16.571, 51.619, 24.952, 31.81]\n",
      "Genotipo:  [56.19, 32.571, 42.476, 31.81]  Fenotipo: [56.19, 32.571, 42.476, 31.81]\n",
      "Genotipo:  [38.667, 60.0, 38.667, 15.81]  Fenotipo: [38.667, 60.0, 38.667, 15.81]\n",
      "Genotipo:  [56.19, 14.286, 15.81, 21.905]  Fenotipo: [56.19, 14.286, 15.81, 21.905]\n",
      "Genotipo:  [30.286, 17.333, 37.905, 44.0]  Fenotipo: [30.286, 17.333, 37.905, 44.0]\n",
      "Genotipo:  [53.905, 34.857, 56.19, 21.905]  Fenotipo: [53.905, 34.857, 56.19, 21.905]\n"
     ]
    }
   ],
   "source": [
    "for cromo in poblacion:\n",
    "    print(\"Genotipo: \" , cromo.Fenotipos()  ,\n",
    "     \" Fenotipo:\"  , cromo.Fenotipos() )"
   ]
  },
  {
   "cell_type": "markdown",
   "metadata": {},
   "source": [
    "• Considerando las representaciones anteriores (cadena de bits, representación real) ¿cual seria el tamaño del espacio intrı́nseco?\n",
    "\n",
    "El tamaño seria (2^6)\\*(2^6)\\*(2^6)*(2^6) = 16777216 ya que podemos representar del 0 al 63 con cada uno de los genes.\n"
   ]
  },
  {
   "cell_type": "code",
   "execution_count": 14,
   "metadata": {},
   "outputs": [
    {
     "data": {
      "text/plain": [
       "16777216"
      ]
     },
     "execution_count": 14,
     "metadata": {},
     "output_type": "execute_result"
    }
   ],
   "source": [
    "(2**6)*(2**6)*(2**6)*(2**6)"
   ]
  },
  {
   "cell_type": "code",
   "execution_count": 46,
   "metadata": {},
   "outputs": [
    {
     "name": "stdout",
     "output_type": "stream",
     "text": [
      "[1]\n",
      "[3, 4, 5]\n"
     ]
    }
   ],
   "source": [
    "a= 1\n",
    "print([1,2,3,4,5][:a])\n",
    "print([1,2,3,4,5][a+1:])"
   ]
  },
  {
   "cell_type": "code",
   "execution_count": 48,
   "metadata": {},
   "outputs": [
    {
     "data": {
      "text/plain": [
       "[2, 2, 1, 2, 2]"
      ]
     },
     "execution_count": 48,
     "metadata": {},
     "output_type": "execute_result"
    }
   ],
   "source": [
    "[2,2] + [1] + [2,2]"
   ]
  },
  {
   "cell_type": "code",
   "execution_count": 15,
   "metadata": {},
   "outputs": [],
   "source": [
    "def mutarBinario(cromo: Cromosoma, rate = 0.01) -> Cromosoma:    \n",
    "    if (random.random()  > rate):\n",
    "        return cromo\n",
    "    \n",
    "    pass\n",
    "    \n",
    "\n",
    "def reproducirBinario(cromoA: Cromosoma, cromoB: Cromosoma) -> Cromosoma:\n",
    "    return reproducirStr (cromoA, cromoB )\n",
    "\n",
    "\n",
    "\n",
    "def mutarGray(cromo: Cromosoma, rate = 0.01) -> Cromosoma:\n",
    "    if (random.random()  > rate):\n",
    "        return cromo\n",
    "    \n",
    "    pass\n",
    "\n",
    "def combinar (a: int  , b :int  , idx:int  , tam:int , usingGray = False):\n",
    "    str_a =  dec2BinStr(a , len = tam) if not usingGray else dec2GrayStr(a , len = tam)\n",
    "    str_b =  dec2BinStr(b , len = tam) if not usingGray else dec2GrayStr(b , len = tam)\n",
    "    str_comb = str_a[idx:] + str_b[:idx]\n",
    "    numComb = Str2Dec(str_comb) if not usingGray else GrayStr2dec(str_comb) \n",
    "\n",
    "    return numComb \n",
    "\n",
    "\n",
    "\n",
    "def reproducirGray(cromoA: Cromosoma, cromoB: Cromosoma) -> Cromosoma:\n",
    "    return reproducirStr (cromoA, cromoB , usingGray=True)\n",
    "\n",
    "\n",
    "def reproducirStr (cromoA: Cromosoma, cromoB: Cromosoma , usingGray =False) -> Cromosoma:\n",
    "    indRandom = random.randint(0 , len(cromoA.indviduos) -1)\n",
    "    idxRandom = random.randint(1 , len(cromoA.tamanios[indRandom])-2)\n",
    "    \n",
    "    firstHalf = cromoA.indviduos[:indRandom].copy()\n",
    "    medio = [ combinar(cromoA.indviduos[indRandom] , cromoB.indviduos[indRandom] , idxRandom ,cromoA.tamanios[indRandom] , usingGray )]\n",
    "    seconHalf = cromoA.indviduos[indRandom+1:].copy()\n",
    "\n",
    "    return Cromosoma(cromoA.tamanios , cromoA.intervals , individuals= firstHalf+ medio + seconHalf)\n",
    "\n",
    "\n",
    "def mutarReal(cromo: Cromosoma, rate = 0.01) -> Cromosoma:\n",
    "    if (random.random()  > rate):\n",
    "        return cromo\n",
    "    \n",
    "    idxRandom = random.randint(0 ,  len(cromo.indviduos) -1)\n",
    "    indvNuevo = cromo.indviduos.copy()\n",
    "    indvNuevo[idxRandom] =( indvNuevo[idxRandom] + random.choice([-1 ,1])) %  2**cromo.tamanios[idxRandom]\n",
    "    \n",
    "    return Cromosoma(cromo.tamanios , cromo.intervals , individuals= indvNuevo)\n",
    "\n",
    "\n",
    "def reproducirReal(cromoA: Cromosoma, cromoB: Cromosoma) -> Cromosoma:\n",
    "    # Tomamos el punto medio de ambos\n",
    "    indvNuevo = [ (a+b )//2 for a , b in zip (cromoA.indviduos , cromoB.indviduos)]\n",
    "    return Cromosoma(cromoA.tamanios , cromoA.intervals , individuals= indvNuevo)\n"
   ]
  },
  {
   "cell_type": "code",
   "execution_count": 40,
   "metadata": {},
   "outputs": [
    {
     "name": "stdout",
     "output_type": "stream",
     "text": [
      "1\n",
      "1\n",
      "1\n",
      "-1\n",
      "-1\n",
      "-1\n",
      "-1\n",
      "1\n",
      "-1\n",
      "-1\n"
     ]
    }
   ],
   "source": []
  },
  {
   "cell_type": "code",
   "execution_count": 16,
   "metadata": {},
   "outputs": [],
   "source": [
    "from math import cos , sin , pi\n",
    "\n",
    "def f1 ( x : int):\n",
    "    return x**4 + 5* x**3 + 4*x**2 - 4 * x +1\n",
    "\n",
    "def f2 ( x : int , y :int):\n",
    "    return  0.2 + x**2 + y**2 - 0.1 * cos(6*pi * x) - 0.1 * sin(6 * pi * y)\n",
    "\n",
    "def f3 ( x1 : int , x2 : int, x3 : int ,x4 : int ):\n",
    "    return  ((1/6.931) - ((x1*x2)/(x3*x4)))\n",
    "\n",
    "def getFitness (cromoList : list , fit):\n",
    "    return [ fit(*feno) for feno in [cromo.Fenotipos() for cromo in cromoList] ]\n"
   ]
  },
  {
   "cell_type": "code",
   "execution_count": 17,
   "metadata": {},
   "outputs": [
    {
     "name": "stdout",
     "output_type": "stream",
     "text": [
      "-5\n",
      "0.1\n",
      "-999.8557206752272\n"
     ]
    }
   ],
   "source": [
    "print(f1 (*[-3]))\n",
    "print(f2 (*[0 , 0]))\n",
    "print(f3 (*[1000,1,1,1]))"
   ]
  },
  {
   "cell_type": "code",
   "execution_count": 18,
   "metadata": {},
   "outputs": [],
   "source": [
    "def printList(listI, title ):\n",
    "    # Imprimir lista de elementos\n",
    "    print(title , \"-----------------\")\n",
    "    for ind in listI:\n",
    "        print(\"\\t\" , ind)\n",
    "\n",
    "\n",
    "def sortBy(a : list , b : list , mayoresPrimero = True):\n",
    "    #ordena la primera lista segun la segunda lista\n",
    "    pares  =  [ (ai , bi) for ai,bi in zip(a,b)]\n",
    "    ordenados = sorted(pares , key = lambda x : x[1], reverse=mayoresPrimero)\n",
    "    return  [x[0] for x  in ordenados]\n",
    "\n"
   ]
  },
  {
   "cell_type": "markdown",
   "metadata": {},
   "source": [
    "2. Gestión de la población: de la teorı́a se sabe que los métodos de selección son independientes del método de representación del algoritmo evolutivo, implemente los siguientes métodos de selección en python:\n"
   ]
  },
  {
   "cell_type": "markdown",
   "metadata": {},
   "source": [
    "- método de selección proporcional"
   ]
  },
  {
   "cell_type": "code",
   "execution_count": 19,
   "metadata": {},
   "outputs": [
    {
     "name": "stdout",
     "output_type": "stream",
     "text": [
      "[[[0.355, 0.226], [0.871, -0.097]], [[-0.29, 0.032], [0.161, 0.29]], [[-0.097, 0.613], [-0.29, 0.032]]]\n"
     ]
    }
   ],
   "source": [
    "def seleccionProporcional(cromos: list, f, transpose_Value=0, mayoresPrimero=True):\n",
    "\n",
    "    fenos = [cromo.Fenotipos() for cromo in cromos]\n",
    "    fitness = [f(*feno) for feno in fenos]\n",
    "    maxFitness = max(fitness)\n",
    "\n",
    "    # maxFitness - fit siempre es positivo\n",
    "    # maximizar esta diferencia halla los minimos\n",
    "    fitness = [maxFitness - fit + transpose_Value for fit in fitness]\n",
    "    sumFitness = sum(fitness)\n",
    "    probab = [round(fit/sumFitness, 2) for fit in fitness]\n",
    "\n",
    "    #print (\"F: \" , fitness , \"\\nC : \" , fenos ,\"\\nP: \" , probab )\n",
    "    return cromos, probab\n",
    "\n",
    "\n",
    "def selecionarPares(nPares: int, population: list, fitness,metodoSeleccion):\n",
    "\n",
    "    orderPop, probabilidades = metodoSeleccion(population, fitness)\n",
    "    paresSelectos = []\n",
    "    for _ in range(nPares):\n",
    "        paresSelectos.append(\n",
    "            random.choices(\n",
    "                population=orderPop,\n",
    "                weights=probabilidades,\n",
    "                k=2)\n",
    "        )\n",
    "    return paresSelectos\n",
    "\n",
    "poblacion = []\n",
    "tam_x = 5\n",
    "tam_y = 5\n",
    "intervalx = (-1 , 1) \n",
    "intervaly = (-1 , 1) \n",
    "\n",
    "for _ in range(cantidad):\n",
    "    poblacion.append(Cromosoma([tam_x,tam_y] , [intervalx, intervaly]))\n",
    "\n",
    "\n",
    "print([\n",
    "    [a.Fenotipos() , b.Fenotipos()]  for a, b in \n",
    "    selecionarPares (\n",
    "        3 ,\n",
    "        poblacion , \n",
    "        lambda x,y : x**2-10  + y**2-10,\n",
    "        seleccionProporcional )])\n",
    "\n"
   ]
  },
  {
   "cell_type": "markdown",
   "metadata": {},
   "source": [
    "- método de selección basada en ranking lineal"
   ]
  },
  {
   "cell_type": "code",
   "execution_count": 20,
   "metadata": {},
   "outputs": [
    {
     "name": "stdout",
     "output_type": "stream",
     "text": [
      "[[[0.161, 0.29], [-0.097, 0.613]], [[-0.29, 0.032], [0.161, 0.29]], [[-0.29, 0.032], [0.871, -0.677]]]\n"
     ]
    }
   ],
   "source": [
    "def seleccionRankingLineal (cromos:list , f ,transpose_Value =0 ,mayoresPrimero = True , presionSeleccion = 1.5 ):\n",
    "    fenos = [cromo.Fenotipos() for cromo in cromos]\n",
    "    fitness =  [ f (*feno) for feno in fenos ]\n",
    "    maxFitness = max(fitness)\n",
    "    #maxFitness - fit siempre es positivo\n",
    "    # maximizar esta diferencia halla los minimos\n",
    "    fitness =  [  maxFitness - fit + transpose_Value for fit in fitness ]\n",
    "\n",
    "    mu = len (cromos)\n",
    "    s = presionSeleccion\n",
    "    \n",
    "    cromoOrdenado = sortBy(cromos , fitness , mayoresPrimero=False)\n",
    "    #fenoOrdenado = sortBy(fenos, fitness , mayoresPrimero=False)\n",
    "    #fitordenado  = sortBy(fitness, fitness , mayoresPrimero=False)\n",
    "\n",
    "    probab = [\n",
    "        float((2- s) / mu)  + ( (2*i *(s-1))/(mu * (mu-1))) \n",
    "        for i in range(mu)]\n",
    "    \n",
    "    #print (\"F: \" , fitordenado , \"\\nC : \" , fenoOrdenado ,\"\\nP: \" , probab )\n",
    "    \n",
    "    return cromoOrdenado , probab\n",
    "\n",
    "\n",
    "print([\n",
    "    [a.Fenotipos() , b.Fenotipos()]  for a, b in \n",
    "    selecionarPares (\n",
    "        3 ,\n",
    "        poblacion , \n",
    "        lambda x,y : x**2-10  + y**2-10,\n",
    "        seleccionRankingLineal )])\n"
   ]
  },
  {
   "cell_type": "markdown",
   "metadata": {},
   "source": [
    "- método de torneo"
   ]
  },
  {
   "cell_type": "code",
   "execution_count": 28,
   "metadata": {},
   "outputs": [
    {
     "name": "stdout",
     "output_type": "stream",
     "text": [
      "[[[-0.484, -1.0], [0.871, -0.677]], [[-0.29, 0.032], [0.871, -0.097]], [[-0.097, 0.613], [0.871, -0.677]]]\n"
     ]
    }
   ],
   "source": [
    "\n",
    "def seleccionTorneo (cromos:list , f,  kontestants = 5 ):\n",
    "    candidatos = random.choices(population=cromos,k=kontestants)    \n",
    "    fitness = getFitness(cromos , f)\n",
    "    maxFitness = max(fitness)\n",
    "    fitness =  [ maxFitness - fit for fit in fitness ]\n",
    "    campeon = sortBy(candidatos,fitness , mayoresPrimero=True)[0]\n",
    "    return campeon\n",
    "\n",
    "def parSeleccionTorneo (cromos:list , f,  kontestants = 5 ):\n",
    "    parSeleccionado = []\n",
    "    for i in range (2):\n",
    "        parSeleccionado.append(seleccionTorneo(cromos , f , kontestants))\n",
    "    return parSeleccionado\n",
    "\n",
    "def selecionarParesTorneo(nPares: int, population: list, fitness):\n",
    "    paresSelectos = []\n",
    "    for _ in range(nPares):        \n",
    "        paresSelectos.append(\n",
    "            parSeleccionTorneo( population , fitness )\n",
    "        )\n",
    "    return paresSelectos\n",
    "\n",
    "\n",
    "print([\n",
    "    [a.Fenotipos() , b.Fenotipos()]  for a, b in \n",
    "    selecionarParesTorneo (\n",
    "        3 ,\n",
    "        poblacion , \n",
    "        lambda x,y : x**2-10  + y**2-10)])\n"
   ]
  },
  {
   "cell_type": "markdown",
   "metadata": {},
   "source": [
    "- método de selección uniforme"
   ]
  },
  {
   "cell_type": "code",
   "execution_count": 22,
   "metadata": {},
   "outputs": [
    {
     "name": "stdout",
     "output_type": "stream",
     "text": [
      "[[[-0.29, 0.032], [-0.935, 0.677]], [[-0.29, -0.419], [-0.935, 0.677]], [[-0.29, 0.032], [-0.484, -1.0]]]\n"
     ]
    }
   ],
   "source": [
    "def seleccionUniforme (cromos:list , f ,transpose_Value =0 ,mayoresPrimero = True , presionSeleccion = 1.5 ):\n",
    "    mu = len(cromos)\n",
    "    probab = [1/mu]*mu\n",
    "\n",
    "    return cromos , probab\n",
    "\n",
    "print([\n",
    "    [a.Fenotipos() , b.Fenotipos()]  for a, b in \n",
    "    selecionarPares (\n",
    "        3 ,\n",
    "        poblacion , \n",
    "        lambda x,y : x**2-10  + y**2-10,\n",
    "        seleccionRankingLineal )])\n"
   ]
  },
  {
   "cell_type": "markdown",
   "metadata": {},
   "source": [
    "- método de la ruleta"
   ]
  },
  {
   "cell_type": "code",
   "execution_count": 23,
   "metadata": {},
   "outputs": [
    {
     "name": "stdout",
     "output_type": "stream",
     "text": [
      "[[[0.355, 0.226], [0.871, -0.097]], [[-0.097, 0.613], [-0.097, 0.613]], [[0.161, 0.29], [-0.29, -0.419]]]\n"
     ]
    }
   ],
   "source": [
    "def seleccionRuleta(nPares: int, population: list, fitness,metodoSeleccion):\n",
    "    orderPop, probabilidades = metodoSeleccion(population, fitness)\n",
    "    paresSelectos = []\n",
    "\n",
    "    rangesProb  = list(np.cumsum(probabilidades))\n",
    "\n",
    "    #print ( \"Ranges: \" , rangesProb)\n",
    "    for _ in range (nPares):\n",
    "        par  = []\n",
    "        for _ in range (2):\n",
    "            pointer = random.random()\n",
    "            idx  = 0 \n",
    "            while idx  < len(rangesProb) and rangesProb[idx] < pointer : idx += 1\n",
    "            #print(\"p :\" , pointer , \"idx :\" , idx )\n",
    "            par.append(orderPop[idx])\n",
    "        paresSelectos.append(par)\n",
    "\n",
    "    return paresSelectos\n",
    "\n",
    "\n",
    "\n",
    "\n",
    "print([\n",
    "    [a.Fenotipos() , b.Fenotipos()]  for a, b in \n",
    "    seleccionRuleta (\n",
    "        3 ,\n",
    "        poblacion , \n",
    "        lambda x,y : x**2-10  + y**2-10,\n",
    "        seleccionProporcional )])\n"
   ]
  },
  {
   "cell_type": "markdown",
   "metadata": {},
   "source": [
    "seleccionRuleta acepta  [ seleccionProporcional , seleccion rankinlineal , seleccionUniforme]-> lista de pares cromosomas \n",
    "\n",
    "selecionarPares acepta  [ seleccionProporcional , seleccion rankinlineal , seleccionUniforme] -> lista de pares cromosomas\n",
    "\n",
    "selecionarParesTorneo -> lista de pares cromosomas"
   ]
  },
  {
   "cell_type": "code",
   "execution_count": 24,
   "metadata": {},
   "outputs": [
    {
     "name": "stdout",
     "output_type": "stream",
     "text": [
      "0.0761749438700775\n",
      "[0.1, 0.2, 0.30000000000000004]\n"
     ]
    }
   ],
   "source": [
    "\n",
    "\n",
    "cromos = [ \"A\" , \"B\" , \"C\"]\n",
    "prob = [0.1 , 0.1 , 0.1]\n",
    "rangesProb  = list(np.cumsum(prob))\n",
    "pointer =  random.random() \n",
    "\n",
    "print(pointer)\n",
    "print(rangesProb)"
   ]
  },
  {
   "cell_type": "markdown",
   "metadata": {},
   "source": [
    "3. Evaluación de la intensidad de selección: para los problemas planteados en la pregunta (1) evaluar la presión de selección considerando los siguientes casos."
   ]
  },
  {
   "cell_type": "markdown",
   "metadata": {},
   "source": [
    "a) Para el primer caso (ecuación 1) considerar la representación binaria, una población inicial 15 individuos del cual debe seleccionar 10 padres y crear 10 descendientes, una taza de cruce de 0.8, una tasa de mutación de 0.01, donde el cruce y la mutación son seleccionadas de forma aleatoria (Usando los mismos criterios del ejemplo mostrado en Colab-note) realizar lo siguiente:"
   ]
  },
  {
   "cell_type": "code",
   "execution_count": null,
   "metadata": {},
   "outputs": [],
   "source": [
    "\n",
    "\n"
   ]
  },
  {
   "cell_type": "code",
   "execution_count": 25,
   "metadata": {},
   "outputs": [
    {
     "name": "stdout",
     "output_type": "stream",
     "text": [
      "[3, 5, 1]\n"
     ]
    }
   ],
   "source": [
    "\n",
    "import statistics\n",
    "\n",
    "\n",
    "\n",
    "def intensidadDeSeleccion (genPrev:list , genActual : list , fitness ):\n",
    "    prevFit  = getFitness(genPrev , fitness)\n",
    "    meanPrev =  statistics.mean( prevFit)\n",
    "    meanAct  =  statistics.mean( getFitness(genActual , fitness))\n",
    "    stdPrev = statistics.stdev(prevFit)\n",
    "    return (meanAct - meanPrev) / stdPrev\n",
    "\n",
    "\n",
    "def reproducir(listaDePares : list , metodoDeReproduccion )-> list:\n",
    "    return  [ metodoDeReproduccion(a ,b ) for a , b in listaDePares]\n",
    "\n",
    "\n",
    "print (reproducir([[1,2] , [2,3] , [-1 ,2] ] , lambda x , y : x+y ) )\n",
    "\n"
   ]
  },
  {
   "cell_type": "code",
   "execution_count": 26,
   "metadata": {},
   "outputs": [
    {
     "ename": "TypeError",
     "evalue": "object of type 'int' has no len()",
     "output_type": "error",
     "traceback": [
      "\u001b[0;31m---------------------------------------------------------------------------\u001b[0m",
      "\u001b[0;31mTypeError\u001b[0m                                 Traceback (most recent call last)",
      "\u001b[1;32m/home/jesus/Documents/Dev/evolutivos/PD1/PD31.ipynb Cell 48'\u001b[0m in \u001b[0;36m<module>\u001b[0;34m\u001b[0m\n\u001b[1;32m      <a href='vscode-notebook-cell:/home/jesus/Documents/Dev/evolutivos/PD1/PD31.ipynb#ch0000041?line=1'>2</a>\u001b[0m intervalx \u001b[39m=\u001b[39m (\u001b[39m-\u001b[39m\u001b[39m4\u001b[39m , \u001b[39m-\u001b[39m\u001b[39m1\u001b[39m)\n\u001b[1;32m      <a href='vscode-notebook-cell:/home/jesus/Documents/Dev/evolutivos/PD1/PD31.ipynb#ch0000041?line=2'>3</a>\u001b[0m tamanio_poblacion  \u001b[39m=\u001b[39m \u001b[39m15\u001b[39m\n\u001b[0;32m----> <a href='vscode-notebook-cell:/home/jesus/Documents/Dev/evolutivos/PD1/PD31.ipynb#ch0000041?line=4'>5</a>\u001b[0m poblacion \u001b[39m=\u001b[39m [ Cromosoma(gen_len , [intervalx]) \u001b[39mfor\u001b[39;00m _ \u001b[39min\u001b[39;00m \u001b[39mrange\u001b[39m (\u001b[39m15\u001b[39m)]\n\u001b[1;32m      <a href='vscode-notebook-cell:/home/jesus/Documents/Dev/evolutivos/PD1/PD31.ipynb#ch0000041?line=6'>7</a>\u001b[0m iterations  \u001b[39m=\u001b[39m \u001b[39m500\u001b[39m\n\u001b[1;32m     <a href='vscode-notebook-cell:/home/jesus/Documents/Dev/evolutivos/PD1/PD31.ipynb#ch0000041?line=9'>10</a>\u001b[0m intensidades \u001b[39m=\u001b[39m []\n",
      "\u001b[1;32m/home/jesus/Documents/Dev/evolutivos/PD1/PD31.ipynb Cell 48'\u001b[0m in \u001b[0;36m<listcomp>\u001b[0;34m(.0)\u001b[0m\n\u001b[1;32m      <a href='vscode-notebook-cell:/home/jesus/Documents/Dev/evolutivos/PD1/PD31.ipynb#ch0000041?line=1'>2</a>\u001b[0m intervalx \u001b[39m=\u001b[39m (\u001b[39m-\u001b[39m\u001b[39m4\u001b[39m , \u001b[39m-\u001b[39m\u001b[39m1\u001b[39m)\n\u001b[1;32m      <a href='vscode-notebook-cell:/home/jesus/Documents/Dev/evolutivos/PD1/PD31.ipynb#ch0000041?line=2'>3</a>\u001b[0m tamanio_poblacion  \u001b[39m=\u001b[39m \u001b[39m15\u001b[39m\n\u001b[0;32m----> <a href='vscode-notebook-cell:/home/jesus/Documents/Dev/evolutivos/PD1/PD31.ipynb#ch0000041?line=4'>5</a>\u001b[0m poblacion \u001b[39m=\u001b[39m [ Cromosoma(gen_len , [intervalx]) \u001b[39mfor\u001b[39;00m _ \u001b[39min\u001b[39;00m \u001b[39mrange\u001b[39m (\u001b[39m15\u001b[39m)]\n\u001b[1;32m      <a href='vscode-notebook-cell:/home/jesus/Documents/Dev/evolutivos/PD1/PD31.ipynb#ch0000041?line=6'>7</a>\u001b[0m iterations  \u001b[39m=\u001b[39m \u001b[39m500\u001b[39m\n\u001b[1;32m     <a href='vscode-notebook-cell:/home/jesus/Documents/Dev/evolutivos/PD1/PD31.ipynb#ch0000041?line=9'>10</a>\u001b[0m intensidades \u001b[39m=\u001b[39m []\n",
      "\u001b[1;32m/home/jesus/Documents/Dev/evolutivos/PD1/PD31.ipynb Cell 10'\u001b[0m in \u001b[0;36mCromosoma.__init__\u001b[0;34m(self, len_genes, intervals)\u001b[0m\n\u001b[1;32m      <a href='vscode-notebook-cell:/home/jesus/Documents/Dev/evolutivos/PD1/PD31.ipynb#ch0000009?line=1'>2</a>\u001b[0m \u001b[39mdef\u001b[39;00m \u001b[39m__init__\u001b[39m(\u001b[39mself\u001b[39m, len_genes: \u001b[39mlist\u001b[39m , intervals: \u001b[39mlist\u001b[39m ):\n\u001b[0;32m----> <a href='vscode-notebook-cell:/home/jesus/Documents/Dev/evolutivos/PD1/PD31.ipynb#ch0000009?line=2'>3</a>\u001b[0m     \u001b[39mif\u001b[39;00m \u001b[39mlen\u001b[39;49m(len_genes ) \u001b[39m!=\u001b[39m \u001b[39mlen\u001b[39m(intervals): \u001b[39mprint\u001b[39m(\u001b[39m\"\u001b[39m\u001b[39mTAMANIOS E INTERVALOS DIFIEREN EN CANTIDAD\u001b[39m\u001b[39m\"\u001b[39m)\n\u001b[1;32m      <a href='vscode-notebook-cell:/home/jesus/Documents/Dev/evolutivos/PD1/PD31.ipynb#ch0000009?line=4'>5</a>\u001b[0m     \u001b[39mself\u001b[39m\u001b[39m.\u001b[39mtamanios \u001b[39m=\u001b[39m len_genes\n\u001b[1;32m      <a href='vscode-notebook-cell:/home/jesus/Documents/Dev/evolutivos/PD1/PD31.ipynb#ch0000009?line=5'>6</a>\u001b[0m     \u001b[39mself\u001b[39m\u001b[39m.\u001b[39mintervals \u001b[39m=\u001b[39m intervals\n",
      "\u001b[0;31mTypeError\u001b[0m: object of type 'int' has no len()"
     ]
    }
   ],
   "source": [
    "gen_len  = 10\n",
    "intervalx = (-4 , -1)\n",
    "tamanio_poblacion  = 15\n",
    "\n",
    "poblacion = [ Cromosoma(gen_len , [intervalx]) for _ in range (15)]\n",
    "\n",
    "iterations  = 500\n",
    "\n",
    "\n",
    "intensidades = []\n",
    "\n",
    "for it in range (iterations):\n",
    "    padresSeleccionados = selecionarPares(10 , poblacion , f1 , seleccionProporcional)\n",
    "    hijos  = reproducir(padresSeleccionados , reproducirBinario)\n",
    "    hijos  = [ mutarBinario(hijo) for hijo in hijos ]\n",
    "    intensidades.append( intensidadDeSeleccion(poblacion, hijos))\n",
    "    poblacion.extend(hijos)\n",
    "    poblacion = [ seleccionTorneo(poblacion , f1 , kontestants=2) for _ in range (15) ]\n",
    "    \n",
    "    \n",
    "\n",
    "\n",
    "\n",
    "\n",
    "\n",
    "\n",
    "\n",
    "\n",
    "\n",
    "\n",
    "\n",
    "    \n",
    "\n",
    "\n",
    "\n"
   ]
  },
  {
   "cell_type": "code",
   "execution_count": null,
   "metadata": {},
   "outputs": [],
   "source": []
  }
 ],
 "metadata": {
  "interpreter": {
   "hash": "e7370f93d1d0cde622a1f8e1c04877d8463912d04d973331ad4851f04de6915a"
  },
  "kernelspec": {
   "display_name": "Python 3.8.10 64-bit",
   "language": "python",
   "name": "python3"
  },
  "language_info": {
   "codemirror_mode": {
    "name": "ipython",
    "version": 3
   },
   "file_extension": ".py",
   "mimetype": "text/x-python",
   "name": "python",
   "nbconvert_exporter": "python",
   "pygments_lexer": "ipython3",
   "version": "3.8.10"
  },
  "orig_nbformat": 4
 },
 "nbformat": 4,
 "nbformat_minor": 2
}
