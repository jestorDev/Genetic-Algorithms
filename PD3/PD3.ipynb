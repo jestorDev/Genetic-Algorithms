{
 "cells": [
  {
   "cell_type": "markdown",
   "metadata": {},
   "source": [
    "# Práctica dirigida: Representación y Selección\n",
    "\n",
    "\n",
    "a) Representación del problema (1):\n"
   ]
  },
  {
   "cell_type": "code",
   "execution_count": 1,
   "metadata": {},
   "outputs": [],
   "source": [
    "import random\n",
    "\n",
    "# Funciones para covertir entre \n",
    "# representacion de entrero <> string binario <> string codigo gray\n",
    "# \n",
    "\n",
    "def dec2BinStr(dec: int, len=0):\n",
    "    # 8 =>  \"100\"\n",
    "    a = dec\n",
    "    result = \"\"\n",
    "    if a == 0:\n",
    "        result = \"0\"\n",
    "    while(a > 0):\n",
    "        result = str(a & 1) + result\n",
    "        a = a >> 1\n",
    "\n",
    "    if len != 0:\n",
    "        result = result.zfill(len)\n",
    "    return result\n",
    "\n",
    "def binInt2GrayInt(binInt: int)->int:\n",
    "    # 8 => 12\n",
    "    # debido aque  8= \"1100\" en codigo gray\n",
    "    # y  \"1100\" = 12 en binario\n",
    "    shiftedA = binInt >> 1\n",
    "    return binInt ^ shiftedA\n",
    "\n",
    "def grayInt2BinInt(gray: int):\n",
    "    # 12 => 8\n",
    "    # inverso de la binInt2GrayInt\n",
    "    grayBits = gray\n",
    "    result = gray\n",
    "    while(grayBits > 0):\n",
    "        grayBits = grayBits >> 1\n",
    "        result = result ^ grayBits\n",
    "    return result\n",
    "\n",
    "def dec2GrayStr(dec: int, len = 0):\n",
    "    # 8 => \"1100\"\n",
    "    return dec2BinStr(binInt2GrayInt(dec) , len  )\n",
    "\n",
    "def GrayStr2dec(gray: str):\n",
    "    # \"1100\" => 8\n",
    "    return grayInt2BinInt( Str2Dec(gray) )\n",
    "\n",
    "def Str2Dec (strBin : str):\n",
    "    # \"100\" => 8\n",
    "    # \"1100\" => 12\n",
    "    return  int(strBin, 2)\n",
    "\n",
    "def scaleBinToRange ( bin:int , bin_tam:int, interval : tuple, decimals = 3):\n",
    "    hiR , loR = interval[1] , interval[0]\n",
    "    hiB  =(2**bin_tam)-1\n",
    "    \n",
    "    return  round  (loR + ( bin*((hiR - loR)/(hiB))) , decimals)\n",
    "\n"
   ]
  },
  {
   "cell_type": "code",
   "execution_count": 2,
   "metadata": {},
   "outputs": [
    {
     "data": {
      "text/plain": [
       "12"
      ]
     },
     "execution_count": 2,
     "metadata": {},
     "output_type": "execute_result"
    }
   ],
   "source": [
    "binInt2GrayInt(8)"
   ]
  },
  {
   "cell_type": "markdown",
   "metadata": {},
   "source": [
    "\n",
    "• implemente un programa en python que represente el cromosoma como una cadena binaria de 10 dı́gitos (10 bits) y muestre imprima el Fenotipo y su representación binaria para una población de 10 individuos."
   ]
  },
  {
   "cell_type": "code",
   "execution_count": 3,
   "metadata": {},
   "outputs": [
    {
     "name": "stdout",
     "output_type": "stream",
     "text": [
      " ----------------Cromosomas Binarios----------------\n",
      "Genotipo :  0101110100 ( 372 )  Fenotipo : -2.909\n",
      "Genotipo :  1000100110 ( 550 )  Fenotipo : -2.387\n",
      "Genotipo :  0111100111 ( 487 )  Fenotipo : -2.572\n",
      "Genotipo :  0111110001 ( 497 )  Fenotipo : -2.543\n",
      "Genotipo :  0110010011 ( 403 )  Fenotipo : -2.818\n",
      "Genotipo :  0100101111 ( 303 )  Fenotipo : -3.111\n",
      "Genotipo :  1000010000 ( 528 )  Fenotipo : -2.452\n",
      "Genotipo :  0111010000 ( 464 )  Fenotipo : -2.639\n",
      "Genotipo :  0000011000 ( 24 )  Fenotipo : -3.93\n",
      "Genotipo :  0000101100 ( 44 )  Fenotipo : -3.871\n"
     ]
    }
   ],
   "source": [
    "cantidad = 10\n",
    "tamanio_gen = 10\n",
    "interval = (-4 , -1)\n",
    "poblacion = []\n",
    "for i in range(cantidad):\n",
    "    poblacion.append(random.randint(0,(2**tamanio_gen)-1))\n",
    "    \n",
    "\n",
    "print(\" ----------------Cromosomas Binarios----------------\")\n",
    "for indv in poblacion :\n",
    "    geno = dec2BinStr(indv,len = tamanio_gen)\n",
    "    feno = scaleBinToRange(indv , tamanio_gen , interval)\n",
    "    print( \"Genotipo : \",  geno  , \"(\" ,indv,\")\",\" Fenotipo :\",  feno )\n"
   ]
  },
  {
   "cell_type": "code",
   "execution_count": 4,
   "metadata": {},
   "outputs": [
    {
     "data": {
      "text/plain": [
       "list"
      ]
     },
     "execution_count": 4,
     "metadata": {},
     "output_type": "execute_result"
    }
   ],
   "source": [
    "type(poblacion)"
   ]
  },
  {
   "cell_type": "markdown",
   "metadata": {},
   "source": [
    "• Realizar lo mismo del ı́tem anterior para la representación en código de Gray."
   ]
  },
  {
   "cell_type": "code",
   "execution_count": 5,
   "metadata": {},
   "outputs": [
    {
     "name": "stdout",
     "output_type": "stream",
     "text": [
      " ----------------Cromosomas Codigo gray----------------\n",
      "Genotipo :  0111001110 ( 372 )  Fenotipo : -2.909\n",
      "Genotipo :  1100110101 ( 550 )  Fenotipo : -2.387\n",
      "Genotipo :  0100010100 ( 487 )  Fenotipo : -2.572\n",
      "Genotipo :  0100001001 ( 497 )  Fenotipo : -2.543\n",
      "Genotipo :  0101011010 ( 403 )  Fenotipo : -2.818\n",
      "Genotipo :  0110111000 ( 303 )  Fenotipo : -3.111\n",
      "Genotipo :  1100011000 ( 528 )  Fenotipo : -2.452\n",
      "Genotipo :  0100111000 ( 464 )  Fenotipo : -2.639\n",
      "Genotipo :  0000010100 ( 24 )  Fenotipo : -3.93\n",
      "Genotipo :  0000111010 ( 44 )  Fenotipo : -3.871\n"
     ]
    }
   ],
   "source": [
    "print(\" ----------------Cromosomas Codigo gray----------------\")\n",
    "for indv in poblacion :\n",
    "    geno = dec2GrayStr(indv,len = tamanio_gen)\n",
    "    feno = scaleBinToRange(indv , tamanio_gen , interval)\n",
    "    print( \"Genotipo : \",  geno  , \"(\" ,indv,\")\",\" Fenotipo :\",  feno )\n"
   ]
  },
  {
   "cell_type": "markdown",
   "metadata": {},
   "source": [
    "• Considerando las representaciones anteriores (cadena de 10 bits y representación real) ¿cual seria el tamaño del espacio intrı́nseco?\n",
    "\n",
    "El tamaño es 2**10 = 1024 debido a que se pueden representar valores enteros desde el 0 hasta el 1023\n",
    "\n",
    "\n",
    "b) Representación del problema (2):"
   ]
  },
  {
   "cell_type": "code",
   "execution_count": 6,
   "metadata": {},
   "outputs": [],
   "source": [
    "class Cromosoma:\n",
    "    def __init__(self, len_genes: list , intervals: list ):\n",
    "        if len(len_genes ) != len(intervals): print(\"TAMANIOS E INTERVALOS DIFIEREN EN CANTIDAD\")\n",
    "\n",
    "        self.tamanios = len_genes\n",
    "        self.intervals = intervals\n",
    "        self.indviduos = [ random.randint(0 , 2**tam -1 ) for tam in len_genes ]\n",
    "    \n",
    "    def GensBin (self):\n",
    "        return \"\".join([dec2BinStr(indv , len=tam) for indv , tam in zip( self.indviduos , self.tamanios) ])\n",
    "\n",
    "    def GensGray (self):\n",
    "        return \"\".join([dec2BinStr(indv,tam)  for indv , tam  in zip (self.indviduos ,  self.tamanios) ])\n",
    "\n",
    "    def GenesReal (self):\n",
    "        return self.indviduos\n",
    "\n",
    "    def Fenotipos (self):\n",
    "        return [scaleBinToRange(indv , tam ,  inter )  for indv , tam ,  inter  in zip(self.indviduos , self.tamanios ,self.intervals )]\n"
   ]
  },
  {
   "cell_type": "markdown",
   "metadata": {},
   "source": [
    "• implemente un programa en python que represente el cromosoma como una cadena binaria donde x, y estén representados por 5 bits cada uno y luego muestre/imprima el Fenotipo y su representación binaria."
   ]
  },
  {
   "cell_type": "code",
   "execution_count": 7,
   "metadata": {},
   "outputs": [
    {
     "name": "stdout",
     "output_type": "stream",
     "text": [
      "Genotipo:  1000101110  Fenotipo: [0.097, -0.097]\n",
      "Genotipo:  1010110000  Fenotipo: [0.355, 0.032]\n",
      "Genotipo:  1011000001  Fenotipo: [0.419, -0.935]\n",
      "Genotipo:  1010011011  Fenotipo: [0.29, 0.742]\n",
      "Genotipo:  0110111011  Fenotipo: [-0.161, 0.742]\n",
      "Genotipo:  1000101010  Fenotipo: [0.097, -0.355]\n",
      "Genotipo:  0001110101  Fenotipo: [-0.806, 0.355]\n",
      "Genotipo:  1101101010  Fenotipo: [0.742, -0.355]\n",
      "Genotipo:  0101011001  Fenotipo: [-0.355, 0.613]\n",
      "Genotipo:  1000000010  Fenotipo: [0.032, -0.871]\n"
     ]
    }
   ],
   "source": [
    "poblacion = []\n",
    "tam_x = 5\n",
    "tam_y = 5\n",
    "intervalx = (-1 , 1) \n",
    "intervaly = (-1 , 1) \n",
    "\n",
    "for _ in range(cantidad):\n",
    "    poblacion.append(Cromosoma([tam_x,tam_y] , [intervalx, intervaly]))\n",
    "\n",
    "for cromo in poblacion:\n",
    "    print(\"Genotipo: \" , cromo.GensBin() , \" Fenotipo:\"  , cromo.Fenotipos() )"
   ]
  },
  {
   "cell_type": "markdown",
   "metadata": {},
   "source": [
    "• Realizar lo mismo del ı́tem anterior para la representación en código de Gray."
   ]
  },
  {
   "cell_type": "code",
   "execution_count": 8,
   "metadata": {},
   "outputs": [
    {
     "name": "stdout",
     "output_type": "stream",
     "text": [
      "Genotipo:  1000101110  Fenotipo: [0.097, -0.097]\n",
      "Genotipo:  1010110000  Fenotipo: [0.355, 0.032]\n",
      "Genotipo:  1011000001  Fenotipo: [0.419, -0.935]\n",
      "Genotipo:  1010011011  Fenotipo: [0.29, 0.742]\n",
      "Genotipo:  0110111011  Fenotipo: [-0.161, 0.742]\n",
      "Genotipo:  1000101010  Fenotipo: [0.097, -0.355]\n",
      "Genotipo:  0001110101  Fenotipo: [-0.806, 0.355]\n",
      "Genotipo:  1101101010  Fenotipo: [0.742, -0.355]\n",
      "Genotipo:  0101011001  Fenotipo: [-0.355, 0.613]\n",
      "Genotipo:  1000000010  Fenotipo: [0.032, -0.871]\n"
     ]
    }
   ],
   "source": [
    "for cromo in poblacion:\n",
    "    print(\"Genotipo: \" , cromo.GensGray() , \n",
    "    \" Fenotipo:\"  , cromo.Fenotipos() )"
   ]
  },
  {
   "cell_type": "markdown",
   "metadata": {},
   "source": [
    "• Realizar lo mismo del ı́tem anterior para la representación real."
   ]
  },
  {
   "cell_type": "code",
   "execution_count": 9,
   "metadata": {},
   "outputs": [
    {
     "name": "stdout",
     "output_type": "stream",
     "text": [
      "Genotipo:  [0.097, -0.097]  Fenotipo: [0.097, -0.097]\n",
      "Genotipo:  [0.355, 0.032]  Fenotipo: [0.355, 0.032]\n",
      "Genotipo:  [0.419, -0.935]  Fenotipo: [0.419, -0.935]\n",
      "Genotipo:  [0.29, 0.742]  Fenotipo: [0.29, 0.742]\n",
      "Genotipo:  [-0.161, 0.742]  Fenotipo: [-0.161, 0.742]\n",
      "Genotipo:  [0.097, -0.355]  Fenotipo: [0.097, -0.355]\n",
      "Genotipo:  [-0.806, 0.355]  Fenotipo: [-0.806, 0.355]\n",
      "Genotipo:  [0.742, -0.355]  Fenotipo: [0.742, -0.355]\n",
      "Genotipo:  [-0.355, 0.613]  Fenotipo: [-0.355, 0.613]\n",
      "Genotipo:  [0.032, -0.871]  Fenotipo: [0.032, -0.871]\n"
     ]
    }
   ],
   "source": [
    "for cromo in poblacion:\n",
    "    print(\"Genotipo: \" , cromo.Fenotipos()  ,\n",
    "     \" Fenotipo:\"  , cromo.Fenotipos() )"
   ]
  },
  {
   "cell_type": "markdown",
   "metadata": {},
   "source": [
    "\n",
    "• Considerando las representaciones anteriores (cadena de 10 bits y representación real) ¿cual\n",
    "seria el tamaño del espacio intrı́nseco?\n",
    "\n",
    "El tamaño seria (2^5)*(2^5) = 1024 ya que podemos representar del 0 al 31 con \"x\" y del mismo modo con \"y\"\n"
   ]
  },
  {
   "cell_type": "markdown",
   "metadata": {},
   "source": [
    "\n",
    "c) Representación del problema (3):\n",
    "• implemente un programa en python que represente el cromosoma como una cadena binaria donde x1 , x2 , x3 , x4 estén representados por 6 bits cada uno y luego muestre/imprima el\n",
    "Fenotipo y su representación binaria."
   ]
  },
  {
   "cell_type": "code",
   "execution_count": 10,
   "metadata": {},
   "outputs": [
    {
     "name": "stdout",
     "output_type": "stream",
     "text": [
      "[(-1, 1), (-1, 1), (-1, 1), (-1, 1), (-1, 1), (-1, 1)]\n"
     ]
    }
   ],
   "source": [
    "intervalx = (-1 , 1) \n",
    "a = [intervalx]*6\n",
    "print(a)"
   ]
  },
  {
   "cell_type": "code",
   "execution_count": 11,
   "metadata": {},
   "outputs": [
    {
     "name": "stdout",
     "output_type": "stream",
     "text": [
      "Genotipo:  000100110100110100011111  Fenotipo: [15.048, 51.619, 51.619, 35.619]\n",
      "Genotipo:  101110111100110111010001  Fenotipo: [47.048, 57.714, 53.905, 24.952]\n",
      "Genotipo:  101110001001100101011001  Fenotipo: [47.048, 18.857, 40.19, 31.048]\n",
      "Genotipo:  111011000101000100010100  Fenotipo: [56.952, 15.81, 15.048, 27.238]\n",
      "Genotipo:  010011100100011001000111  Fenotipo: [26.476, 39.429, 31.048, 17.333]\n",
      "Genotipo:  001011101100111101001011  Fenotipo: [20.381, 45.524, 58.476, 20.381]\n",
      "Genotipo:  000000001010101000011101  Fenotipo: [12.0, 19.619, 42.476, 34.095]\n",
      "Genotipo:  001100010001101010110110  Fenotipo: [21.143, 24.952, 44.0, 53.143]\n",
      "Genotipo:  111101111011110011101111  Fenotipo: [58.476, 56.952, 50.857, 47.81]\n",
      "Genotipo:  101011101101000101011001  Fenotipo: [44.762, 46.286, 15.81, 31.048]\n"
     ]
    }
   ],
   "source": [
    "poblacion = []\n",
    "tam_x = 6\n",
    "intervalx = (12 , 60) \n",
    "\n",
    "for _ in range(cantidad):\n",
    "    poblacion.append(Cromosoma([tam_x]*4 , [intervalx] * 4))\n",
    "\n",
    "for cromo in poblacion:\n",
    "    print(\"Genotipo: \" , cromo.GensBin() , \" Fenotipo:\"  , cromo.Fenotipos() )"
   ]
  },
  {
   "cell_type": "markdown",
   "metadata": {},
   "source": [
    "• Realizar lo mismo del ı́tem anterior para la representación en código de Gray."
   ]
  },
  {
   "cell_type": "code",
   "execution_count": 12,
   "metadata": {},
   "outputs": [
    {
     "name": "stdout",
     "output_type": "stream",
     "text": [
      "Genotipo:  000100110100110100011111  Fenotipo: [15.048, 51.619, 51.619, 35.619]\n",
      "Genotipo:  101110111100110111010001  Fenotipo: [47.048, 57.714, 53.905, 24.952]\n",
      "Genotipo:  101110001001100101011001  Fenotipo: [47.048, 18.857, 40.19, 31.048]\n",
      "Genotipo:  111011000101000100010100  Fenotipo: [56.952, 15.81, 15.048, 27.238]\n",
      "Genotipo:  010011100100011001000111  Fenotipo: [26.476, 39.429, 31.048, 17.333]\n",
      "Genotipo:  001011101100111101001011  Fenotipo: [20.381, 45.524, 58.476, 20.381]\n",
      "Genotipo:  000000001010101000011101  Fenotipo: [12.0, 19.619, 42.476, 34.095]\n",
      "Genotipo:  001100010001101010110110  Fenotipo: [21.143, 24.952, 44.0, 53.143]\n",
      "Genotipo:  111101111011110011101111  Fenotipo: [58.476, 56.952, 50.857, 47.81]\n",
      "Genotipo:  101011101101000101011001  Fenotipo: [44.762, 46.286, 15.81, 31.048]\n"
     ]
    }
   ],
   "source": [
    "for cromo in poblacion:\n",
    "    print(\"Genotipo: \" , cromo.GensGray() , \n",
    "    \" Fenotipo:\"  , cromo.Fenotipos() )"
   ]
  },
  {
   "cell_type": "markdown",
   "metadata": {},
   "source": [
    "• Realizar lo mismo del ı́tem anterior para la representación real."
   ]
  },
  {
   "cell_type": "code",
   "execution_count": 13,
   "metadata": {},
   "outputs": [
    {
     "name": "stdout",
     "output_type": "stream",
     "text": [
      "Genotipo:  [15.048, 51.619, 51.619, 35.619]  Fenotipo: [15.048, 51.619, 51.619, 35.619]\n",
      "Genotipo:  [47.048, 57.714, 53.905, 24.952]  Fenotipo: [47.048, 57.714, 53.905, 24.952]\n",
      "Genotipo:  [47.048, 18.857, 40.19, 31.048]  Fenotipo: [47.048, 18.857, 40.19, 31.048]\n",
      "Genotipo:  [56.952, 15.81, 15.048, 27.238]  Fenotipo: [56.952, 15.81, 15.048, 27.238]\n",
      "Genotipo:  [26.476, 39.429, 31.048, 17.333]  Fenotipo: [26.476, 39.429, 31.048, 17.333]\n",
      "Genotipo:  [20.381, 45.524, 58.476, 20.381]  Fenotipo: [20.381, 45.524, 58.476, 20.381]\n",
      "Genotipo:  [12.0, 19.619, 42.476, 34.095]  Fenotipo: [12.0, 19.619, 42.476, 34.095]\n",
      "Genotipo:  [21.143, 24.952, 44.0, 53.143]  Fenotipo: [21.143, 24.952, 44.0, 53.143]\n",
      "Genotipo:  [58.476, 56.952, 50.857, 47.81]  Fenotipo: [58.476, 56.952, 50.857, 47.81]\n",
      "Genotipo:  [44.762, 46.286, 15.81, 31.048]  Fenotipo: [44.762, 46.286, 15.81, 31.048]\n"
     ]
    }
   ],
   "source": [
    "for cromo in poblacion:\n",
    "    print(\"Genotipo: \" , cromo.Fenotipos()  ,\n",
    "     \" Fenotipo:\"  , cromo.Fenotipos() )"
   ]
  },
  {
   "cell_type": "markdown",
   "metadata": {},
   "source": [
    "• Considerando las representaciones anteriores (cadena de bits, representación real) ¿cual seria el tamaño del espacio intrı́nseco?\n",
    "\n",
    "El tamaño seria (2^6)\\*(2^6)\\*(2^6)*(2^6) = 16777216 ya que podemos representar del 0 al 63 con cada uno de los genes.\n"
   ]
  },
  {
   "cell_type": "code",
   "execution_count": 14,
   "metadata": {},
   "outputs": [
    {
     "data": {
      "text/plain": [
       "16777216"
      ]
     },
     "execution_count": 14,
     "metadata": {},
     "output_type": "execute_result"
    }
   ],
   "source": [
    "(2**6)*(2**6)*(2**6)*(2**6)"
   ]
  },
  {
   "cell_type": "code",
   "execution_count": 15,
   "metadata": {},
   "outputs": [],
   "source": [
    "from math import cos , sin , pi\n",
    "\n",
    "def f1 ( x : int):\n",
    "    return x**4 + 5* x**3 + 4*x**2 - 4 * x +1\n",
    "\n",
    "def f2 ( x : int , y :int):\n",
    "    return  0.2 + x**2 + y**2 - 0.1 * cos(6*pi * x) - 0.1 * sin(6 * pi * y)\n",
    "\n",
    "def f3 ( x1 : int , x2 : int, x3 : int ,x4 : int ):\n",
    "    return  ((1/6.931) - ((x1*x2)/(x3*x4)))\n"
   ]
  },
  {
   "cell_type": "code",
   "execution_count": 16,
   "metadata": {},
   "outputs": [
    {
     "name": "stdout",
     "output_type": "stream",
     "text": [
      "-5\n",
      "0.1\n",
      "-999.8557206752272\n"
     ]
    }
   ],
   "source": [
    "print(f1 (*[-3]))\n",
    "print(f2 (*[0 , 0]))\n",
    "print(f3 (*[1000,1,1,1]))"
   ]
  },
  {
   "cell_type": "code",
   "execution_count": 17,
   "metadata": {},
   "outputs": [],
   "source": [
    "def printList(listI, title ):\n",
    "    # Imprimir lista de elementos\n",
    "    print(title , \"-----------------\")\n",
    "    for ind in listI:\n",
    "        print(\"\\t\" , ind)\n",
    "\n",
    "\n",
    "def sortBy(a : list , b : list , mayoresPrimero = True):\n",
    "    #ordena la primera lista segun la segunda lista\n",
    "    pares  =  [ (ai , bi) for ai,bi in zip(a,b)]\n",
    "    ordenados = sorted(pares , key = lambda x : x[1], reverse=mayoresPrimero)\n",
    "    return  [x[0] for x  in ordenados]\n",
    "\n"
   ]
  },
  {
   "cell_type": "markdown",
   "metadata": {},
   "source": [
    "2. Gestión de la población: de la teorı́a se sabe que los métodos de selección son independientes del método de representación del algoritmo evolutivo, implemente los siguientes métodos de selección en python:\n"
   ]
  },
  {
   "cell_type": "markdown",
   "metadata": {},
   "source": [
    "- método de selección proporcional"
   ]
  },
  {
   "cell_type": "code",
   "execution_count": 28,
   "metadata": {},
   "outputs": [
    {
     "name": "stdout",
     "output_type": "stream",
     "text": [
      "[-4, -5, -4, -1, 4, 11]\n",
      "[([-1], 0.2), ([0], 0.21), ([1], 0.2), ([2], 0.18), ([3], 0.14), ([4], 0.08)]\n",
      "[([0], 0.21), ([-1], 0.2), ([1], 0.2), ([2], 0.18)]\n"
     ]
    }
   ],
   "source": [
    "def seleccionProporcional (fenos:list ,cantidad:int  , f ,transpose_Value =10 ,mayoresPrimero = True):\n",
    "    fitness =  [ f (*feno) for feno in fenos ]\n",
    "    maxFitness = max(fitness)\n",
    "    print (fitness)\n",
    "\n",
    "    #maxFitness - fit siempre es positivo\n",
    "    # maximizar esta diferencia halla los minimos\n",
    "    fitness =  [  maxFitness - fit + transpose_Value for fit in fitness ]\n",
    "    sumFitness  = sum(fitness)\n",
    "    indvScore =  [par for par in zip(fenos ,  [ round(fit/sumFitness ,2) for fit in fitness ])]\n",
    "    print (indvScore)\n",
    "    ordenProporcional = sorted(indvScore , key  = lambda x : x[1] * random.random() ,reverse=mayoresPrimero)\n",
    "    return ordenProporcional[:cantidad]\n",
    "\n",
    "print(seleccionProporcional([[-1] , [0] , [1],[2],[3],[4]], 4 , lambda x : x**2 -5 , mayoresPrimero=True ))\n"
   ]
  },
  {
   "cell_type": "markdown",
   "metadata": {},
   "source": [
    "# Item a\n",
    "## Representacion del problema"
   ]
  },
  {
   "cell_type": "code",
   "execution_count": 20,
   "metadata": {},
   "outputs": [
    {
     "ename": "IndentationError",
     "evalue": "unindent does not match any outer indentation level (<tokenize>, line 16)",
     "output_type": "error",
     "traceback": [
      "\u001b[0;36m  File \u001b[0;32m<tokenize>:16\u001b[0;36m\u001b[0m\n\u001b[0;31m    = cromosoma(10)\u001b[0m\n\u001b[0m    ^\u001b[0m\n\u001b[0;31mIndentationError\u001b[0m\u001b[0;31m:\u001b[0m unindent does not match any outer indentation level\n"
     ]
    }
   ],
   "source": [
    "class cromosoma:\n",
    "    def __init__(self, nDigitos , isGraycode = False):\n",
    "        self.isGraycode = isGraycode\n",
    "        self.nDigitos = nDigitos\n",
    "\n",
    "    def decToBin(self,n):\n",
    "        decToBin(n , self.nDigitos)\n",
    "\n",
    "    def print( self , n):\n",
    "        print (\"Fenotipo :\"  , n   , \"Genotipo\" , self.decToBin(n))\n",
    "\n",
    "    def printGrayCode( self , n):\n",
    "        print (\"Fenotipo :\"  , n   , \"Genotipo\" , self.decToBin(n))\n",
    "\n",
    "\n",
    " = cromosoma(10)\n",
    "\n",
    "cromosomas = [  ]\n"
   ]
  },
  {
   "cell_type": "code",
   "execution_count": null,
   "metadata": {},
   "outputs": [],
   "source": []
  },
  {
   "cell_type": "code",
   "execution_count": null,
   "metadata": {},
   "outputs": [],
   "source": []
  }
 ],
 "metadata": {
  "interpreter": {
   "hash": "e7370f93d1d0cde622a1f8e1c04877d8463912d04d973331ad4851f04de6915a"
  },
  "kernelspec": {
   "display_name": "Python 3.8.10 64-bit",
   "language": "python",
   "name": "python3"
  },
  "language_info": {
   "codemirror_mode": {
    "name": "ipython",
    "version": 3
   },
   "file_extension": ".py",
   "mimetype": "text/x-python",
   "name": "python",
   "nbconvert_exporter": "python",
   "pygments_lexer": "ipython3",
   "version": "3.8.10"
  },
  "orig_nbformat": 4
 },
 "nbformat": 4,
 "nbformat_minor": 2
}
