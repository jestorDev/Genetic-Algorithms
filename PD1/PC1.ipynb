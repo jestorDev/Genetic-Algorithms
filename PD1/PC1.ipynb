{
 "cells": [
  {
   "cell_type": "markdown",
   "metadata": {},
   "source": [
    "\n",
    "\n"
   ]
  },
  {
   "cell_type": "code",
   "execution_count": 1,
   "metadata": {},
   "outputs": [],
   "source": [
    "import random\n",
    "import sys\n",
    "\n",
    "\n",
    "def randomInteger(limit):\n",
    "    return random.randint(-limit, limit)\n",
    "\n",
    "\n",
    "def selecionar(cantidad=8):\n",
    "    seleccion = []\n",
    "    for _ in range(cantidad):\n",
    "        seleccion.append([#xyzwv\n",
    "            randomInteger(50), randomInteger(50),\n",
    "            randomInteger(50), randomInteger(50), randomInteger(50)])\n",
    "    return seleccion\n",
    "\n",
    "\n",
    "poblacion = selecionar()\n"
   ]
  },
  {
   "cell_type": "markdown",
   "metadata": {},
   "source": [
    "Generamos una poblacion de ejemplo "
   ]
  },
  {
   "cell_type": "code",
   "execution_count": 2,
   "metadata": {},
   "outputs": [
    {
     "name": "stdout",
     "output_type": "stream",
     "text": [
      "[[27, 19, 20, -45, 4], [-10, 26, -46, -30, 48], [-19, 19, 16, 15, 1], [5, -33, 6, -10, -28], [7, 45, -1, 21, -25], [4, -40, -28, -32, -8], [-4, -50, -28, -3, 23], [33, -5, -38, -9, 13]]\n"
     ]
    }
   ],
   "source": [
    "print(poblacion)"
   ]
  },
  {
   "cell_type": "code",
   "execution_count": 3,
   "metadata": {},
   "outputs": [
    {
     "data": {
      "text/plain": [
       "50"
      ]
     },
     "execution_count": 3,
     "metadata": {},
     "output_type": "execute_result"
    }
   ],
   "source": [
    "import math\n",
    "\n",
    "\n",
    "def funcionAptitud(invividuo: list) -> int:\n",
    "    x=invividuo[0]\n",
    "    y=invividuo[1]\n",
    "    z=invividuo[2]\n",
    "    w=invividuo[3]\n",
    "    v=invividuo[4]\n",
    "    fx = ( x + 2 * y + 3 * z + 4 *w + 5 * v)\n",
    "    ## El minimo es 0 \n",
    "    ## Cuando la suma da 50\n",
    "    return  abs ( fx - 50) \n",
    "\n",
    "#Si todos son 0 la aptitud vale 50\n",
    "funcionAptitud([0,0,0,0,0])"
   ]
  },
  {
   "cell_type": "code",
   "execution_count": 4,
   "metadata": {},
   "outputs": [
    {
     "name": "stdout",
     "output_type": "stream",
     "text": [
      "Invividuo [27, 19, 20, -45, 4]  aptitud 85\n",
      "Invividuo [-10, 26, -46, -30, 48]  aptitud 26\n",
      "Invividuo [-19, 19, 16, 15, 1]  aptitud 82\n",
      "Invividuo [5, -33, 6, -10, -28]  aptitud 273\n",
      "Invividuo [7, 45, -1, 21, -25]  aptitud 3\n",
      "Invividuo [4, -40, -28, -32, -8]  aptitud 378\n",
      "Invividuo [-4, -50, -28, -3, 23]  aptitud 135\n",
      "Invividuo [33, -5, -38, -9, 13]  aptitud 112\n"
     ]
    }
   ],
   "source": [
    "for invividuo in poblacion:\n",
    "    print( \"Invividuo\" , invividuo  , \" aptitud\" , funcionAptitud(invividuo))"
   ]
  },
  {
   "cell_type": "code",
   "execution_count": 5,
   "metadata": {},
   "outputs": [],
   "source": [
    "def reproduccionPar(invividuoA: list, invividuoB: list) -> tuple:\n",
    "    point = random.randint(1, len(invividuoA) - 2)\n",
    "    new1 = invividuoA[:point] + invividuoB[point:]\n",
    "    \n",
    "    # ratio de 100% siempre se reproduce\n",
    "    return new1\n"
   ]
  },
  {
   "cell_type": "markdown",
   "metadata": {},
   "source": []
  },
  {
   "cell_type": "code",
   "execution_count": 6,
   "metadata": {},
   "outputs": [
    {
     "name": "stdout",
     "output_type": "stream",
     "text": [
      "[0, 0, 1, 1]\n"
     ]
    }
   ],
   "source": [
    "print(reproduccionPar([0,0,0,0], [1,1,1,1]))\n"
   ]
  },
  {
   "cell_type": "code",
   "execution_count": 7,
   "metadata": {},
   "outputs": [
    {
     "data": {
      "text/plain": [
       "[[-19, 19, -28, -3, 23], [-19, 19, 16, -9, 13], [-10, 45, -1, 21, -25]]"
      ]
     },
     "execution_count": 7,
     "metadata": {},
     "output_type": "execute_result"
    }
   ],
   "source": [
    "\n",
    "import itertools \n",
    "def cruzamiento(poblacionInicio :list , cantidadDeHijos= 16):\n",
    "    # genera cantidad de hijos apartir de pob inicial\n",
    "\n",
    "    #Genera todos los pares\n",
    "    # 1 ,2,3 -> (1,2),(2,3),(1,3)\n",
    "    todosLosPares= list(itertools.combinations(poblacionInicio , 2) )\n",
    "\n",
    "    #Ordenamiento aleatorio\n",
    "    # (1,2),(2,3),(1,3) -> (2,3),(1,3),(1,2) \n",
    "    random.shuffle(todosLosPares)\n",
    "    \n",
    "    #[:solo hasta la cantidad deseada]\n",
    "    seleccionados =  todosLosPares [:cantidadDeHijos]\n",
    "\n",
    "    hijos  = [ reproduccionPar(parSelecto[0],parSelecto[1]) for parSelecto in seleccionados ]\n",
    "    return hijos\n",
    "\n",
    "\n",
    "cruzamiento(poblacion, cantidadDeHijos=3)\n",
    "\n",
    "\n",
    "\n",
    "\n"
   ]
  },
  {
   "cell_type": "code",
   "execution_count": 8,
   "metadata": {},
   "outputs": [],
   "source": [
    "def mutarIndividuo(individuo:list , punto = -1):\n",
    "    # Seleccion de elemento a cambiar\n",
    "    punto = random.randint(0, len(individuo)-1) \n",
    "    #  primera parte + elemeto mutado + resto\n",
    "    mutated = individuo[:punto] +[individuo[punto] + randomInteger(50)] + individuo[punto+1:]\n",
    "    return mutated\n",
    "\n",
    "def mutarPoblacion( poblacion , ratioDeMutacion = 0.1):\n",
    "    poblacionMutada= []\n",
    "    for invividuo in poblacion:\n",
    "        # solo un porcentaje% se muta\n",
    "        if (random.random() < ratioDeMutacion):\n",
    "            poblacionMutada.append(mutarIndividuo(invividuo))\n",
    "        else:\n",
    "            poblacionMutada.append(invividuo)\n",
    "    return poblacionMutada\n"
   ]
  },
  {
   "cell_type": "code",
   "execution_count": 9,
   "metadata": {},
   "outputs": [],
   "source": [
    "\n",
    "def probailidadDeSeleccion( nuevaPoblacion : list):\n",
    "    aptitudes = [funcionAptitud(invividuo) for invividuo in nuevaPoblacion ]\n",
    "    sumaAptitudes = sum (aptitudes)\n",
    "    probabilidades = [ aptitudDeIndividuo/sumaAptitudes for   aptitudDeIndividuo in aptitudes ]\n",
    "    return probabilidades\n",
    "\n",
    "\n",
    "def selecionarSiguientes(nuevaPoblacion: list, probabilidades: list, cantidadDeSeleccionados: int):\n",
    "    parIndividuoProbabilidad = [{\"indv\":indv , \"prob\":prob} for indv , prob in zip (nuevaPoblacion, probabilidades)]\n",
    "    \n",
    "    # ordenamiento aleatorio con peso\n",
    "    # menor probabilidad tiende al comienzo y mayor tiende al final\n",
    "    parIndividuoProbabilidad.sort(key = lambda par:  random.random() * par[\"prob\"] , reverse=True)\n",
    "    \n",
    "    #print(\"parIndividuoProbabilidad\" , parIndividuoProbabilidad)\n",
    "\n",
    "    selecionados =[indvSelecto[\"indv\"] for indvSelecto in parIndividuoProbabilidad[:cantidadDeSeleccionados]]\n",
    "\n",
    "    return selecionados\n"
   ]
  },
  {
   "cell_type": "code",
   "execution_count": null,
   "metadata": {},
   "outputs": [],
   "source": []
  },
  {
   "cell_type": "code",
   "execution_count": 20,
   "metadata": {},
   "outputs": [],
   "source": [
    "## Algoritmo Canonico\n",
    "\n",
    "def Optimizar ( iteraciones):\n",
    "    poblacion= selecionar(cantidad=8)\n",
    "    max_fit = 1000\n",
    "    \n",
    "    for it in range(iteraciones):\n",
    "\n",
    "        nuevaPoblacion = cruzamiento(poblacion, cantidadDeHijos= 8)\n",
    "        nuevaPoblacionMutada = mutarPoblacion(nuevaPoblacion , ratioDeMutacion=0.1)\n",
    "        probabilidadDeContinuar = probailidadDeSeleccion(nuevaPoblacionMutada)\n",
    "        poblacion = selecionarSiguientes(nuevaPoblacionMutada , probabilidadDeContinuar, cantidadDeSeleccionados=8)\n",
    "        \n",
    "        \n",
    "        #Mostar informacion -----------------------------------------------------\n",
    "\n",
    "        max_fit = min(poblacion, key=lambda individ : funcionAptitud(individ))\n",
    "        print( \"it \" ,it, \" Max fit:\",max_fit , \"fitnss:\" , funcionAptitud(max_fit))\n",
    "        if  funcionAptitud(max_fit) == 0:break\n",
    "\n",
    "\n",
    "    return sorted(poblacion , key =lambda individ : funcionAptitud(individ) )[0]\n",
    "\n"
   ]
  },
  {
   "cell_type": "code",
   "execution_count": null,
   "metadata": {},
   "outputs": [],
   "source": []
  },
  {
   "cell_type": "code",
   "execution_count": 21,
   "metadata": {},
   "outputs": [
    {
     "name": "stdout",
     "output_type": "stream",
     "text": [
      "it  0  Max fit: [-7, 28, 43, -13, -17] fitnss: 9\n",
      "it  1  Max fit: [-7, 72, 14, -14, -14] fitnss: 3\n",
      "it  2  Max fit: [-7, 72, 14, -13, -17] fitnss: 8\n",
      "it  3  Max fit: [-33, -37, -18, -5, 43] fitnss: 16\n",
      "it  4  Max fit: [-33, 28, -18, -5, 43] fitnss: 114\n",
      "it  5  Max fit: [-33, 28, 43, -13, -17] fitnss: 35\n",
      "it  6  Max fit: [-33, 28, 61, -13, -17] fitnss: 19\n",
      "it  7  Max fit: [-33, -37, 26, -5, 43] fitnss: 116\n",
      "it  8  Max fit: [-33, 28, 26, -13, -17] fitnss: 86\n",
      "it  9  Max fit: [-33, -37, -32, -5, 43] fitnss: 58\n",
      "it  10  Max fit: [-53, -37, -32, -5, 43] fitnss: 78\n",
      "it  11  Max fit: [-53, 28, -18, -5, 43] fitnss: 94\n",
      "it  12  Max fit: [-53, 28, -18, -5, 43] fitnss: 94\n",
      "it  13  Max fit: [-95, 28, -18, -5, 43] fitnss: 52\n",
      "it  14  Max fit: [-53, 28, -18, -5, 43] fitnss: 94\n",
      "it  15  Max fit: [-53, -37, -18, -5, 43] fitnss: 36\n",
      "it  16  Max fit: [-53, -37, -18, -5, 43] fitnss: 36\n",
      "it  17  Max fit: [-53, -37, -18, -5, 43] fitnss: 36\n",
      "it  18  Max fit: [-13, -37, -18, -5, 43] fitnss: 4\n",
      "it  19  Max fit: [-53, -37, -18, -5, 43] fitnss: 36\n",
      "it  20  Max fit: [-53, -37, -18, -5, 43] fitnss: 36\n",
      "it  21  Max fit: [-53, 66, -18, -51, 43] fitnss: 14\n",
      "it  22  Max fit: [-53, 66, -18, -51, 43] fitnss: 14\n",
      "it  23  Max fit: [-53, 66, -18, -51, 43] fitnss: 14\n",
      "it  24  Max fit: [-25, 66, -18, -51, 43] fitnss: 14\n",
      "it  25  Max fit: [-25, 66, -18, -51, 43] fitnss: 14\n",
      "it  26  Max fit: [-53, 66, -18, -51, 43] fitnss: 14\n",
      "it  27  Max fit: [-53, 66, -18, -51, 43] fitnss: 14\n",
      "it  28  Max fit: [-53, 66, -18, -51, 43] fitnss: 14\n",
      "it  29  Max fit: [-53, 66, -18, -51, 43] fitnss: 14\n",
      "it  30  Max fit: [-53, 28, -3, -51, 43] fitnss: 45\n",
      "it  31  Max fit: [-53, 28, -3, -51, 43] fitnss: 45\n",
      "it  32  Max fit: [-53, 28, -3, -51, 43] fitnss: 45\n",
      "it  33  Max fit: [-53, 28, -18, -51, 43] fitnss: 90\n",
      "it  34  Max fit: [-53, 28, -18, -35, 43] fitnss: 26\n",
      "it  35  Max fit: [-53, 28, -18, -35, 43] fitnss: 26\n",
      "it  36  Max fit: [-53, 28, -18, -35, 43] fitnss: 26\n",
      "it  37  Max fit: [-53, 28, -18, -35, 43] fitnss: 26\n",
      "it  38  Max fit: [-53, 28, -18, -35, 43] fitnss: 26\n",
      "it  39  Max fit: [-53, 28, -18, -35, 43] fitnss: 26\n",
      "it  40  Max fit: [-53, 28, -18, -35, 43] fitnss: 26\n",
      "it  41  Max fit: [-39, 28, -18, -35, 43] fitnss: 12\n",
      "it  42  Max fit: [-53, 28, -18, -35, 43] fitnss: 26\n",
      "it  43  Max fit: [-53, 28, -18, -35, 43] fitnss: 26\n",
      "it  44  Max fit: [-53, 28, -18, -35, 43] fitnss: 26\n",
      "it  45  Max fit: [-53, 28, -18, -35, 43] fitnss: 26\n",
      "it  46  Max fit: [-53, 28, -18, -35, 43] fitnss: 26\n",
      "it  47  Max fit: [-53, 28, -18, -35, 43] fitnss: 26\n",
      "it  48  Max fit: [-49, 38, -18, -35, 43] fitnss: 2\n",
      "it  49  Max fit: [-53, 69, -18, -43, 43] fitnss: 24\n",
      "it  50  Max fit: [-49, 69, -18, -43, 43] fitnss: 28\n",
      "it  51  Max fit: [-53, 69, -18, -43, 43] fitnss: 24\n",
      "it  52  Max fit: [-53, -10, -18, -35, 43] fitnss: 102\n",
      "it  53  Max fit: [-53, -55, -18, -35, 84] fitnss: 13\n",
      "it  54  Max fit: [-53, -10, -18, -35, 43] fitnss: 102\n",
      "it  55  Max fit: [-64, -10, 15, -35, 43] fitnss: 14\n",
      "it  56  Max fit: [-53, -10, 15, -35, 43] fitnss: 3\n",
      "it  57  Max fit: [-61, -10, 15, -35, 43] fitnss: 11\n",
      "it  58  Max fit: [-53, -10, 15, -35, 43] fitnss: 3\n",
      "it  59  Max fit: [-53, -10, 15, -35, 43] fitnss: 3\n",
      "it  60  Max fit: [-53, -10, 15, -35, 43] fitnss: 3\n",
      "it  61  Max fit: [-53, -10, 15, -35, 43] fitnss: 3\n",
      "it  62  Max fit: [-64, -3, 15, -35, 43] fitnss: 0\n"
     ]
    }
   ],
   "source": [
    "optimo = Optimizar(10000)"
   ]
  },
  {
   "cell_type": "code",
   "execution_count": 22,
   "metadata": {},
   "outputs": [],
   "source": [
    "def printList(listI, title ):\n",
    "    print(title , \"-----------------\")\n",
    "    for ind in listI:\n",
    "\n",
    "        print(\"\\t\" , ind)\n",
    "\n",
    "\n",
    "def PruebaDeEscritorioOptimizar ( iteraciones):\n",
    "    poblacion= selecionar(cantidad=8)\n",
    "    max_fit = 1000\n",
    "    \n",
    "    for it in range(iteraciones):\n",
    "\n",
    "        \n",
    "        nuevaPoblacion = cruzamiento(poblacion, cantidadDeHijos= 8)\n",
    "        printList(nuevaPoblacion,\"cruzamiento\")\n",
    "        nuevaPoblacionMutada = mutarPoblacion(nuevaPoblacion , ratioDeMutacion=0.1)\n",
    "        printList(nuevaPoblacionMutada,\"mutarPoblacion\")\n",
    "        probabilidadDeContinuar = probailidadDeSeleccion(nuevaPoblacionMutada)\n",
    "        printList(probabilidadDeContinuar,\"probailidadDeSeleccion\")\n",
    "        poblacion = selecionarSiguientes(nuevaPoblacionMutada , probabilidadDeContinuar, cantidadDeSeleccionados=8)\n",
    "        printList(poblacion,\"selecionarSiguientes\")\n",
    "        \n",
    "        #Mostar informacion -----------------------------------------------------\n",
    "\n",
    "        max_fit = min(poblacion, key=lambda individ : funcionAptitud(individ))\n",
    "        print( \"it \" ,it, \" Max fit:\",max_fit , \"fitnss:\" , funcionAptitud(max_fit))\n",
    "        if  funcionAptitud(max_fit) == 0:break\n",
    "\n",
    "\n",
    "    return sorted(poblacion , key =lambda individ : funcionAptitud(individ) )[0]"
   ]
  },
  {
   "cell_type": "code",
   "execution_count": 23,
   "metadata": {},
   "outputs": [
    {
     "name": "stdout",
     "output_type": "stream",
     "text": [
      "cruzamiento -----------------\n",
      "\t [23, 19, -49, 2, -17]\n",
      "\t [-23, 48, 39, -29, 35]\n",
      "\t [40, -1, 39, -29, 35]\n",
      "\t [-23, 40, 41, -17, 42]\n",
      "\t [27, -19, 27, 33, 41]\n",
      "\t [-23, 19, -49, 2, -17]\n",
      "\t [23, 38, -20, -17, 42]\n",
      "\t [-23, 27, -31, -39, -4]\n",
      "mutarPoblacion -----------------\n",
      "\t [23, 19, -49, 2, -17]\n",
      "\t [-23, 48, 39, -29, 35]\n",
      "\t [40, -1, 39, -29, 59]\n",
      "\t [-23, 40, 41, -17, 42]\n",
      "\t [27, -19, 27, 33, 41]\n",
      "\t [-23, 19, -49, 2, -17]\n",
      "\t [23, 38, -20, -17, 42]\n",
      "\t [-23, 27, -31, -39, -4]\n",
      "probailidadDeSeleccion -----------------\n",
      "\t 0.10634048926610085\n",
      "\t 0.09935097353969047\n",
      "\t 0.1417873190214678\n",
      "\t 0.13579630554168748\n",
      "\t 0.1782326510234648\n",
      "\t 0.1293060409385921\n",
      "\t 0.0654018971542686\n",
      "\t 0.14378432351472792\n",
      "selecionarSiguientes -----------------\n",
      "\t [40, -1, 39, -29, 59]\n",
      "\t [-23, 19, -49, 2, -17]\n",
      "\t [-23, 27, -31, -39, -4]\n",
      "\t [-23, 40, 41, -17, 42]\n",
      "\t [23, 19, -49, 2, -17]\n",
      "\t [27, -19, 27, 33, 41]\n",
      "\t [-23, 48, 39, -29, 35]\n",
      "\t [23, 38, -20, -17, 42]\n",
      "it  0  Max fit: [23, 38, -20, -17, 42] fitnss: 131\n",
      "cruzamiento -----------------\n",
      "\t [-23, 19, -20, -17, 42]\n",
      "\t [-23, 27, -49, 2, -17]\n",
      "\t [-23, 27, -20, -17, 42]\n",
      "\t [-23, 19, -49, 2, -17]\n",
      "\t [-23, 38, -20, -17, 42]\n",
      "\t [40, -1, -20, -17, 42]\n",
      "\t [-23, 48, 39, -29, 35]\n",
      "\t [-23, 38, -20, -17, 42]\n",
      "mutarPoblacion -----------------\n",
      "\t [-23, 19, -20, -17, 42]\n",
      "\t [-59, 27, -49, 2, -17]\n",
      "\t [-23, 27, -20, -17, 42]\n",
      "\t [-23, 19, -49, 2, -17]\n",
      "\t [-23, 38, -20, -17, 65]\n",
      "\t [40, -1, -20, -17, 42]\n",
      "\t [-23, 48, 39, -29, 35]\n",
      "\t [-23, 38, -20, -17, 42]\n",
      "probailidadDeSeleccion -----------------\n",
      "\t 0.039101497504159734\n",
      "\t 0.23211314475873543\n",
      "\t 0.0524126455906822\n",
      "\t 0.21547420965058237\n",
      "\t 0.16638935108153077\n",
      "\t 0.05823627287853577\n",
      "\t 0.16555740432612312\n",
      "\t 0.07071547420965059\n",
      "selecionarSiguientes -----------------\n",
      "\t [-23, 19, -49, 2, -17]\n",
      "\t [-23, 38, -20, -17, 65]\n",
      "\t [-23, 19, -20, -17, 42]\n",
      "\t [-23, 38, -20, -17, 42]\n",
      "\t [-23, 27, -20, -17, 42]\n",
      "\t [-59, 27, -49, 2, -17]\n",
      "\t [-23, 48, 39, -29, 35]\n",
      "\t [40, -1, -20, -17, 42]\n",
      "it  1  Max fit: [-23, 19, -20, -17, 42] fitnss: 47\n"
     ]
    }
   ],
   "source": [
    "optimo = PruebaDeEscritorioOptimizar(2)"
   ]
  },
  {
   "cell_type": "code",
   "execution_count": null,
   "metadata": {},
   "outputs": [],
   "source": []
  },
  {
   "cell_type": "code",
   "execution_count": null,
   "metadata": {},
   "outputs": [],
   "source": []
  }
 ],
 "metadata": {
  "interpreter": {
   "hash": "e7370f93d1d0cde622a1f8e1c04877d8463912d04d973331ad4851f04de6915a"
  },
  "kernelspec": {
   "display_name": "Python 3.8.10 64-bit",
   "language": "python",
   "name": "python3"
  },
  "language_info": {
   "codemirror_mode": {
    "name": "ipython",
    "version": 3
   },
   "file_extension": ".py",
   "mimetype": "text/x-python",
   "name": "python",
   "nbconvert_exporter": "python",
   "pygments_lexer": "ipython3",
   "version": "3.8.10"
  },
  "orig_nbformat": 4
 },
 "nbformat": 4,
 "nbformat_minor": 2
}
