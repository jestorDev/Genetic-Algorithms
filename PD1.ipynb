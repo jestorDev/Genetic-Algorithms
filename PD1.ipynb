{
 "cells": [
  {
   "cell_type": "markdown",
   "metadata": {},
   "source": [
    "# Práctica dirigida: Fundamentos de los AE\n"
   ]
  },
  {
   "cell_type": "code",
   "execution_count": 1,
   "metadata": {},
   "outputs": [],
   "source": [
    "import math\n",
    "import random\n"
   ]
  },
  {
   "cell_type": "markdown",
   "metadata": {},
   "source": [
    "### 0.1 Representación de un decimal en binario"
   ]
  },
  {
   "cell_type": "code",
   "execution_count": 2,
   "metadata": {},
   "outputs": [
    {
     "name": "stdout",
     "output_type": "stream",
     "text": [
      "0\n",
      "100\n",
      "1011000\n",
      "1111111\n",
      "1001110\n",
      "1001111\n"
     ]
    }
   ],
   "source": [
    "\n",
    "def decToBin(dec:int, len = 0):\n",
    "    a = dec\n",
    "    result = \"\"\n",
    "    if a == 0: result = \"0\"\n",
    "    while(a > 0):\n",
    "        result = str(a&1) +result\n",
    "        a = a >> 1\n",
    "\n",
    "    if len != 0: result = result.zfill(len) \n",
    "    return  result\n",
    "\n",
    "\n",
    "\n",
    "\n",
    "print(decToBin(0 ))\n",
    "print(decToBin(4 ))\n",
    "print(decToBin(0b1011000))\n",
    "print(decToBin(0b1111111))\n",
    "print(decToBin(78))#\t1001110\n",
    "print(decToBin(79))#\t1001111\n",
    "\n"
   ]
  },
  {
   "cell_type": "code",
   "execution_count": 3,
   "metadata": {},
   "outputs": [
    {
     "name": "stdout",
     "output_type": "stream",
     "text": [
      "0\n",
      "1\n",
      "11\n",
      "10\n",
      "110\n",
      "0\n",
      "1\n",
      "10\n",
      "11\n",
      "100\n"
     ]
    }
   ],
   "source": [
    "def binToGray (a : int):\n",
    "    shiftedA =  a >> 1\n",
    "    return a ^ shiftedA\n",
    "\n",
    "def grayToBin (gray : int):\n",
    "    grayBits= gray\n",
    "    result  = gray\n",
    "    while(grayBits > 0 ):\n",
    "        grayBits =grayBits >> 1\n",
    "        result = result ^ grayBits\n",
    "    return result\n",
    "\n",
    "\n",
    "print(decToBin(binToGray(0b0000)))\n",
    "print(decToBin(binToGray(0b0001)))\n",
    "print(decToBin(binToGray(0b0010)))\n",
    "print(decToBin(binToGray(0b0011)))\n",
    "print(decToBin(binToGray(0b0100)))\n",
    "\n",
    "print(decToBin(grayToBin(0b00000)))\n",
    "print(decToBin(grayToBin(0b00001)))\n",
    "print(decToBin(grayToBin(0b00011)))\n",
    "print(decToBin(grayToBin(0b00010)))\n",
    "print(decToBin(grayToBin(0b00110)))\n",
    "\n"
   ]
  },
  {
   "cell_type": "markdown",
   "metadata": {},
   "source": [
    "### 0.2 Generar individuos"
   ]
  },
  {
   "cell_type": "code",
   "execution_count": 19,
   "metadata": {},
   "outputs": [
    {
     "name": "stdout",
     "output_type": "stream",
     "text": [
      "(['0000', '0001', '0010', '0011', '0100', '0101', '0110', '0111', '1000', '1001', '1010'], [-5, -4, -3, -2, -1, 0, 1, 2, 3, 4, 5])\n",
      "(['0000', '0001', '0011', '0010', '0110', '0111', '0101', '0100', '1100', '1101', '1111'], [-5, -4, -3, -2, -1, 0, 1, 2, 3, 4, 5])\n"
     ]
    }
   ],
   "source": [
    "class Domain:\n",
    "    def __init__(self, min, max, step):\n",
    "        self.min = min\n",
    "        self.max = max\n",
    "        self.step = step\n",
    "        self.len = round((max - min) / step) + 1\n",
    "        self.maxBin = self.toBinScale(max)\n",
    "        self.genSize = len(decToBin(self.maxBin))\n",
    "        \n",
    "\n",
    "    def toBinScale( self , n  ):\n",
    "        return round((n - self.min) / self.step)\n",
    "\n",
    "    def toDomScale( self , n  ):\n",
    "        return int(n * self.step + self.min)\n",
    "    \n",
    "    def toBinaryList(self , a :list):\n",
    "        return [decToBin(x, self.genSize) for x in a] \n",
    "\n",
    "    def toValuesList(self , a :list):\n",
    "        return [self.toDomScale(x) for x in a] \n",
    "\n",
    "\n",
    "\n",
    "def generateAll(min , max , step , generateGray = False ):\n",
    "    result = []\n",
    "    domain =  Domain(min ,  max  , step)\n",
    "    for i in range (0, domain.maxBin +1):\n",
    "        result.append(i)\n",
    "    \n",
    "    resultBin = [binToGray(x) for x in result] if generateGray else result\n",
    "\n",
    "    return domain.toBinaryList(resultBin),  domain.toValuesList(result)\n",
    "\n",
    "\n",
    "print(generateAll(-5 , 5 , 1 ))\n",
    "\n",
    "print(generateAll(-5 , 5 , 1 , generateGray= True))\n"
   ]
  },
  {
   "cell_type": "code",
   "execution_count": 20,
   "metadata": {},
   "outputs": [],
   "source": [
    "def generateRandom(number ,domain:Domain , generateGray=False ):\n",
    "    selection = random.sample(range(0, domain.maxBin), number)\n",
    "\n",
    "    selectionBin = [binToGray(x) for x  in selection] if generateGray else selection\n",
    "\n",
    "    return domain.toBinaryList(selectionBin) , domain.toValuesList(selection)\n"
   ]
  },
  {
   "cell_type": "code",
   "execution_count": 23,
   "metadata": {},
   "outputs": [
    {
     "name": "stdout",
     "output_type": "stream",
     "text": [
      "(['0001', '0100', '0110', '1000', '0111', '0101', '0011', '1001', '0010', '0000'], [-4, -1, 1, 3, 2, 0, -2, 4, -3, -5])\n"
     ]
    }
   ],
   "source": [
    "print(generateRandom ( 10,Domain (-5 , 5 , 1 ))) \n"
   ]
  },
  {
   "cell_type": "code",
   "execution_count": 24,
   "metadata": {},
   "outputs": [
    {
     "name": "stdout",
     "output_type": "stream",
     "text": [
      "(['0101', '0110', '0001', '0000', '0011', '1100', '1101', '0100', '0010', '0111'], [1, -1, -4, -5, -3, 3, 4, 2, -2, 0])\n"
     ]
    }
   ],
   "source": [
    "print(generateRandom ( 10,Domain (-5 , 5 , 1 ) , generateGray=True)) \n"
   ]
  },
  {
   "cell_type": "code",
   "execution_count": 27,
   "metadata": {},
   "outputs": [
    {
     "name": "stdout",
     "output_type": "stream",
     "text": [
      "(['0110', '0001', '0101', '0000', '0010', '0100', '1000', '1001', '0011', '0111'], [1, -4, 0, -5, -3, -1, 3, 4, -2, 2])\n",
      "(['0000', '0001', '0010', '0100', '1100', '0011', '1101', '0111', '0110', '0101'], [-5, -4, -2, 2, 3, -3, 4, 0, -1, 1])\n",
      "(['0011', '0001', '0111', '0101', '1000', '0100', '0110', '0010', '0000', '1001'], [3, 1, 7, 5, 8, 4, 6, 2, 0, 9])\n",
      "(['0011', '0101', '0001', '0110', '0000', '1101', '0111', '1100', '0100', '0010'], [2, 6, 1, 4, 0, 9, 5, 8, 7, 3])\n"
     ]
    }
   ],
   "source": [
    "\n",
    "#x ∈ [−5, 5] binario\n",
    "print(generateRandom ( 10,Domain (-5 , 5 , 1 ) )) #Genera en forma binaria standard\n",
    "#x ∈ [−5, 5] gray code\n",
    "print(generateRandom ( 10,Domain (-5 , 5 , 1 ) , generateGray=True)) \n",
    "\n",
    "#y ∈ [0, 10] binario\n",
    "print(generateRandom ( 10,Domain (0 , 10 , 1 ) )) \n",
    "#y ∈ [0, 10] grey code\n",
    "print(generateRandom ( 10,Domain (0 , 10 , 1 ) , generateGray=True)) \n"
   ]
  },
  {
   "cell_type": "markdown",
   "metadata": {},
   "source": [
    "###  0.3 Construyendo los operadores básicos"
   ]
  },
  {
   "cell_type": "code",
   "execution_count": 57,
   "metadata": {},
   "outputs": [
    {
     "name": "stdout",
     "output_type": "stream",
     "text": [
      "['0011', '1001', '0100', '0010']\n",
      "1100\n",
      "['0011', '1001']\n",
      "1110\n"
     ]
    }
   ],
   "source": [
    "class Population :\n",
    "    def __init__(self, domain:Domain , size:int , usingGrayCode = False):\n",
    "        self.domain = domain\n",
    "        self.size = size\n",
    "        self.usingGrayCode = usingGrayCode\n",
    "        self.population= self.initialPopulation()\n",
    "    \n",
    "    def populationValues(self):\n",
    "        return [self.domain.toDomScale(int(x , 2)) for x in self.population]\n",
    "\n",
    "    def  initialPopulation(self):\n",
    "        return generateRandom(self.size ,self.domain , self.usingGrayCode )[0]\n",
    "        \n",
    "    def reconbination(self , gena:str , genb :str ):\n",
    "        point  =random.randint(1,self.domain.genSize -1) \n",
    "        return  gena [:point] + genb [point:] \n",
    "    \n",
    "    def seleccion(self , size):\n",
    "        self.population = random.sample(self.population, size)\n",
    "\n",
    "    def mutation (self , gen :str ):\n",
    "        point  =random.randint(1,self.domain.genSize -1) \n",
    "        return gen [:point] + (\"1\" if gen[point] == \"0\" else \"0\") + gen [point+1:]\n",
    "\n",
    "\n",
    "population55 = Population (Domain(-5 , 5 , 1) , 4)\n",
    "print(population55.population)\n",
    "\n",
    "\n",
    "print(population55.reconbination(\"1111\" , \"0000\" ))\n",
    "\n",
    "population55.seleccion(2)\n",
    "print(population55.population)\n",
    "\n",
    "\n",
    "print(population55.mutation(\"1111\"))\n"
   ]
  },
  {
   "cell_type": "code",
   "execution_count": 58,
   "metadata": {},
   "outputs": [
    {
     "name": "stdout",
     "output_type": "stream",
     "text": [
      "[1, 2, 2, 3] ['01000', '01100', '00101', '01011']\n"
     ]
    }
   ],
   "source": [
    "def optimize (pop:Population , iterations:int , f):\n",
    "    # Algoritmo canonico\n",
    "    for i in range(iterations):\n",
    "        fitness =  [f(x) for x in pop.populationValues()]\n",
    "        print(fitness , pop.population)\n",
    "\n",
    "\n",
    "toOptimize = lambda x : bin(x).count(\"1\")\n",
    "optimize(Population (Domain(0 , 16 , 1) , 4), 1, toOptimize)\n",
    "\n"
   ]
  },
  {
   "cell_type": "code",
   "execution_count": 50,
   "metadata": {},
   "outputs": [
    {
     "data": {
      "text/plain": [
       "[(1, 2), (1, 3), (1, 4)]"
      ]
     },
     "execution_count": 50,
     "metadata": {},
     "output_type": "execute_result"
    }
   ],
   "source": [
    "[x for x in zip([1,1,1] ,[2,3,4])]"
   ]
  },
  {
   "cell_type": "code",
   "execution_count": null,
   "metadata": {},
   "outputs": [],
   "source": []
  }
 ],
 "metadata": {
  "interpreter": {
   "hash": "e7370f93d1d0cde622a1f8e1c04877d8463912d04d973331ad4851f04de6915a"
  },
  "kernelspec": {
   "display_name": "Python 3.8.10 64-bit",
   "language": "python",
   "name": "python3"
  },
  "language_info": {
   "name": "python",
   "version": "3.8.10"
  },
  "orig_nbformat": 4
 },
 "nbformat": 4,
 "nbformat_minor": 2
}
